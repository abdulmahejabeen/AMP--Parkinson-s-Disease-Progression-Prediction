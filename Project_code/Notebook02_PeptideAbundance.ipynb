{
  "metadata": {
    "kernelspec": {
      "name": "python3",
      "display_name": "Python 3",
      "language": "python"
    },
    "language_info": {
      "name": "python",
      "version": "3.10.10",
      "mimetype": "text/x-python",
      "codemirror_mode": {
        "name": "ipython",
        "version": 3
      },
      "pygments_lexer": "ipython3",
      "nbconvert_exporter": "python",
      "file_extension": ".py"
    },
    "papermill": {
      "default_parameters": {},
      "duration": 220.880163,
      "end_time": "2023-04-27T20:42:17.226268",
      "environment_variables": {},
      "exception": null,
      "input_path": "__notebook__.ipynb",
      "output_path": "__notebook__.ipynb",
      "parameters": {},
      "start_time": "2023-04-27T20:38:36.346105",
      "version": "2.4.0"
    },
    "colab": {
      "provenance": []
    }
  },
  "nbformat_minor": 5,
  "nbformat": 4,
  "cells": [
    {
      "cell_type": "markdown",
      "source": [
        "# Models using PeptideAbundance as Feature"
      ],
      "metadata": {
        "id": "zlsPb0QOLl70"
      },
      "id": "zlsPb0QOLl70"
    },
    {
      "cell_type": "code",
      "source": [
        "import pandas as pd\n",
        "import numpy as np\n",
        "import seaborn as sns\n",
        "import matplotlib.pyplot as plt\n",
        "from sklearn import model_selection\n",
        "from sklearn import metrics\n",
        "from sklearn.model_selection import train_test_split\n",
        "from sklearn.compose import make_column_transformer\n",
        "from sklearn.impute import KNNImputer\n",
        "from sklearn.preprocessing import StandardScaler\n",
        "from sklearn.compose import ColumnTransformer, make_column_selector\n",
        "from sklearn.pipeline import make_pipeline\n",
        "import tensorflow.keras.backend as K\n",
        "import tensorflow as tf\n",
        "from tensorflow.keras.layers import Input\n",
        "from tensorflow.keras.layers import Dense\n",
        "from tensorflow.keras.layers import BatchNormalization\n",
        "from tensorflow.keras.layers import Dropout\n",
        "from tensorflow.keras import Model\n",
        "from tensorflow.keras.models import Sequential\n",
        "from tensorflow.keras import regularizers\n",
        "from tensorflow.keras.layers import Input, LSTM, GRU, Dense, SimpleRNN\n",
        "import warnings\n",
        "warnings.filterwarnings(\"ignore\")\n"
      ],
      "metadata": {
        "papermill": {
          "duration": 1.018073,
          "end_time": "2023-04-27T20:38:46.905282",
          "exception": false,
          "start_time": "2023-04-27T20:38:45.887209",
          "status": "completed"
        },
        "tags": [],
        "execution": {
          "iopub.status.busy": "2023-05-08T23:18:14.718810Z",
          "iopub.execute_input": "2023-05-08T23:18:14.719218Z",
          "iopub.status.idle": "2023-05-08T23:18:14.727869Z",
          "shell.execute_reply.started": "2023-05-08T23:18:14.719188Z",
          "shell.execute_reply": "2023-05-08T23:18:14.726532Z"
        },
        "trusted": true,
        "id": "tyJ7uqWbLl72"
      },
      "execution_count": null,
      "outputs": [],
      "id": "tyJ7uqWbLl72"
    },
    {
      "cell_type": "code",
      "source": [
        "df_train_clin = pd.read_csv(\"/kaggle/input/amp-parkinsons-disease-progression-prediction/train_clinical_data.csv\")\n",
        "df_train_pept = pd.read_csv(\"/kaggle/input/amp-parkinsons-disease-progression-prediction/train_peptides.csv\")\n",
        "df_train_prot = pd.read_csv(\"/kaggle/input/amp-parkinsons-disease-progression-prediction/train_proteins.csv\")"
      ],
      "metadata": {
        "papermill": {
          "duration": 1.562957,
          "end_time": "2023-04-27T20:38:48.491550",
          "exception": false,
          "start_time": "2023-04-27T20:38:46.928593",
          "status": "completed"
        },
        "tags": [],
        "execution": {
          "iopub.status.busy": "2023-05-08T22:23:04.801021Z",
          "iopub.execute_input": "2023-05-08T22:23:04.801773Z",
          "iopub.status.idle": "2023-05-08T22:23:06.933731Z",
          "shell.execute_reply.started": "2023-05-08T22:23:04.801737Z",
          "shell.execute_reply": "2023-05-08T22:23:06.932639Z"
        },
        "trusted": true,
        "id": "Nj_ZFHAILl73"
      },
      "execution_count": null,
      "outputs": [],
      "id": "Nj_ZFHAILl73"
    },
    {
      "cell_type": "markdown",
      "source": [
        "### Clincal Training Data"
      ],
      "metadata": {
        "papermill": {
          "duration": 0.007499,
          "end_time": "2023-04-27T20:38:48.524665",
          "exception": false,
          "start_time": "2023-04-27T20:38:48.517166",
          "status": "completed"
        },
        "tags": [],
        "id": "sxEQuWWaLl73"
      },
      "id": "sxEQuWWaLl73"
    },
    {
      "cell_type": "code",
      "source": [
        "df_train_clin.head(10)"
      ],
      "metadata": {
        "papermill": {
          "duration": 0.037614,
          "end_time": "2023-04-27T20:38:48.569895",
          "exception": false,
          "start_time": "2023-04-27T20:38:48.532281",
          "status": "completed"
        },
        "tags": [],
        "execution": {
          "iopub.status.busy": "2023-05-08T22:23:06.935323Z",
          "iopub.execute_input": "2023-05-08T22:23:06.936045Z",
          "iopub.status.idle": "2023-05-08T22:23:06.980443Z",
          "shell.execute_reply.started": "2023-05-08T22:23:06.936000Z",
          "shell.execute_reply": "2023-05-08T22:23:06.978905Z"
        },
        "trusted": true,
        "id": "Yv0IWcZKLl73",
        "outputId": "02249533-1958-437f-e569-2d640c9e9762"
      },
      "execution_count": null,
      "outputs": [
        {
          "execution_count": 5,
          "output_type": "execute_result",
          "data": {
            "text/plain": "  visit_id  patient_id  visit_month  updrs_1  updrs_2  updrs_3  updrs_4  \\\n0     55_0          55            0     10.0      6.0     15.0      NaN   \n1     55_3          55            3     10.0      7.0     25.0      NaN   \n2     55_6          55            6      8.0     10.0     34.0      NaN   \n3     55_9          55            9      8.0      9.0     30.0      0.0   \n4    55_12          55           12     10.0     10.0     41.0      0.0   \n5    55_18          55           18      7.0     13.0     38.0      0.0   \n6    55_24          55           24     16.0      9.0     49.0      0.0   \n7    55_30          55           30     14.0     13.0     49.0      0.0   \n8    55_36          55           36     17.0     18.0     51.0      0.0   \n9    55_42          55           42     12.0     20.0     41.0      0.0   \n\n  upd23b_clinical_state_on_medication  \n0                                 NaN  \n1                                 NaN  \n2                                 NaN  \n3                                  On  \n4                                  On  \n5                                  On  \n6                                  On  \n7                                  On  \n8                                  On  \n9                                  On  ",
            "text/html": "<div>\n<style scoped>\n    .dataframe tbody tr th:only-of-type {\n        vertical-align: middle;\n    }\n\n    .dataframe tbody tr th {\n        vertical-align: top;\n    }\n\n    .dataframe thead th {\n        text-align: right;\n    }\n</style>\n<table border=\"1\" class=\"dataframe\">\n  <thead>\n    <tr style=\"text-align: right;\">\n      <th></th>\n      <th>visit_id</th>\n      <th>patient_id</th>\n      <th>visit_month</th>\n      <th>updrs_1</th>\n      <th>updrs_2</th>\n      <th>updrs_3</th>\n      <th>updrs_4</th>\n      <th>upd23b_clinical_state_on_medication</th>\n    </tr>\n  </thead>\n  <tbody>\n    <tr>\n      <th>0</th>\n      <td>55_0</td>\n      <td>55</td>\n      <td>0</td>\n      <td>10.0</td>\n      <td>6.0</td>\n      <td>15.0</td>\n      <td>NaN</td>\n      <td>NaN</td>\n    </tr>\n    <tr>\n      <th>1</th>\n      <td>55_3</td>\n      <td>55</td>\n      <td>3</td>\n      <td>10.0</td>\n      <td>7.0</td>\n      <td>25.0</td>\n      <td>NaN</td>\n      <td>NaN</td>\n    </tr>\n    <tr>\n      <th>2</th>\n      <td>55_6</td>\n      <td>55</td>\n      <td>6</td>\n      <td>8.0</td>\n      <td>10.0</td>\n      <td>34.0</td>\n      <td>NaN</td>\n      <td>NaN</td>\n    </tr>\n    <tr>\n      <th>3</th>\n      <td>55_9</td>\n      <td>55</td>\n      <td>9</td>\n      <td>8.0</td>\n      <td>9.0</td>\n      <td>30.0</td>\n      <td>0.0</td>\n      <td>On</td>\n    </tr>\n    <tr>\n      <th>4</th>\n      <td>55_12</td>\n      <td>55</td>\n      <td>12</td>\n      <td>10.0</td>\n      <td>10.0</td>\n      <td>41.0</td>\n      <td>0.0</td>\n      <td>On</td>\n    </tr>\n    <tr>\n      <th>5</th>\n      <td>55_18</td>\n      <td>55</td>\n      <td>18</td>\n      <td>7.0</td>\n      <td>13.0</td>\n      <td>38.0</td>\n      <td>0.0</td>\n      <td>On</td>\n    </tr>\n    <tr>\n      <th>6</th>\n      <td>55_24</td>\n      <td>55</td>\n      <td>24</td>\n      <td>16.0</td>\n      <td>9.0</td>\n      <td>49.0</td>\n      <td>0.0</td>\n      <td>On</td>\n    </tr>\n    <tr>\n      <th>7</th>\n      <td>55_30</td>\n      <td>55</td>\n      <td>30</td>\n      <td>14.0</td>\n      <td>13.0</td>\n      <td>49.0</td>\n      <td>0.0</td>\n      <td>On</td>\n    </tr>\n    <tr>\n      <th>8</th>\n      <td>55_36</td>\n      <td>55</td>\n      <td>36</td>\n      <td>17.0</td>\n      <td>18.0</td>\n      <td>51.0</td>\n      <td>0.0</td>\n      <td>On</td>\n    </tr>\n    <tr>\n      <th>9</th>\n      <td>55_42</td>\n      <td>55</td>\n      <td>42</td>\n      <td>12.0</td>\n      <td>20.0</td>\n      <td>41.0</td>\n      <td>0.0</td>\n      <td>On</td>\n    </tr>\n  </tbody>\n</table>\n</div>"
          },
          "metadata": {}
        }
      ],
      "id": "Yv0IWcZKLl73"
    },
    {
      "cell_type": "code",
      "source": [
        "print(f'Unique Clinical Data patient #: {df_train_clin[\"patient_id\"].nunique()}')\n",
        "print(\"----------------------------------------------------------\")\n",
        "print(f'Null Values Found in Clinical Data:')\n",
        "for col in df_train_clin.columns:\n",
        "    print(f'Null values found in {col}: {df_train_clin[col].isna().sum()}')\n",
        "print('')"
      ],
      "metadata": {
        "papermill": {
          "duration": 0.02734,
          "end_time": "2023-04-27T20:38:48.605297",
          "exception": false,
          "start_time": "2023-04-27T20:38:48.577957",
          "status": "completed"
        },
        "tags": [],
        "execution": {
          "iopub.status.busy": "2023-05-08T22:23:06.982362Z",
          "iopub.execute_input": "2023-05-08T22:23:06.982923Z",
          "iopub.status.idle": "2023-05-08T22:23:07.007913Z",
          "shell.execute_reply.started": "2023-05-08T22:23:06.982872Z",
          "shell.execute_reply": "2023-05-08T22:23:07.006705Z"
        },
        "trusted": true,
        "id": "9J67uNkZLl74",
        "outputId": "6ebc51e7-c4ba-49d2-90c0-7c7eeeaef28b"
      },
      "execution_count": null,
      "outputs": [
        {
          "name": "stdout",
          "text": "Unique Clinical Data patient #: 248\n----------------------------------------------------------\nNull Values Found in Clinical Data:\nNull values found in visit_id: 0\nNull values found in patient_id: 0\nNull values found in visit_month: 0\nNull values found in updrs_1: 1\nNull values found in updrs_2: 2\nNull values found in updrs_3: 25\nNull values found in updrs_4: 1038\nNull values found in upd23b_clinical_state_on_medication: 1327\n\n",
          "output_type": "stream"
        }
      ],
      "id": "9J67uNkZLl74"
    },
    {
      "cell_type": "markdown",
      "source": [
        "### Peptide training data"
      ],
      "metadata": {
        "id": "yXwmMOdKLl74"
      },
      "id": "yXwmMOdKLl74"
    },
    {
      "cell_type": "code",
      "source": [
        "df_train_pept.head(10)"
      ],
      "metadata": {
        "papermill": {
          "duration": 0.025268,
          "end_time": "2023-04-27T20:38:48.654514",
          "exception": false,
          "start_time": "2023-04-27T20:38:48.629246",
          "status": "completed"
        },
        "tags": [],
        "execution": {
          "iopub.status.busy": "2023-05-08T22:23:07.012796Z",
          "iopub.execute_input": "2023-05-08T22:23:07.014626Z",
          "iopub.status.idle": "2023-05-08T22:23:07.037787Z",
          "shell.execute_reply.started": "2023-05-08T22:23:07.014580Z",
          "shell.execute_reply": "2023-05-08T22:23:07.036180Z"
        },
        "trusted": true,
        "id": "myFmTuIOLl75",
        "outputId": "2ae9e304-5ec5-4d80-a269-368c5dab172c"
      },
      "execution_count": null,
      "outputs": [
        {
          "execution_count": 7,
          "output_type": "execute_result",
          "data": {
            "text/plain": "  visit_id  visit_month  patient_id UniProt  \\\n0     55_0            0          55  O00391   \n1     55_0            0          55  O00533   \n2     55_0            0          55  O00533   \n3     55_0            0          55  O00533   \n4     55_0            0          55  O00533   \n5     55_0            0          55  O00533   \n6     55_0            0          55  O00533   \n7     55_0            0          55  O00533   \n8     55_0            0          55  O00533   \n9     55_0            0          55  O00584   \n\n                                  Peptide  PeptideAbundance  \n0                           NEQEQPLGQWHLS           11254.3  \n1                             GNPEPTFSWTK          102060.0  \n2                         IEIPSSVQQVPTIIK          174185.0  \n3  KPQSAVYSTGSNGILLC(UniMod_4)EAEGEPQPTIK           27278.9  \n4                            SMEQNGPGLEYR           30838.7  \n5                        TLKIENVSYQDKGNYR           23216.5  \n6                               VIAVNEVGR          170878.0  \n7                           VMTPAVYAPYDVK          148771.0  \n8                     VNGSPVDNHPFAGDVVFPR           55202.1  \n9                              ELDLNSVLLK           27229.3  ",
            "text/html": "<div>\n<style scoped>\n    .dataframe tbody tr th:only-of-type {\n        vertical-align: middle;\n    }\n\n    .dataframe tbody tr th {\n        vertical-align: top;\n    }\n\n    .dataframe thead th {\n        text-align: right;\n    }\n</style>\n<table border=\"1\" class=\"dataframe\">\n  <thead>\n    <tr style=\"text-align: right;\">\n      <th></th>\n      <th>visit_id</th>\n      <th>visit_month</th>\n      <th>patient_id</th>\n      <th>UniProt</th>\n      <th>Peptide</th>\n      <th>PeptideAbundance</th>\n    </tr>\n  </thead>\n  <tbody>\n    <tr>\n      <th>0</th>\n      <td>55_0</td>\n      <td>0</td>\n      <td>55</td>\n      <td>O00391</td>\n      <td>NEQEQPLGQWHLS</td>\n      <td>11254.3</td>\n    </tr>\n    <tr>\n      <th>1</th>\n      <td>55_0</td>\n      <td>0</td>\n      <td>55</td>\n      <td>O00533</td>\n      <td>GNPEPTFSWTK</td>\n      <td>102060.0</td>\n    </tr>\n    <tr>\n      <th>2</th>\n      <td>55_0</td>\n      <td>0</td>\n      <td>55</td>\n      <td>O00533</td>\n      <td>IEIPSSVQQVPTIIK</td>\n      <td>174185.0</td>\n    </tr>\n    <tr>\n      <th>3</th>\n      <td>55_0</td>\n      <td>0</td>\n      <td>55</td>\n      <td>O00533</td>\n      <td>KPQSAVYSTGSNGILLC(UniMod_4)EAEGEPQPTIK</td>\n      <td>27278.9</td>\n    </tr>\n    <tr>\n      <th>4</th>\n      <td>55_0</td>\n      <td>0</td>\n      <td>55</td>\n      <td>O00533</td>\n      <td>SMEQNGPGLEYR</td>\n      <td>30838.7</td>\n    </tr>\n    <tr>\n      <th>5</th>\n      <td>55_0</td>\n      <td>0</td>\n      <td>55</td>\n      <td>O00533</td>\n      <td>TLKIENVSYQDKGNYR</td>\n      <td>23216.5</td>\n    </tr>\n    <tr>\n      <th>6</th>\n      <td>55_0</td>\n      <td>0</td>\n      <td>55</td>\n      <td>O00533</td>\n      <td>VIAVNEVGR</td>\n      <td>170878.0</td>\n    </tr>\n    <tr>\n      <th>7</th>\n      <td>55_0</td>\n      <td>0</td>\n      <td>55</td>\n      <td>O00533</td>\n      <td>VMTPAVYAPYDVK</td>\n      <td>148771.0</td>\n    </tr>\n    <tr>\n      <th>8</th>\n      <td>55_0</td>\n      <td>0</td>\n      <td>55</td>\n      <td>O00533</td>\n      <td>VNGSPVDNHPFAGDVVFPR</td>\n      <td>55202.1</td>\n    </tr>\n    <tr>\n      <th>9</th>\n      <td>55_0</td>\n      <td>0</td>\n      <td>55</td>\n      <td>O00584</td>\n      <td>ELDLNSVLLK</td>\n      <td>27229.3</td>\n    </tr>\n  </tbody>\n</table>\n</div>"
          },
          "metadata": {}
        }
      ],
      "id": "myFmTuIOLl75"
    },
    {
      "cell_type": "code",
      "source": [
        "print(f'Unique Peptide Data patient #: {df_train_pept[\"patient_id\"].nunique()}')\n",
        "print(f'Unique Peptides #: {df_train_pept[\"Peptide\"].nunique()}')\n",
        "print(\"----------------------------------------------------------\")\n",
        "print(f'Null Values Found in Peptide Data:')\n",
        "for col in df_train_pept.columns:\n",
        "    print(f'Null values found in {col}: {df_train_pept[col].isna().sum()}')\n",
        "print('')"
      ],
      "metadata": {
        "papermill": {
          "duration": 0.205397,
          "end_time": "2023-04-27T20:38:48.868174",
          "exception": false,
          "start_time": "2023-04-27T20:38:48.662777",
          "status": "completed"
        },
        "tags": [],
        "execution": {
          "iopub.status.busy": "2023-05-08T22:23:07.039858Z",
          "iopub.execute_input": "2023-05-08T22:23:07.040618Z",
          "iopub.status.idle": "2023-05-08T22:23:07.291958Z",
          "shell.execute_reply.started": "2023-05-08T22:23:07.040571Z",
          "shell.execute_reply": "2023-05-08T22:23:07.290687Z"
        },
        "trusted": true,
        "id": "Z8cT3Mh8Ll75",
        "outputId": "6418ad46-576e-4bd9-f447-88cd6ea207ed"
      },
      "execution_count": null,
      "outputs": [
        {
          "name": "stdout",
          "text": "Unique Peptide Data patient #: 248\nUnique Peptides #: 968\n----------------------------------------------------------\nNull Values Found in Peptide Data:\nNull values found in visit_id: 0\nNull values found in visit_month: 0\nNull values found in patient_id: 0\nNull values found in UniProt: 0\nNull values found in Peptide: 0\nNull values found in PeptideAbundance: 0\n\n",
          "output_type": "stream"
        }
      ],
      "id": "Z8cT3Mh8Ll75"
    },
    {
      "cell_type": "markdown",
      "source": [
        "### Protein Training Data"
      ],
      "metadata": {
        "papermill": {
          "duration": 0.008244,
          "end_time": "2023-04-27T20:38:48.885620",
          "exception": false,
          "start_time": "2023-04-27T20:38:48.877376",
          "status": "completed"
        },
        "tags": [],
        "id": "0LjO7_GkLl75"
      },
      "id": "0LjO7_GkLl75"
    },
    {
      "cell_type": "code",
      "source": [
        "df_train_prot.head(10)"
      ],
      "metadata": {
        "papermill": {
          "duration": 0.023957,
          "end_time": "2023-04-27T20:38:48.917934",
          "exception": false,
          "start_time": "2023-04-27T20:38:48.893977",
          "status": "completed"
        },
        "tags": [],
        "execution": {
          "iopub.status.busy": "2023-05-08T22:23:07.293260Z",
          "iopub.execute_input": "2023-05-08T22:23:07.293635Z",
          "iopub.status.idle": "2023-05-08T22:23:07.308130Z",
          "shell.execute_reply.started": "2023-05-08T22:23:07.293604Z",
          "shell.execute_reply": "2023-05-08T22:23:07.306785Z"
        },
        "trusted": true,
        "id": "C_SscqspLl75",
        "outputId": "92fd8c2e-2b66-43a9-f516-da03c0844f52"
      },
      "execution_count": null,
      "outputs": [
        {
          "execution_count": 9,
          "output_type": "execute_result",
          "data": {
            "text/plain": "  visit_id  visit_month  patient_id UniProt        NPX\n0     55_0            0          55  O00391   11254.30\n1     55_0            0          55  O00533  732430.00\n2     55_0            0          55  O00584   39585.80\n3     55_0            0          55  O14498   41526.90\n4     55_0            0          55  O14773   31238.00\n5     55_0            0          55  O14791    4202.71\n6     55_0            0          55  O15240  177775.00\n7     55_0            0          55  O15394   62898.20\n8     55_0            0          55  O43505  333376.00\n9     55_0            0          55  O60888  166850.00",
            "text/html": "<div>\n<style scoped>\n    .dataframe tbody tr th:only-of-type {\n        vertical-align: middle;\n    }\n\n    .dataframe tbody tr th {\n        vertical-align: top;\n    }\n\n    .dataframe thead th {\n        text-align: right;\n    }\n</style>\n<table border=\"1\" class=\"dataframe\">\n  <thead>\n    <tr style=\"text-align: right;\">\n      <th></th>\n      <th>visit_id</th>\n      <th>visit_month</th>\n      <th>patient_id</th>\n      <th>UniProt</th>\n      <th>NPX</th>\n    </tr>\n  </thead>\n  <tbody>\n    <tr>\n      <th>0</th>\n      <td>55_0</td>\n      <td>0</td>\n      <td>55</td>\n      <td>O00391</td>\n      <td>11254.30</td>\n    </tr>\n    <tr>\n      <th>1</th>\n      <td>55_0</td>\n      <td>0</td>\n      <td>55</td>\n      <td>O00533</td>\n      <td>732430.00</td>\n    </tr>\n    <tr>\n      <th>2</th>\n      <td>55_0</td>\n      <td>0</td>\n      <td>55</td>\n      <td>O00584</td>\n      <td>39585.80</td>\n    </tr>\n    <tr>\n      <th>3</th>\n      <td>55_0</td>\n      <td>0</td>\n      <td>55</td>\n      <td>O14498</td>\n      <td>41526.90</td>\n    </tr>\n    <tr>\n      <th>4</th>\n      <td>55_0</td>\n      <td>0</td>\n      <td>55</td>\n      <td>O14773</td>\n      <td>31238.00</td>\n    </tr>\n    <tr>\n      <th>5</th>\n      <td>55_0</td>\n      <td>0</td>\n      <td>55</td>\n      <td>O14791</td>\n      <td>4202.71</td>\n    </tr>\n    <tr>\n      <th>6</th>\n      <td>55_0</td>\n      <td>0</td>\n      <td>55</td>\n      <td>O15240</td>\n      <td>177775.00</td>\n    </tr>\n    <tr>\n      <th>7</th>\n      <td>55_0</td>\n      <td>0</td>\n      <td>55</td>\n      <td>O15394</td>\n      <td>62898.20</td>\n    </tr>\n    <tr>\n      <th>8</th>\n      <td>55_0</td>\n      <td>0</td>\n      <td>55</td>\n      <td>O43505</td>\n      <td>333376.00</td>\n    </tr>\n    <tr>\n      <th>9</th>\n      <td>55_0</td>\n      <td>0</td>\n      <td>55</td>\n      <td>O60888</td>\n      <td>166850.00</td>\n    </tr>\n  </tbody>\n</table>\n</div>"
          },
          "metadata": {}
        }
      ],
      "id": "C_SscqspLl75"
    },
    {
      "cell_type": "code",
      "source": [
        "print(f'Unique Protein Data patient #: {df_train_prot[\"patient_id\"].nunique()}')\n",
        "print(f'Unique Proteins #: {df_train_prot[\"UniProt\"].nunique()}')\n",
        "print(\"----------------------------------------------------------\")\n",
        "print(f'Null Values Found in Protein Data:')\n",
        "for col in df_train_prot.columns:\n",
        "    print(f'Null values found in {col}: {df_train_prot[col].isna().sum()}')\n",
        "print('')"
      ],
      "metadata": {
        "papermill": {
          "duration": 0.051314,
          "end_time": "2023-04-27T20:38:48.977800",
          "exception": false,
          "start_time": "2023-04-27T20:38:48.926486",
          "status": "completed"
        },
        "tags": [],
        "execution": {
          "iopub.status.busy": "2023-05-08T22:23:07.309828Z",
          "iopub.execute_input": "2023-05-08T22:23:07.310204Z",
          "iopub.status.idle": "2023-05-08T22:23:07.360202Z",
          "shell.execute_reply.started": "2023-05-08T22:23:07.310170Z",
          "shell.execute_reply": "2023-05-08T22:23:07.359213Z"
        },
        "trusted": true,
        "id": "BEH6uPZOLl75",
        "outputId": "5a351809-fdf5-4e8b-9f4d-2c52ed81de21"
      },
      "execution_count": null,
      "outputs": [
        {
          "name": "stdout",
          "text": "Unique Protein Data patient #: 248\nUnique Proteins #: 227\n----------------------------------------------------------\nNull Values Found in Protein Data:\nNull values found in visit_id: 0\nNull values found in visit_month: 0\nNull values found in patient_id: 0\nNull values found in UniProt: 0\nNull values found in NPX: 0\n\n",
          "output_type": "stream"
        }
      ],
      "id": "BEH6uPZOLl75"
    },
    {
      "cell_type": "markdown",
      "source": [
        "## Data Prep for the final submission"
      ],
      "metadata": {
        "papermill": {
          "duration": 0.008714,
          "end_time": "2023-04-27T20:38:49.363704",
          "exception": false,
          "start_time": "2023-04-27T20:38:49.354990",
          "status": "completed"
        },
        "tags": [],
        "id": "W1X2kEG1Ll75"
      },
      "id": "W1X2kEG1Ll75"
    },
    {
      "cell_type": "code",
      "source": [
        "targets = {}\n",
        "for event in range(1, 5):\n",
        "    for month in [0, 6, 12, 24]:\n",
        "        df_train_clin[f'updrs_{event}_plus_{month}_months'] = 0\n",
        "\n",
        "for p_id in df_train_clin.patient_id.unique():\n",
        "    patient_data = df_train_clin[df_train_clin.patient_id == p_id]\n",
        "    month_ranges = []\n",
        "    month_intervals = [0, 6, 12, 24]\n",
        "    for visit_month in patient_data.visit_month.values:\n",
        "        month_ranges.append([visit_month, visit_month + 6, visit_month + 12, visit_month + 24])\n",
        "    for idx, month_range in enumerate(month_ranges):\n",
        "        for event in range(1, 5):\n",
        "            updrs_values = patient_data[patient_data.visit_month.isin(month_range)][f'updrs_{event}'].fillna(0).to_list()\n",
        "            if len(updrs_values) == 4:\n",
        "                for e, value in enumerate(updrs_values):\n",
        "                    m = month_range[0]\n",
        "                    patient_data.loc[patient_data.visit_month == m, [f'updrs_{event}_plus_{month_intervals[e]}_months']] = value\n",
        "            else:\n",
        "                patient_data = patient_data[~patient_data.visit_month.isin(month_range)]\n",
        "    targets[p_id] = patient_data\n"
      ],
      "metadata": {
        "papermill": {
          "duration": 24.544232,
          "end_time": "2023-04-27T20:39:13.916847",
          "exception": false,
          "start_time": "2023-04-27T20:38:49.372615",
          "status": "completed"
        },
        "tags": [],
        "execution": {
          "iopub.status.busy": "2023-05-08T22:23:07.361479Z",
          "iopub.execute_input": "2023-05-08T22:23:07.361828Z",
          "iopub.status.idle": "2023-05-08T22:23:35.955975Z",
          "shell.execute_reply.started": "2023-05-08T22:23:07.361798Z",
          "shell.execute_reply": "2023-05-08T22:23:35.954585Z"
        },
        "trusted": true,
        "id": "w2a0QbugLl76"
      },
      "execution_count": null,
      "outputs": [],
      "id": "w2a0QbugLl76"
    },
    {
      "cell_type": "code",
      "source": [
        "formatted_clin = pd.concat(targets.values(), ignore_index=True).set_index('visit_id').iloc[:, 7:]\n",
        "formatted_clin.head()"
      ],
      "metadata": {
        "papermill": {
          "duration": 0.089074,
          "end_time": "2023-04-27T20:39:14.015468",
          "exception": false,
          "start_time": "2023-04-27T20:39:13.926394",
          "status": "completed"
        },
        "tags": [],
        "execution": {
          "iopub.status.busy": "2023-05-08T22:23:35.957404Z",
          "iopub.execute_input": "2023-05-08T22:23:35.957776Z",
          "iopub.status.idle": "2023-05-08T22:23:36.035821Z",
          "shell.execute_reply.started": "2023-05-08T22:23:35.957741Z",
          "shell.execute_reply": "2023-05-08T22:23:36.034313Z"
        },
        "trusted": true,
        "id": "seBJUC8iLl76",
        "outputId": "3745f244-25b3-4210-afb9-809170fadc19"
      },
      "execution_count": null,
      "outputs": [
        {
          "execution_count": 12,
          "output_type": "execute_result",
          "data": {
            "text/plain": "          updrs_1_plus_0_months  updrs_1_plus_6_months  \\\nvisit_id                                                 \n55_0                         10                      8   \n55_6                          8                     10   \n55_12                        10                      7   \n55_18                         7                     16   \n55_24                        16                     14   \n\n          updrs_1_plus_12_months  updrs_1_plus_24_months  \\\nvisit_id                                                   \n55_0                          10                      16   \n55_6                           7                      14   \n55_12                         16                      17   \n55_18                         14                      12   \n55_24                         17                      17   \n\n          updrs_2_plus_0_months  updrs_2_plus_6_months  \\\nvisit_id                                                 \n55_0                          6                     10   \n55_6                         10                     10   \n55_12                        10                     13   \n55_18                        13                      9   \n55_24                         9                     13   \n\n          updrs_2_plus_12_months  updrs_2_plus_24_months  \\\nvisit_id                                                   \n55_0                          10                       9   \n55_6                          13                      13   \n55_12                          9                      18   \n55_18                         13                      20   \n55_24                         18                      16   \n\n          updrs_3_plus_0_months  updrs_3_plus_6_months  \\\nvisit_id                                                 \n55_0                         15                     34   \n55_6                         34                     41   \n55_12                        41                     38   \n55_18                        38                     49   \n55_24                        49                     49   \n\n          updrs_3_plus_12_months  updrs_3_plus_24_months  \\\nvisit_id                                                   \n55_0                          41                      49   \n55_6                          38                      49   \n55_12                         49                      51   \n55_18                         49                      41   \n55_24                         51                      52   \n\n          updrs_4_plus_0_months  updrs_4_plus_6_months  \\\nvisit_id                                                 \n55_0                          0                      0   \n55_6                          0                      0   \n55_12                         0                      0   \n55_18                         0                      0   \n55_24                         0                      0   \n\n          updrs_4_plus_12_months  updrs_4_plus_24_months  \nvisit_id                                                  \n55_0                           0                       0  \n55_6                           0                       0  \n55_12                          0                       0  \n55_18                          0                       0  \n55_24                          0                       0  ",
            "text/html": "<div>\n<style scoped>\n    .dataframe tbody tr th:only-of-type {\n        vertical-align: middle;\n    }\n\n    .dataframe tbody tr th {\n        vertical-align: top;\n    }\n\n    .dataframe thead th {\n        text-align: right;\n    }\n</style>\n<table border=\"1\" class=\"dataframe\">\n  <thead>\n    <tr style=\"text-align: right;\">\n      <th></th>\n      <th>updrs_1_plus_0_months</th>\n      <th>updrs_1_plus_6_months</th>\n      <th>updrs_1_plus_12_months</th>\n      <th>updrs_1_plus_24_months</th>\n      <th>updrs_2_plus_0_months</th>\n      <th>updrs_2_plus_6_months</th>\n      <th>updrs_2_plus_12_months</th>\n      <th>updrs_2_plus_24_months</th>\n      <th>updrs_3_plus_0_months</th>\n      <th>updrs_3_plus_6_months</th>\n      <th>updrs_3_plus_12_months</th>\n      <th>updrs_3_plus_24_months</th>\n      <th>updrs_4_plus_0_months</th>\n      <th>updrs_4_plus_6_months</th>\n      <th>updrs_4_plus_12_months</th>\n      <th>updrs_4_plus_24_months</th>\n    </tr>\n    <tr>\n      <th>visit_id</th>\n      <th></th>\n      <th></th>\n      <th></th>\n      <th></th>\n      <th></th>\n      <th></th>\n      <th></th>\n      <th></th>\n      <th></th>\n      <th></th>\n      <th></th>\n      <th></th>\n      <th></th>\n      <th></th>\n      <th></th>\n      <th></th>\n    </tr>\n  </thead>\n  <tbody>\n    <tr>\n      <th>55_0</th>\n      <td>10</td>\n      <td>8</td>\n      <td>10</td>\n      <td>16</td>\n      <td>6</td>\n      <td>10</td>\n      <td>10</td>\n      <td>9</td>\n      <td>15</td>\n      <td>34</td>\n      <td>41</td>\n      <td>49</td>\n      <td>0</td>\n      <td>0</td>\n      <td>0</td>\n      <td>0</td>\n    </tr>\n    <tr>\n      <th>55_6</th>\n      <td>8</td>\n      <td>10</td>\n      <td>7</td>\n      <td>14</td>\n      <td>10</td>\n      <td>10</td>\n      <td>13</td>\n      <td>13</td>\n      <td>34</td>\n      <td>41</td>\n      <td>38</td>\n      <td>49</td>\n      <td>0</td>\n      <td>0</td>\n      <td>0</td>\n      <td>0</td>\n    </tr>\n    <tr>\n      <th>55_12</th>\n      <td>10</td>\n      <td>7</td>\n      <td>16</td>\n      <td>17</td>\n      <td>10</td>\n      <td>13</td>\n      <td>9</td>\n      <td>18</td>\n      <td>41</td>\n      <td>38</td>\n      <td>49</td>\n      <td>51</td>\n      <td>0</td>\n      <td>0</td>\n      <td>0</td>\n      <td>0</td>\n    </tr>\n    <tr>\n      <th>55_18</th>\n      <td>7</td>\n      <td>16</td>\n      <td>14</td>\n      <td>12</td>\n      <td>13</td>\n      <td>9</td>\n      <td>13</td>\n      <td>20</td>\n      <td>38</td>\n      <td>49</td>\n      <td>49</td>\n      <td>41</td>\n      <td>0</td>\n      <td>0</td>\n      <td>0</td>\n      <td>0</td>\n    </tr>\n    <tr>\n      <th>55_24</th>\n      <td>16</td>\n      <td>14</td>\n      <td>17</td>\n      <td>17</td>\n      <td>9</td>\n      <td>13</td>\n      <td>18</td>\n      <td>16</td>\n      <td>49</td>\n      <td>49</td>\n      <td>51</td>\n      <td>52</td>\n      <td>0</td>\n      <td>0</td>\n      <td>0</td>\n      <td>0</td>\n    </tr>\n  </tbody>\n</table>\n</div>"
          },
          "metadata": {}
        }
      ],
      "id": "seBJUC8iLl76"
    },
    {
      "cell_type": "markdown",
      "source": [
        "## Selecting Peptide as features with PeptideAbundance values"
      ],
      "metadata": {
        "papermill": {
          "duration": 0.009055,
          "end_time": "2023-04-27T20:39:14.034114",
          "exception": false,
          "start_time": "2023-04-27T20:39:14.025059",
          "status": "completed"
        },
        "tags": [],
        "id": "GdIh2YmjLl76"
      },
      "id": "GdIh2YmjLl76"
    },
    {
      "cell_type": "code",
      "source": [
        "peptide_features = df_train_pept.pivot(index='visit_id', columns = ['Peptide'], values = 'PeptideAbundance')\n",
        "peptide_features.head()"
      ],
      "metadata": {
        "papermill": {
          "duration": 0.112626,
          "end_time": "2023-04-27T20:39:14.155966",
          "exception": false,
          "start_time": "2023-04-27T20:39:14.043340",
          "status": "completed"
        },
        "tags": [],
        "execution": {
          "iopub.status.busy": "2023-05-08T22:23:36.037612Z",
          "iopub.execute_input": "2023-05-08T22:23:36.037970Z",
          "iopub.status.idle": "2023-05-08T22:23:36.565073Z",
          "shell.execute_reply.started": "2023-05-08T22:23:36.037940Z",
          "shell.execute_reply": "2023-05-08T22:23:36.563811Z"
        },
        "trusted": true,
        "id": "2Mh__Do8Ll76",
        "outputId": "b2216d7f-55dc-4704-9fd5-a3d7647f3582"
      },
      "execution_count": null,
      "outputs": [
        {
          "execution_count": 13,
          "output_type": "execute_result",
          "data": {
            "text/plain": "Peptide   AADDTWEPFASGK  AAFGQGSGPIMLDEVQC(UniMod_4)TGTEASLADC(UniMod_4)K  \\\nvisit_id                                                                    \n10053_0       6580710.0                                           31204.4   \n10053_12      6333510.0                                           52277.6   \n10053_18      7129640.0                                           61522.0   \n10138_12      7404780.0                                           46107.2   \n10138_24     13788300.0                                           56910.3   \n\nPeptide   AAFTEC(UniMod_4)C(UniMod_4)QAADK  AANEVSSADVK  \\\nvisit_id                                                  \n10053_0                          7735070.0          NaN   \n10053_12                         5394390.0          NaN   \n10053_18                         7011920.0      35984.7   \n10138_12                        10610900.0          NaN   \n10138_24                         6906160.0      13785.5   \n\nPeptide   AATGEC(UniMod_4)TATVGKR  AATVGSLAGQPLQER  AAVYHHFISDGVR  \\\nvisit_id                                                            \n10053_0                       NaN              NaN        46620.3   \n10053_12                      NaN              NaN        57554.5   \n10053_18                  17188.0          19787.3        36029.4   \n10138_12                  20910.2          66662.3        55253.9   \n10138_24                  11004.2          63672.7        36819.8   \n\nPeptide   ADDKETC(UniMod_4)FAEEGK  ADDKETC(UniMod_4)FAEEGKK  \\\nvisit_id                                                      \n10053_0                  236144.0                       NaN   \n10053_12                 108298.0                   45885.4   \n10053_18                 708729.0                 5067790.0   \n10138_12                  79575.5                 6201210.0   \n10138_24                  34160.9                 2117430.0   \n\nPeptide   ADDLGKGGNEESTKTGNAGSR  ...  YSLTYIYTGLSK  YTTEIIK  YVGGQEHFAHLLILR  \\\nvisit_id                         ...                                           \n10053_0                     NaN  ...      202274.0      NaN        4401830.0   \n10053_12                    NaN  ...      201009.0      NaN        5001750.0   \n10053_18                30838.2  ...      220728.0      NaN        5424380.0   \n10138_12                26720.0  ...      188362.0  9433.71        3900280.0   \n10138_24                15645.2  ...      206187.0  6365.15        3521800.0   \n\nPeptide   YVM(UniMod_35)LPVADQDQC(UniMod_4)IR  YVMLPVADQDQC(UniMod_4)IR  \\\nvisit_id                                                                  \n10053_0                               77482.6                  583075.0   \n10053_12                              36745.3                  355643.0   \n10053_18                              39016.0                  496021.0   \n10138_12                              48210.3                  328482.0   \n10138_24                              69984.6                  496737.0   \n\nPeptide   YVNKEIQNAVNGVK  YWGVASFLQK  YYC(UniMod_4)FQGNQFLR  YYTYLIMNK  \\\nvisit_id                                                                 \n10053_0          76705.7    104260.0               530223.0        NaN   \n10053_12         92078.1    123254.0               453883.0    49281.9   \n10053_18         63203.6    128336.0               447505.0    52389.1   \n10138_12         89822.1    129964.0               552232.0    65657.8   \n10138_24         80919.3    111799.0                    NaN    56977.6   \n\nPeptide   YYWGGQYTWDMAK  \nvisit_id                 \n10053_0         7207.30  \n10053_12       25332.80  \n10053_18       21235.70  \n10138_12        9876.98  \n10138_24        4903.09  \n\n[5 rows x 968 columns]",
            "text/html": "<div>\n<style scoped>\n    .dataframe tbody tr th:only-of-type {\n        vertical-align: middle;\n    }\n\n    .dataframe tbody tr th {\n        vertical-align: top;\n    }\n\n    .dataframe thead th {\n        text-align: right;\n    }\n</style>\n<table border=\"1\" class=\"dataframe\">\n  <thead>\n    <tr style=\"text-align: right;\">\n      <th>Peptide</th>\n      <th>AADDTWEPFASGK</th>\n      <th>AAFGQGSGPIMLDEVQC(UniMod_4)TGTEASLADC(UniMod_4)K</th>\n      <th>AAFTEC(UniMod_4)C(UniMod_4)QAADK</th>\n      <th>AANEVSSADVK</th>\n      <th>AATGEC(UniMod_4)TATVGKR</th>\n      <th>AATVGSLAGQPLQER</th>\n      <th>AAVYHHFISDGVR</th>\n      <th>ADDKETC(UniMod_4)FAEEGK</th>\n      <th>ADDKETC(UniMod_4)FAEEGKK</th>\n      <th>ADDLGKGGNEESTKTGNAGSR</th>\n      <th>...</th>\n      <th>YSLTYIYTGLSK</th>\n      <th>YTTEIIK</th>\n      <th>YVGGQEHFAHLLILR</th>\n      <th>YVM(UniMod_35)LPVADQDQC(UniMod_4)IR</th>\n      <th>YVMLPVADQDQC(UniMod_4)IR</th>\n      <th>YVNKEIQNAVNGVK</th>\n      <th>YWGVASFLQK</th>\n      <th>YYC(UniMod_4)FQGNQFLR</th>\n      <th>YYTYLIMNK</th>\n      <th>YYWGGQYTWDMAK</th>\n    </tr>\n    <tr>\n      <th>visit_id</th>\n      <th></th>\n      <th></th>\n      <th></th>\n      <th></th>\n      <th></th>\n      <th></th>\n      <th></th>\n      <th></th>\n      <th></th>\n      <th></th>\n      <th></th>\n      <th></th>\n      <th></th>\n      <th></th>\n      <th></th>\n      <th></th>\n      <th></th>\n      <th></th>\n      <th></th>\n      <th></th>\n      <th></th>\n    </tr>\n  </thead>\n  <tbody>\n    <tr>\n      <th>10053_0</th>\n      <td>6580710.0</td>\n      <td>31204.4</td>\n      <td>7735070.0</td>\n      <td>NaN</td>\n      <td>NaN</td>\n      <td>NaN</td>\n      <td>46620.3</td>\n      <td>236144.0</td>\n      <td>NaN</td>\n      <td>NaN</td>\n      <td>...</td>\n      <td>202274.0</td>\n      <td>NaN</td>\n      <td>4401830.0</td>\n      <td>77482.6</td>\n      <td>583075.0</td>\n      <td>76705.7</td>\n      <td>104260.0</td>\n      <td>530223.0</td>\n      <td>NaN</td>\n      <td>7207.30</td>\n    </tr>\n    <tr>\n      <th>10053_12</th>\n      <td>6333510.0</td>\n      <td>52277.6</td>\n      <td>5394390.0</td>\n      <td>NaN</td>\n      <td>NaN</td>\n      <td>NaN</td>\n      <td>57554.5</td>\n      <td>108298.0</td>\n      <td>45885.4</td>\n      <td>NaN</td>\n      <td>...</td>\n      <td>201009.0</td>\n      <td>NaN</td>\n      <td>5001750.0</td>\n      <td>36745.3</td>\n      <td>355643.0</td>\n      <td>92078.1</td>\n      <td>123254.0</td>\n      <td>453883.0</td>\n      <td>49281.9</td>\n      <td>25332.80</td>\n    </tr>\n    <tr>\n      <th>10053_18</th>\n      <td>7129640.0</td>\n      <td>61522.0</td>\n      <td>7011920.0</td>\n      <td>35984.7</td>\n      <td>17188.0</td>\n      <td>19787.3</td>\n      <td>36029.4</td>\n      <td>708729.0</td>\n      <td>5067790.0</td>\n      <td>30838.2</td>\n      <td>...</td>\n      <td>220728.0</td>\n      <td>NaN</td>\n      <td>5424380.0</td>\n      <td>39016.0</td>\n      <td>496021.0</td>\n      <td>63203.6</td>\n      <td>128336.0</td>\n      <td>447505.0</td>\n      <td>52389.1</td>\n      <td>21235.70</td>\n    </tr>\n    <tr>\n      <th>10138_12</th>\n      <td>7404780.0</td>\n      <td>46107.2</td>\n      <td>10610900.0</td>\n      <td>NaN</td>\n      <td>20910.2</td>\n      <td>66662.3</td>\n      <td>55253.9</td>\n      <td>79575.5</td>\n      <td>6201210.0</td>\n      <td>26720.0</td>\n      <td>...</td>\n      <td>188362.0</td>\n      <td>9433.71</td>\n      <td>3900280.0</td>\n      <td>48210.3</td>\n      <td>328482.0</td>\n      <td>89822.1</td>\n      <td>129964.0</td>\n      <td>552232.0</td>\n      <td>65657.8</td>\n      <td>9876.98</td>\n    </tr>\n    <tr>\n      <th>10138_24</th>\n      <td>13788300.0</td>\n      <td>56910.3</td>\n      <td>6906160.0</td>\n      <td>13785.5</td>\n      <td>11004.2</td>\n      <td>63672.7</td>\n      <td>36819.8</td>\n      <td>34160.9</td>\n      <td>2117430.0</td>\n      <td>15645.2</td>\n      <td>...</td>\n      <td>206187.0</td>\n      <td>6365.15</td>\n      <td>3521800.0</td>\n      <td>69984.6</td>\n      <td>496737.0</td>\n      <td>80919.3</td>\n      <td>111799.0</td>\n      <td>NaN</td>\n      <td>56977.6</td>\n      <td>4903.09</td>\n    </tr>\n  </tbody>\n</table>\n<p>5 rows × 968 columns</p>\n</div>"
          },
          "metadata": {}
        }
      ],
      "id": "2Mh__Do8Ll76"
    },
    {
      "cell_type": "code",
      "source": [
        "df = peptide_features.merge(formatted_clin, left_index=True,right_index=True,how='right')\n",
        "print(f'\\nNA values: {df[peptide_features.columns].isna().sum().sum()/(len(df)*len(peptide_features.columns)):.2%}')\n",
        "df['visit_month'] = df.reset_index().visit_id.str.split('_').apply(lambda x: int(x[1])).values\n",
        "df.head()"
      ],
      "metadata": {
        "papermill": {
          "duration": 0.043921,
          "end_time": "2023-04-27T20:39:14.229065",
          "exception": false,
          "start_time": "2023-04-27T20:39:14.185144",
          "status": "completed"
        },
        "tags": [],
        "execution": {
          "iopub.status.busy": "2023-05-08T22:23:36.566431Z",
          "iopub.execute_input": "2023-05-08T22:23:36.566776Z",
          "iopub.status.idle": "2023-05-08T22:23:36.612304Z",
          "shell.execute_reply.started": "2023-05-08T22:23:36.566748Z",
          "shell.execute_reply": "2023-05-08T22:23:36.611469Z"
        },
        "trusted": true,
        "id": "N6P2cuGWLl76",
        "outputId": "d4a3cbdb-901e-481c-807e-531178fce55f"
      },
      "execution_count": null,
      "outputs": [
        {
          "name": "stdout",
          "text": "\nNA values: 54.03%\n",
          "output_type": "stream"
        },
        {
          "execution_count": 14,
          "output_type": "execute_result",
          "data": {
            "text/plain": "          AADDTWEPFASGK  AAFGQGSGPIMLDEVQC(UniMod_4)TGTEASLADC(UniMod_4)K  \\\nvisit_id                                                                    \n55_0          8984260.0                                           53855.6   \n55_6          8279770.0                                           45251.9   \n55_12         8382390.0                                           53000.9   \n55_18               NaN                                               NaN   \n55_24               NaN                                               NaN   \n\n          AAFTEC(UniMod_4)C(UniMod_4)QAADK  AANEVSSADVK  \\\nvisit_id                                                  \n55_0                             8579740.0          NaN   \n55_6                             8655890.0      49927.5   \n55_12                            8995640.0      45519.2   \n55_18                                  NaN          NaN   \n55_24                                  NaN          NaN   \n\n          AATGEC(UniMod_4)TATVGKR  AATVGSLAGQPLQER  AAVYHHFISDGVR  \\\nvisit_id                                                            \n55_0                      19735.4         114400.0        46371.1   \n55_6                      23820.4          90539.4        38652.4   \n55_12                     17813.5         147312.0        45840.9   \n55_18                         NaN              NaN            NaN   \n55_24                         NaN              NaN            NaN   \n\n          ADDKETC(UniMod_4)FAEEGK  ADDKETC(UniMod_4)FAEEGKK  \\\nvisit_id                                                      \n55_0                      70412.0                 7404060.0   \n55_6                      63052.4                 7344740.0   \n55_12                     72325.0                 6635000.0   \n55_18                         NaN                       NaN   \n55_24                         NaN                       NaN   \n\n          ADDLGKGGNEESTKTGNAGSR  ...  updrs_2_plus_24_months  \\\nvisit_id                         ...                           \n55_0                    39389.3  ...                       9   \n55_6                    40871.1  ...                      13   \n55_12                   35002.7  ...                      18   \n55_18                       NaN  ...                      20   \n55_24                       NaN  ...                      16   \n\n          updrs_3_plus_0_months  updrs_3_plus_6_months  \\\nvisit_id                                                 \n55_0                         15                     34   \n55_6                         34                     41   \n55_12                        41                     38   \n55_18                        38                     49   \n55_24                        49                     49   \n\n          updrs_3_plus_12_months  updrs_3_plus_24_months  \\\nvisit_id                                                   \n55_0                          41                      49   \n55_6                          38                      49   \n55_12                         49                      51   \n55_18                         49                      41   \n55_24                         51                      52   \n\n          updrs_4_plus_0_months  updrs_4_plus_6_months  \\\nvisit_id                                                 \n55_0                          0                      0   \n55_6                          0                      0   \n55_12                         0                      0   \n55_18                         0                      0   \n55_24                         0                      0   \n\n          updrs_4_plus_12_months  updrs_4_plus_24_months  visit_month  \nvisit_id                                                               \n55_0                           0                       0            0  \n55_6                           0                       0            6  \n55_12                          0                       0           12  \n55_18                          0                       0           18  \n55_24                          0                       0           24  \n\n[5 rows x 985 columns]",
            "text/html": "<div>\n<style scoped>\n    .dataframe tbody tr th:only-of-type {\n        vertical-align: middle;\n    }\n\n    .dataframe tbody tr th {\n        vertical-align: top;\n    }\n\n    .dataframe thead th {\n        text-align: right;\n    }\n</style>\n<table border=\"1\" class=\"dataframe\">\n  <thead>\n    <tr style=\"text-align: right;\">\n      <th></th>\n      <th>AADDTWEPFASGK</th>\n      <th>AAFGQGSGPIMLDEVQC(UniMod_4)TGTEASLADC(UniMod_4)K</th>\n      <th>AAFTEC(UniMod_4)C(UniMod_4)QAADK</th>\n      <th>AANEVSSADVK</th>\n      <th>AATGEC(UniMod_4)TATVGKR</th>\n      <th>AATVGSLAGQPLQER</th>\n      <th>AAVYHHFISDGVR</th>\n      <th>ADDKETC(UniMod_4)FAEEGK</th>\n      <th>ADDKETC(UniMod_4)FAEEGKK</th>\n      <th>ADDLGKGGNEESTKTGNAGSR</th>\n      <th>...</th>\n      <th>updrs_2_plus_24_months</th>\n      <th>updrs_3_plus_0_months</th>\n      <th>updrs_3_plus_6_months</th>\n      <th>updrs_3_plus_12_months</th>\n      <th>updrs_3_plus_24_months</th>\n      <th>updrs_4_plus_0_months</th>\n      <th>updrs_4_plus_6_months</th>\n      <th>updrs_4_plus_12_months</th>\n      <th>updrs_4_plus_24_months</th>\n      <th>visit_month</th>\n    </tr>\n    <tr>\n      <th>visit_id</th>\n      <th></th>\n      <th></th>\n      <th></th>\n      <th></th>\n      <th></th>\n      <th></th>\n      <th></th>\n      <th></th>\n      <th></th>\n      <th></th>\n      <th></th>\n      <th></th>\n      <th></th>\n      <th></th>\n      <th></th>\n      <th></th>\n      <th></th>\n      <th></th>\n      <th></th>\n      <th></th>\n      <th></th>\n    </tr>\n  </thead>\n  <tbody>\n    <tr>\n      <th>55_0</th>\n      <td>8984260.0</td>\n      <td>53855.6</td>\n      <td>8579740.0</td>\n      <td>NaN</td>\n      <td>19735.4</td>\n      <td>114400.0</td>\n      <td>46371.1</td>\n      <td>70412.0</td>\n      <td>7404060.0</td>\n      <td>39389.3</td>\n      <td>...</td>\n      <td>9</td>\n      <td>15</td>\n      <td>34</td>\n      <td>41</td>\n      <td>49</td>\n      <td>0</td>\n      <td>0</td>\n      <td>0</td>\n      <td>0</td>\n      <td>0</td>\n    </tr>\n    <tr>\n      <th>55_6</th>\n      <td>8279770.0</td>\n      <td>45251.9</td>\n      <td>8655890.0</td>\n      <td>49927.5</td>\n      <td>23820.4</td>\n      <td>90539.4</td>\n      <td>38652.4</td>\n      <td>63052.4</td>\n      <td>7344740.0</td>\n      <td>40871.1</td>\n      <td>...</td>\n      <td>13</td>\n      <td>34</td>\n      <td>41</td>\n      <td>38</td>\n      <td>49</td>\n      <td>0</td>\n      <td>0</td>\n      <td>0</td>\n      <td>0</td>\n      <td>6</td>\n    </tr>\n    <tr>\n      <th>55_12</th>\n      <td>8382390.0</td>\n      <td>53000.9</td>\n      <td>8995640.0</td>\n      <td>45519.2</td>\n      <td>17813.5</td>\n      <td>147312.0</td>\n      <td>45840.9</td>\n      <td>72325.0</td>\n      <td>6635000.0</td>\n      <td>35002.7</td>\n      <td>...</td>\n      <td>18</td>\n      <td>41</td>\n      <td>38</td>\n      <td>49</td>\n      <td>51</td>\n      <td>0</td>\n      <td>0</td>\n      <td>0</td>\n      <td>0</td>\n      <td>12</td>\n    </tr>\n    <tr>\n      <th>55_18</th>\n      <td>NaN</td>\n      <td>NaN</td>\n      <td>NaN</td>\n      <td>NaN</td>\n      <td>NaN</td>\n      <td>NaN</td>\n      <td>NaN</td>\n      <td>NaN</td>\n      <td>NaN</td>\n      <td>NaN</td>\n      <td>...</td>\n      <td>20</td>\n      <td>38</td>\n      <td>49</td>\n      <td>49</td>\n      <td>41</td>\n      <td>0</td>\n      <td>0</td>\n      <td>0</td>\n      <td>0</td>\n      <td>18</td>\n    </tr>\n    <tr>\n      <th>55_24</th>\n      <td>NaN</td>\n      <td>NaN</td>\n      <td>NaN</td>\n      <td>NaN</td>\n      <td>NaN</td>\n      <td>NaN</td>\n      <td>NaN</td>\n      <td>NaN</td>\n      <td>NaN</td>\n      <td>NaN</td>\n      <td>...</td>\n      <td>16</td>\n      <td>49</td>\n      <td>49</td>\n      <td>51</td>\n      <td>52</td>\n      <td>0</td>\n      <td>0</td>\n      <td>0</td>\n      <td>0</td>\n      <td>24</td>\n    </tr>\n  </tbody>\n</table>\n<p>5 rows × 985 columns</p>\n</div>"
          },
          "metadata": {}
        }
      ],
      "id": "N6P2cuGWLl76"
    },
    {
      "cell_type": "code",
      "source": [
        "def extract_month(visit_id):\n",
        "    split_visit_id = visit_id.split('_')\n",
        "    return int(split_visit_id[1])\n",
        "\n",
        "unique_visit_months = df.reset_index().visit_id.apply(extract_month).unique().tolist()\n",
        "protein_list = peptide_features.columns.tolist()\n"
      ],
      "metadata": {
        "papermill": {
          "duration": 0.020886,
          "end_time": "2023-04-27T20:39:14.259927",
          "exception": false,
          "start_time": "2023-04-27T20:39:14.239041",
          "status": "completed"
        },
        "tags": [],
        "execution": {
          "iopub.status.busy": "2023-05-08T22:23:36.613974Z",
          "iopub.execute_input": "2023-05-08T22:23:36.614353Z",
          "iopub.status.idle": "2023-05-08T22:23:36.625029Z",
          "shell.execute_reply.started": "2023-05-08T22:23:36.614310Z",
          "shell.execute_reply": "2023-05-08T22:23:36.623547Z"
        },
        "trusted": true,
        "id": "x5lceLrPLl76"
      },
      "execution_count": null,
      "outputs": [],
      "id": "x5lceLrPLl76"
    },
    {
      "cell_type": "code",
      "source": [
        "X = df[peptide_features.columns.to_list() + [\"visit_month\"]]\n",
        "y = df[formatted_clin.columns]\n",
        "print('\\nX and y shapes:')\n",
        "X.shape, y.shape"
      ],
      "metadata": {
        "papermill": {
          "duration": 0.022514,
          "end_time": "2023-04-27T20:39:14.292376",
          "exception": false,
          "start_time": "2023-04-27T20:39:14.269862",
          "status": "completed"
        },
        "tags": [],
        "execution": {
          "iopub.status.busy": "2023-05-08T22:23:36.631895Z",
          "iopub.execute_input": "2023-05-08T22:23:36.632306Z",
          "iopub.status.idle": "2023-05-08T22:23:36.648905Z",
          "shell.execute_reply.started": "2023-05-08T22:23:36.632274Z",
          "shell.execute_reply": "2023-05-08T22:23:36.647576Z"
        },
        "trusted": true,
        "id": "lPP3JSnsLl76",
        "outputId": "3f8a6c69-3574-4e92-f39b-5ff2626d11ef"
      },
      "execution_count": null,
      "outputs": [
        {
          "name": "stdout",
          "text": "\nX and y shapes:\n",
          "output_type": "stream"
        },
        {
          "execution_count": 16,
          "output_type": "execute_result",
          "data": {
            "text/plain": "((954, 969), (954, 16))"
          },
          "metadata": {}
        }
      ],
      "id": "lPP3JSnsLl76"
    },
    {
      "cell_type": "code",
      "source": [
        "\n",
        "X.loc[:, 'visit_month'] = X['visit_month'].astype(float)\n",
        "y = y.astype(float)\n",
        "\n",
        "#Define a Column Transformer to scale and impute numerical features\n",
        "preprocessor = make_column_transformer(\n",
        "    (make_pipeline(KNNImputer(), StandardScaler()), \n",
        "     make_column_selector(dtype_include='number'))\n",
        ")\n",
        "\n",
        "#Apply the preprocessor to X for transformed data\n",
        "X_transformed = preprocessor.fit_transform(X)\n"
      ],
      "metadata": {
        "papermill": {
          "duration": 24.524801,
          "end_time": "2023-04-27T20:39:38.827214",
          "exception": false,
          "start_time": "2023-04-27T20:39:14.302413",
          "status": "completed"
        },
        "tags": [],
        "execution": {
          "iopub.status.busy": "2023-05-08T23:15:12.438352Z",
          "iopub.execute_input": "2023-05-08T23:15:12.438761Z",
          "iopub.status.idle": "2023-05-08T23:15:17.235943Z",
          "shell.execute_reply.started": "2023-05-08T23:15:12.438734Z",
          "shell.execute_reply": "2023-05-08T23:15:17.234760Z"
        },
        "trusted": true,
        "id": "6WVn-B7iLl77"
      },
      "execution_count": null,
      "outputs": [],
      "id": "6WVn-B7iLl77"
    },
    {
      "cell_type": "markdown",
      "source": [
        "# sMAPE Function"
      ],
      "metadata": {
        "papermill": {
          "duration": 0.026566,
          "end_time": "2023-04-27T20:39:38.880800",
          "exception": false,
          "start_time": "2023-04-27T20:39:38.854234",
          "status": "completed"
        },
        "tags": [],
        "id": "xlvuFqXbLl77"
      },
      "id": "xlvuFqXbLl77"
    },
    {
      "cell_type": "code",
      "source": [
        "\n",
        "def smape_loss_plus_one(y_true, y_pred):\n",
        "    epsilon = 0.1\n",
        "    numer = K.abs(y_pred + 1 - y_true - 1)\n",
        "    denom = K.maximum(K.abs(y_true) + K.abs(y_pred) + 2*epsilon, 1.5 + 2*epsilon)\n",
        "    smape_plus_one = numer / (denom/2)\n",
        "    smape_plus_one = tf.where(tf.math.is_nan(smape_plus_one), tf.zeros_like(smape_plus_one), smape_plus_one)\n",
        "    return smape_plus_one\n",
        "\n",
        "def calculate_smape_plus_one(y_true, y_pred):\n",
        "    y_true, y_pred = np.array(y_true), np.array(y_pred)\n",
        "    numer = np.round(np.abs(y_pred + 1 - y_true - 1), 0)\n",
        "    denom = np.round(np.abs(y_true) + np.abs(y_pred) + 2, 0)\n",
        "    smape_plus_one = 1/len(y_true) * np.sum(np.nan_to_num(numer / (denom/2))) * 100\n",
        "    return smape_plus_one\n"
      ],
      "metadata": {
        "papermill": {
          "duration": 7.208503,
          "end_time": "2023-04-27T20:39:46.115602",
          "exception": false,
          "start_time": "2023-04-27T20:39:38.907099",
          "status": "completed"
        },
        "tags": [],
        "execution": {
          "iopub.status.busy": "2023-05-08T23:15:21.981558Z",
          "iopub.execute_input": "2023-05-08T23:15:21.983523Z",
          "iopub.status.idle": "2023-05-08T23:15:21.992837Z",
          "shell.execute_reply.started": "2023-05-08T23:15:21.983416Z",
          "shell.execute_reply": "2023-05-08T23:15:21.991408Z"
        },
        "trusted": true,
        "id": "fmTNl9kKLl77"
      },
      "execution_count": null,
      "outputs": [],
      "id": "fmTNl9kKLl77"
    },
    {
      "cell_type": "markdown",
      "source": [
        "# Submission Preperation"
      ],
      "metadata": {
        "papermill": {
          "duration": 0.01237,
          "end_time": "2023-04-27T20:42:12.701058",
          "exception": false,
          "start_time": "2023-04-27T20:42:12.688688",
          "status": "completed"
        },
        "tags": [],
        "id": "SMPu1BzPLl77"
      },
      "id": "SMPu1BzPLl77"
    },
    {
      "cell_type": "code",
      "source": [
        "test_proteins = pd.read_csv('/kaggle/input/amp-parkinsons-disease-progression-prediction/example_test_files/test_proteins.csv') \n",
        "test_peptides = pd.read_csv('/kaggle/input/amp-parkinsons-disease-progression-prediction/example_test_files/test_peptides.csv') \n",
        "sample_submission = pd.read_csv('/kaggle/input/amp-parkinsons-disease-progression-prediction/example_test_files/sample_submission.csv')\n",
        "clinical = pd.read_csv('/kaggle/input/amp-parkinsons-disease-progression-prediction/example_test_files/test.csv')"
      ],
      "metadata": {
        "papermill": {
          "duration": 0.049684,
          "end_time": "2023-04-27T20:42:12.763236",
          "exception": false,
          "start_time": "2023-04-27T20:42:12.713552",
          "status": "completed"
        },
        "tags": [],
        "execution": {
          "iopub.status.busy": "2023-05-08T22:23:44.403495Z",
          "iopub.execute_input": "2023-05-08T22:23:44.403981Z",
          "iopub.status.idle": "2023-05-08T22:23:44.449955Z",
          "shell.execute_reply.started": "2023-05-08T22:23:44.403947Z",
          "shell.execute_reply": "2023-05-08T22:23:44.448903Z"
        },
        "trusted": true,
        "id": "YSv1tD3fLl77"
      },
      "execution_count": null,
      "outputs": [],
      "id": "YSv1tD3fLl77"
    },
    {
      "cell_type": "code",
      "source": [
        "def prepare_features(clinical, proteins):\n",
        "    \"\"\"Format features\"\"\"\n",
        "    X_submission = proteins.pivot(index='visit_id',columns='UniProt', values='NPX')\n",
        "    \n",
        "    \n",
        "    missing_visits = np.setdiff1d(np.array(clinical.visit_id.unique()), np.array(X_submission.index)).tolist()\n",
        "    missing_proteins = np.setdiff1d(np.array(protein_list), np.array(X_submission.columns)).tolist()\n",
        "    for mv in missing_visits:\n",
        "        X_submission.loc[mv] = np.NaN\n",
        "    \n",
        "    for mp in missing_proteins:\n",
        "        X_submission.loc[:,mp] = np.NaN\n",
        "        \n",
        "    X_submission = X_submission[protein_list]    \n",
        "    X_submission['visit_month'] = X_submission.reset_index().visit_id.str.split(\"_\").apply(lambda x: int(x[1])).values    \n",
        "    X_submission.visit_month = X_submission.visit_month.astype('float')\n",
        "    \n",
        "    return X_submission\n",
        "def get_predictions(features, model):\n",
        "    \"\"\"Make predictions from prepared features\"\"\"\n",
        "    X_submission_trans = preprocessor.transform(features)\n",
        "    # Predict and format ratings\n",
        "    pred_submission = np.around(np.abs(model.predict(X_submission_trans)),0)\n",
        "    pred_submission = pd.DataFrame(pred_submission, index= features.index, columns = y.columns)\n",
        "    \n",
        "    return pred_submission\n",
        "def format_predictions(predictions, sample_submission):\n",
        "    \"\"\"Format predictions for submission\"\"\"\n",
        "    pred_submission = pd.DataFrame(predictions.stack())\n",
        "\n",
        "    # Map predictions to sample_submission\n",
        "    pred_submission.index = pred_submission.index.map('_'.join)\n",
        "    pred_submission.columns = ['rating']\n",
        "    sample_submission.rating = sample_submission.prediction_id.map(pred_submission.rating)\n",
        "    \n",
        "    return sample_submission.fillna(0)"
      ],
      "metadata": {
        "papermill": {
          "duration": 0.024146,
          "end_time": "2023-04-27T20:42:12.800441",
          "exception": false,
          "start_time": "2023-04-27T20:42:12.776295",
          "status": "completed"
        },
        "tags": [],
        "execution": {
          "iopub.status.busy": "2023-05-08T22:23:44.451350Z",
          "iopub.execute_input": "2023-05-08T22:23:44.451696Z",
          "iopub.status.idle": "2023-05-08T22:23:44.463598Z",
          "shell.execute_reply.started": "2023-05-08T22:23:44.451668Z",
          "shell.execute_reply": "2023-05-08T22:23:44.462163Z"
        },
        "trusted": true,
        "id": "XCmMmceLLl78"
      },
      "execution_count": null,
      "outputs": [],
      "id": "XCmMmceLLl78"
    },
    {
      "cell_type": "markdown",
      "source": [
        "# Sequential Model with GRU"
      ],
      "metadata": {
        "papermill": {
          "duration": 0.009962,
          "end_time": "2023-04-27T20:39:46.136093",
          "exception": false,
          "start_time": "2023-04-27T20:39:46.126131",
          "status": "completed"
        },
        "tags": [],
        "id": "JavAVyPaLl78"
      },
      "id": "JavAVyPaLl78"
    },
    {
      "cell_type": "code",
      "source": [
        "model = Sequential()\n",
        "model.add(GRU(128, input_shape=(X.shape[1], 1), activation='relu', return_sequences=True))\n",
        "model.add(Dropout(0.15))\n",
        "model.add(GRU(64, activation='relu', kernel_regularizer=regularizers.l2(0.01), return_sequences=True))\n",
        "model.add(Dropout(0.15))\n",
        "model.add(GRU(32, activation='relu', kernel_regularizer=regularizers.l2(0.01)))\n",
        "model.add(Dropout(0.15))\n",
        "model.add(Dense(y.shape[1], activation='linear'))\n",
        "\n",
        "model.compile(optimizer='adam', loss=smape_loss_plus_one, metrics=[smape_loss_plus_one])\n",
        "\n",
        "# Reshape input data to be suitable for GRU layers\n",
        "X_transformed = X_transformed.reshape(X_transformed.shape[0], X_transformed.shape[1], 1)\n",
        "\n",
        "history = model.fit(X_transformed, y, epochs=50, batch_size=64, validation_split=.2, verbose=False)\n",
        "\n",
        "\n",
        "import matplotlib.pyplot as plt\n",
        "\n",
        "fig, axs = plt.subplots(1, 2, figsize=(12, 5))\n",
        "\n",
        "# Plot training and validation loss\n",
        "axs[0].plot(history.history['loss'])\n",
        "axs[0].plot(history.history['val_loss'])\n",
        "axs[0].set_title('Model Loss')\n",
        "axs[0].set_xlabel('Epoch')\n",
        "axs[0].set_ylabel('Loss')\n",
        "axs[0].legend(['Training', 'Validation'])\n",
        "\n",
        "# Plot training and validation SMAPE+1\n",
        "axs[1].plot(history.history['smape_loss_plus_one'])\n",
        "axs[1].plot(history.history['val_smape_loss_plus_one'])\n",
        "axs[1].set_title('Model SMAPE+1')\n",
        "axs[1].set_xlabel('Epoch')\n",
        "axs[1].set_ylabel('SMAPE+1')\n",
        "axs[1].legend(['Training', 'Validation'])\n",
        "\n",
        "plt.show()\n",
        "\n",
        "# Print the final training and validation loss\n",
        "print('Final training loss:', history.history['loss'][-1])\n",
        "print('Final validation loss:', history.history['val_loss'][-1])"
      ],
      "metadata": {
        "papermill": {
          "duration": 2.852082,
          "end_time": "2023-04-27T20:39:48.998258",
          "exception": false,
          "start_time": "2023-04-27T20:39:46.146176",
          "status": "completed"
        },
        "tags": [],
        "execution": {
          "iopub.status.busy": "2023-05-08T22:23:44.464842Z",
          "iopub.execute_input": "2023-05-08T22:23:44.466056Z",
          "iopub.status.idle": "2023-05-08T22:49:12.699164Z",
          "shell.execute_reply.started": "2023-05-08T22:23:44.466017Z",
          "shell.execute_reply": "2023-05-08T22:49:12.697780Z"
        },
        "trusted": true,
        "id": "qdN8SU0kLl78",
        "outputId": "2f5ed7b5-5e0a-4681-fcba-31acc1e1cd44"
      },
      "execution_count": null,
      "outputs": [
        {
          "output_type": "display_data",
          "data": {
            "text/plain": "<Figure size 1200x500 with 2 Axes>",
            "image/png": "[encoded data removed]"
          },
          "metadata": {}
        },
        {
          "name": "stdout",
          "text": "Final training loss: 1.4853540658950806\nFinal validation loss: 1.416481375694275\n",
          "output_type": "stream"
        }
      ],
      "id": "qdN8SU0kLl78"
    },
    {
      "cell_type": "code",
      "source": [
        "# Prepare test features\n",
        "test_features = prepare_features(clinical, test_proteins)\n",
        "\n",
        "# Make predictions for test features\n",
        "test_predictions = get_predictions(test_features, model)\n",
        "\n",
        "# Format predictions for submission\n",
        "test_submission = format_predictions(test_predictions, sample_submission)\n",
        "\n",
        "# Print the first few rows of the submission\n",
        "print(test_submission.head())\n",
        "\n"
      ],
      "metadata": {
        "execution": {
          "iopub.status.busy": "2023-05-08T23:15:34.374565Z",
          "iopub.execute_input": "2023-05-08T23:15:34.374948Z",
          "iopub.status.idle": "2023-05-08T23:15:35.610999Z",
          "shell.execute_reply.started": "2023-05-08T23:15:34.374921Z",
          "shell.execute_reply": "2023-05-08T23:15:35.609842Z"
        },
        "trusted": true,
        "id": "vV-JpyZILl78",
        "outputId": "cbcb4dd4-0be9-4b2f-a2e9-f3c99dd3387b"
      },
      "execution_count": null,
      "outputs": [
        {
          "name": "stdout",
          "text": "1/1 [==============================] - 0s 217ms/step\n                   prediction_id  rating  group_key\n0   3342_0_updrs_1_plus_0_months     7.0          0\n1   3342_0_updrs_1_plus_6_months     6.0          0\n2  3342_0_updrs_1_plus_12_months     7.0          0\n3  3342_0_updrs_1_plus_24_months     7.0          0\n4   3342_0_updrs_2_plus_0_months     7.0          0\n",
          "output_type": "stream"
        }
      ],
      "id": "vV-JpyZILl78"
    },
    {
      "cell_type": "code",
      "source": [
        "test_features = prepare_features(clinical, test_proteins)\n",
        "test_predictions = get_predictions(test_features,model)\n",
        "test_submission = format_predictions(test_predictions, sample_submission)\n",
        "test_submission"
      ],
      "metadata": {
        "papermill": {
          "duration": 0.318552,
          "end_time": "2023-04-27T20:42:13.198630",
          "exception": false,
          "start_time": "2023-04-27T20:42:12.880078",
          "status": "completed"
        },
        "tags": [],
        "execution": {
          "iopub.status.busy": "2023-05-08T23:15:37.206513Z",
          "iopub.execute_input": "2023-05-08T23:15:37.207050Z",
          "iopub.status.idle": "2023-05-08T23:15:38.552518Z",
          "shell.execute_reply.started": "2023-05-08T23:15:37.207007Z",
          "shell.execute_reply": "2023-05-08T23:15:38.551719Z"
        },
        "trusted": true,
        "id": "ZepLK7VQLl79",
        "outputId": "ec62e7ee-872c-4205-f06c-8c28d8f5ac84"
      },
      "execution_count": null,
      "outputs": [
        {
          "name": "stdout",
          "text": "1/1 [==============================] - 0s 268ms/step\n",
          "output_type": "stream"
        },
        {
          "execution_count": 29,
          "output_type": "execute_result",
          "data": {
            "text/plain": "                     prediction_id  rating  group_key\n0     3342_0_updrs_1_plus_0_months     7.0          0\n1     3342_0_updrs_1_plus_6_months     6.0          0\n2    3342_0_updrs_1_plus_12_months     7.0          0\n3    3342_0_updrs_1_plus_24_months     7.0          0\n4     3342_0_updrs_2_plus_0_months     7.0          0\n..                             ...     ...        ...\n59  50423_6_updrs_3_plus_24_months    23.0          6\n60   50423_6_updrs_4_plus_0_months     0.0          6\n61   50423_6_updrs_4_plus_6_months     0.0          6\n62  50423_6_updrs_4_plus_12_months     0.0          6\n63  50423_6_updrs_4_plus_24_months     0.0          6\n\n[64 rows x 3 columns]",
            "text/html": "<div>\n<style scoped>\n    .dataframe tbody tr th:only-of-type {\n        vertical-align: middle;\n    }\n\n    .dataframe tbody tr th {\n        vertical-align: top;\n    }\n\n    .dataframe thead th {\n        text-align: right;\n    }\n</style>\n<table border=\"1\" class=\"dataframe\">\n  <thead>\n    <tr style=\"text-align: right;\">\n      <th></th>\n      <th>prediction_id</th>\n      <th>rating</th>\n      <th>group_key</th>\n    </tr>\n  </thead>\n  <tbody>\n    <tr>\n      <th>0</th>\n      <td>3342_0_updrs_1_plus_0_months</td>\n      <td>7.0</td>\n      <td>0</td>\n    </tr>\n    <tr>\n      <th>1</th>\n      <td>3342_0_updrs_1_plus_6_months</td>\n      <td>6.0</td>\n      <td>0</td>\n    </tr>\n    <tr>\n      <th>2</th>\n      <td>3342_0_updrs_1_plus_12_months</td>\n      <td>7.0</td>\n      <td>0</td>\n    </tr>\n    <tr>\n      <th>3</th>\n      <td>3342_0_updrs_1_plus_24_months</td>\n      <td>7.0</td>\n      <td>0</td>\n    </tr>\n    <tr>\n      <th>4</th>\n      <td>3342_0_updrs_2_plus_0_months</td>\n      <td>7.0</td>\n      <td>0</td>\n    </tr>\n    <tr>\n      <th>...</th>\n      <td>...</td>\n      <td>...</td>\n      <td>...</td>\n    </tr>\n    <tr>\n      <th>59</th>\n      <td>50423_6_updrs_3_plus_24_months</td>\n      <td>23.0</td>\n      <td>6</td>\n    </tr>\n    <tr>\n      <th>60</th>\n      <td>50423_6_updrs_4_plus_0_months</td>\n      <td>0.0</td>\n      <td>6</td>\n    </tr>\n    <tr>\n      <th>61</th>\n      <td>50423_6_updrs_4_plus_6_months</td>\n      <td>0.0</td>\n      <td>6</td>\n    </tr>\n    <tr>\n      <th>62</th>\n      <td>50423_6_updrs_4_plus_12_months</td>\n      <td>0.0</td>\n      <td>6</td>\n    </tr>\n    <tr>\n      <th>63</th>\n      <td>50423_6_updrs_4_plus_24_months</td>\n      <td>0.0</td>\n      <td>6</td>\n    </tr>\n  </tbody>\n</table>\n<p>64 rows × 3 columns</p>\n</div>"
          },
          "metadata": {}
        }
      ],
      "id": "ZepLK7VQLl79"
    },
    {
      "cell_type": "markdown",
      "source": [
        "### Submission for Sequential Model with GRU"
      ],
      "metadata": {
        "papermill": {
          "duration": 0.012884,
          "end_time": "2023-04-27T20:42:13.224664",
          "exception": false,
          "start_time": "2023-04-27T20:42:13.211780",
          "status": "completed"
        },
        "tags": [],
        "id": "Z1rzxHYALl79"
      },
      "id": "Z1rzxHYALl79"
    },
    {
      "cell_type": "code",
      "source": [
        "import sys\n",
        "sys.path.append('/kaggle/input/amp-parkinsons-disease-progression-prediction')\n",
        "\n",
        "import amp_pd_peptide_310\n",
        "env = amp_pd_peptide_310.make_env()   # environment provided by competition\n",
        "iter_test = env.iter_test()"
      ],
      "metadata": {
        "papermill": {
          "duration": 0.074663,
          "end_time": "2023-04-27T20:42:13.311975",
          "exception": false,
          "start_time": "2023-04-27T20:42:13.237312",
          "status": "completed"
        },
        "tags": [],
        "execution": {
          "iopub.status.busy": "2023-05-08T23:15:48.340699Z",
          "iopub.execute_input": "2023-05-08T23:15:48.341119Z",
          "iopub.status.idle": "2023-05-08T23:15:48.346780Z",
          "shell.execute_reply.started": "2023-05-08T23:15:48.341087Z",
          "shell.execute_reply": "2023-05-08T23:15:48.345598Z"
        },
        "trusted": true,
        "id": "FZe19ZRCLl79"
      },
      "execution_count": null,
      "outputs": [],
      "id": "FZe19ZRCLl79"
    },
    {
      "cell_type": "code",
      "source": [
        "for (test, test_peptides, test_proteins, sample_submission) in iter_test:\n",
        "    sub_features = prepare_features(test, test_proteins)\n",
        "    sub_predictions = get_predictions(sub_features,model)\n",
        "    submission = format_predictions(sub_predictions, sample_submission)\n",
        "\n",
        "    env.predict(submission)"
      ],
      "metadata": {
        "papermill": {
          "duration": 0.366494,
          "end_time": "2023-04-27T20:42:13.691550",
          "exception": false,
          "start_time": "2023-04-27T20:42:13.325056",
          "status": "completed"
        },
        "tags": [],
        "execution": {
          "iopub.status.busy": "2023-05-08T23:15:50.160866Z",
          "iopub.execute_input": "2023-05-08T23:15:50.161528Z",
          "iopub.status.idle": "2023-05-08T23:15:52.579924Z",
          "shell.execute_reply.started": "2023-05-08T23:15:50.161484Z",
          "shell.execute_reply": "2023-05-08T23:15:52.578757Z"
        },
        "trusted": true,
        "id": "k5FsdNcXLl79",
        "outputId": "958e9abe-67fc-4be5-8146-a9a3df0cc0bc"
      },
      "execution_count": null,
      "outputs": [
        {
          "name": "stdout",
          "text": "This version of the API is not optimized and should not be used to estimate the runtime of your code on the hidden test set.\n1/1 [==============================] - 0s 215ms/step\n1/1 [==============================] - 0s 204ms/step\n",
          "output_type": "stream"
        }
      ],
      "id": "k5FsdNcXLl79"
    },
    {
      "cell_type": "code",
      "source": [
        "pd.read_csv('/kaggle/working/submission.csv')"
      ],
      "metadata": {
        "papermill": {
          "duration": 0.031726,
          "end_time": "2023-04-27T20:42:13.736406",
          "exception": false,
          "start_time": "2023-04-27T20:42:13.704680",
          "status": "completed"
        },
        "tags": [],
        "execution": {
          "iopub.status.busy": "2023-05-08T23:15:52.581798Z",
          "iopub.execute_input": "2023-05-08T23:15:52.582122Z",
          "iopub.status.idle": "2023-05-08T23:15:52.598007Z",
          "shell.execute_reply.started": "2023-05-08T23:15:52.582094Z",
          "shell.execute_reply": "2023-05-08T23:15:52.596801Z"
        },
        "trusted": true,
        "id": "LsQNP4vGLl79",
        "outputId": "b4d1359f-6a63-4870-e388-1448a35b6645"
      },
      "execution_count": null,
      "outputs": [
        {
          "execution_count": 32,
          "output_type": "execute_result",
          "data": {
            "text/plain": "                     prediction_id  rating\n0     3342_0_updrs_1_plus_0_months     7.0\n1     3342_0_updrs_1_plus_6_months     6.0\n2    3342_0_updrs_1_plus_12_months     7.0\n3    3342_0_updrs_1_plus_24_months     7.0\n4     3342_0_updrs_2_plus_0_months     7.0\n..                             ...     ...\n59  50423_6_updrs_3_plus_24_months    23.0\n60   50423_6_updrs_4_plus_0_months     0.0\n61   50423_6_updrs_4_plus_6_months     0.0\n62  50423_6_updrs_4_plus_12_months     0.0\n63  50423_6_updrs_4_plus_24_months     0.0\n\n[64 rows x 2 columns]",
            "text/html": "<div>\n<style scoped>\n    .dataframe tbody tr th:only-of-type {\n        vertical-align: middle;\n    }\n\n    .dataframe tbody tr th {\n        vertical-align: top;\n    }\n\n    .dataframe thead th {\n        text-align: right;\n    }\n</style>\n<table border=\"1\" class=\"dataframe\">\n  <thead>\n    <tr style=\"text-align: right;\">\n      <th></th>\n      <th>prediction_id</th>\n      <th>rating</th>\n    </tr>\n  </thead>\n  <tbody>\n    <tr>\n      <th>0</th>\n      <td>3342_0_updrs_1_plus_0_months</td>\n      <td>7.0</td>\n    </tr>\n    <tr>\n      <th>1</th>\n      <td>3342_0_updrs_1_plus_6_months</td>\n      <td>6.0</td>\n    </tr>\n    <tr>\n      <th>2</th>\n      <td>3342_0_updrs_1_plus_12_months</td>\n      <td>7.0</td>\n    </tr>\n    <tr>\n      <th>3</th>\n      <td>3342_0_updrs_1_plus_24_months</td>\n      <td>7.0</td>\n    </tr>\n    <tr>\n      <th>4</th>\n      <td>3342_0_updrs_2_plus_0_months</td>\n      <td>7.0</td>\n    </tr>\n    <tr>\n      <th>...</th>\n      <td>...</td>\n      <td>...</td>\n    </tr>\n    <tr>\n      <th>59</th>\n      <td>50423_6_updrs_3_plus_24_months</td>\n      <td>23.0</td>\n    </tr>\n    <tr>\n      <th>60</th>\n      <td>50423_6_updrs_4_plus_0_months</td>\n      <td>0.0</td>\n    </tr>\n    <tr>\n      <th>61</th>\n      <td>50423_6_updrs_4_plus_6_months</td>\n      <td>0.0</td>\n    </tr>\n    <tr>\n      <th>62</th>\n      <td>50423_6_updrs_4_plus_12_months</td>\n      <td>0.0</td>\n    </tr>\n    <tr>\n      <th>63</th>\n      <td>50423_6_updrs_4_plus_24_months</td>\n      <td>0.0</td>\n    </tr>\n  </tbody>\n</table>\n<p>64 rows × 2 columns</p>\n</div>"
          },
          "metadata": {}
        }
      ],
      "id": "LsQNP4vGLl79"
    },
    {
      "cell_type": "markdown",
      "source": [
        "# Sequential DL Model with fully connected layers"
      ],
      "metadata": {
        "id": "wzPtiH8jLl79"
      },
      "id": "wzPtiH8jLl79"
    },
    {
      "cell_type": "code",
      "source": [
        "model = Sequential()\n",
        "model.add(Dense(256, input_shape=[X.shape[1]], activation='relu'))\n",
        "model.add(Dropout(0.35))\n",
        "model.add(Dense(128, activation='relu', kernel_regularizer=regularizers.l2(0.01)))\n",
        "model.add(Dropout(0.35))\n",
        "model.add(Dense(64, activation='relu', kernel_regularizer=regularizers.l2(0.01)))\n",
        "model.add(Dropout(0.35))\n",
        "model.add(Dense(32, activation='relu', kernel_regularizer=regularizers.l2(0.01)))\n",
        "model.add(Dropout(0.35))\n",
        "model.add(Dense(y.shape[1], activation='linear'))\n",
        "\n",
        "model.compile(optimizer='adam', loss=smape_loss_plus_one, metrics=[smape_loss_plus_one])\n",
        "\n",
        "history = model.fit(X_transformed, y, epochs=500, batch_size=32, validation_split=.2, verbose=False)\n",
        "\n",
        "import matplotlib.pyplot as plt\n",
        "\n",
        "fig, axs = plt.subplots(1, 2, figsize=(12, 5))\n",
        "\n",
        "# Plot training and validation loss\n",
        "axs[0].plot(history.history['loss'])\n",
        "axs[0].plot(history.history['val_loss'])\n",
        "axs[0].set_title('Model Loss')\n",
        "axs[0].set_xlabel('Epoch')\n",
        "axs[0].set_ylabel('Loss')\n",
        "axs[0].legend(['Training', 'Validation'])\n",
        "\n",
        "# Plot training and validation SMAPE+1\n",
        "axs[1].plot(history.history['smape_loss_plus_one'])\n",
        "axs[1].plot(history.history['val_smape_loss_plus_one'])\n",
        "axs[1].set_title('Model SMAPE+1')\n",
        "axs[1].set_xlabel('Epoch')\n",
        "axs[1].set_ylabel('SMAPE+1')\n",
        "axs[1].legend(['Training', 'Validation'])\n",
        "\n",
        "plt.show()\n",
        "\n",
        "# Print the final training and validation loss\n",
        "print('Final training loss:', history.history['loss'][-1])\n",
        "print('Final validation loss:', history.history['val_loss'][-1])"
      ],
      "metadata": {
        "papermill": {
          "duration": 2.852082,
          "end_time": "2023-04-27T20:39:48.998258",
          "exception": false,
          "start_time": "2023-04-27T20:39:46.146176",
          "status": "completed"
        },
        "tags": [],
        "execution": {
          "iopub.status.busy": "2023-05-08T23:16:07.654195Z",
          "iopub.execute_input": "2023-05-08T23:16:07.654593Z",
          "iopub.status.idle": "2023-05-08T23:17:38.152883Z",
          "shell.execute_reply.started": "2023-05-08T23:16:07.654566Z",
          "shell.execute_reply": "2023-05-08T23:17:38.151663Z"
        },
        "trusted": true,
        "id": "U14mQ3eYLl79",
        "outputId": "fd908ab4-66cf-4858-8c0d-8ee806183acc"
      },
      "execution_count": null,
      "outputs": [
        {
          "output_type": "display_data",
          "data": {
            "text/plain": "<Figure size 1200x500 with 2 Axes>",
            "image/png": "[encoded data removed]"
          },
          "metadata": {}
        },
        {
          "name": "stdout",
          "text": "Final training loss: 0.5371091961860657\nFinal validation loss: 0.609063982963562\n",
          "output_type": "stream"
        }
      ],
      "id": "U14mQ3eYLl79"
    },
    {
      "cell_type": "code",
      "source": [
        "# Prepare test features\n",
        "test_features = prepare_features(clinical, test_proteins)\n",
        "\n",
        "# Make predictions for test features\n",
        "test_predictions = get_predictions(test_features, model)\n",
        "\n",
        "# Format predictions for submission\n",
        "test_submission = format_predictions(test_predictions, sample_submission)\n",
        "\n",
        "# Print the first few rows of the submission\n",
        "print(test_submission.head())\n",
        "\n"
      ],
      "metadata": {
        "execution": {
          "iopub.status.busy": "2023-05-08T23:17:38.154949Z",
          "iopub.execute_input": "2023-05-08T23:17:38.155315Z",
          "iopub.status.idle": "2023-05-08T23:17:39.269197Z",
          "shell.execute_reply.started": "2023-05-08T23:17:38.155284Z",
          "shell.execute_reply": "2023-05-08T23:17:39.267746Z"
        },
        "trusted": true,
        "id": "UeOXA6WuLl7-",
        "outputId": "63eba040-fb68-4f94-976e-84ed14109313"
      },
      "execution_count": null,
      "outputs": [
        {
          "name": "stdout",
          "text": "1/1 [==============================] - 0s 79ms/step\n                   prediction_id  rating\n0   3342_6_updrs_1_plus_0_months     5.0\n1   3342_6_updrs_1_plus_6_months     6.0\n2  3342_6_updrs_1_plus_12_months     6.0\n3  3342_6_updrs_1_plus_24_months     6.0\n4   3342_6_updrs_2_plus_0_months     4.0\n",
          "output_type": "stream"
        }
      ],
      "id": "UeOXA6WuLl7-"
    },
    {
      "cell_type": "code",
      "source": [
        "test_features = prepare_features(clinical, test_proteins)\n",
        "test_predictions = get_predictions(test_features,model)\n",
        "test_submission = format_predictions(test_predictions, sample_submission)\n",
        "test_submission"
      ],
      "metadata": {
        "papermill": {
          "duration": 0.318552,
          "end_time": "2023-04-27T20:42:13.198630",
          "exception": false,
          "start_time": "2023-04-27T20:42:12.880078",
          "status": "completed"
        },
        "tags": [],
        "execution": {
          "iopub.status.busy": "2023-05-08T23:17:39.270996Z",
          "iopub.execute_input": "2023-05-08T23:17:39.271471Z",
          "iopub.status.idle": "2023-05-08T23:17:40.333440Z",
          "shell.execute_reply.started": "2023-05-08T23:17:39.271410Z",
          "shell.execute_reply": "2023-05-08T23:17:40.332074Z"
        },
        "trusted": true,
        "id": "q4Ml5_BrLl7-",
        "outputId": "f1ff4b96-d155-4af0-84a8-1065e01bac89"
      },
      "execution_count": null,
      "outputs": [
        {
          "name": "stdout",
          "text": "1/1 [==============================] - 0s 23ms/step\n",
          "output_type": "stream"
        },
        {
          "execution_count": 35,
          "output_type": "execute_result",
          "data": {
            "text/plain": "                     prediction_id  rating\n0     3342_6_updrs_1_plus_0_months     5.0\n1     3342_6_updrs_1_plus_6_months     6.0\n2    3342_6_updrs_1_plus_12_months     6.0\n3    3342_6_updrs_1_plus_24_months     6.0\n4     3342_6_updrs_2_plus_0_months     4.0\n5     3342_6_updrs_2_plus_6_months     5.0\n6    3342_6_updrs_2_plus_12_months     5.0\n7    3342_6_updrs_2_plus_24_months     5.0\n8     3342_6_updrs_3_plus_0_months    14.0\n9     3342_6_updrs_3_plus_6_months    15.0\n10   3342_6_updrs_3_plus_12_months    15.0\n11   3342_6_updrs_3_plus_24_months    16.0\n12    3342_6_updrs_4_plus_0_months     0.0\n13    3342_6_updrs_4_plus_6_months     0.0\n14   3342_6_updrs_4_plus_12_months     0.0\n15   3342_6_updrs_4_plus_24_months     0.0\n16   50423_6_updrs_1_plus_0_months     5.0\n17   50423_6_updrs_1_plus_6_months     6.0\n18  50423_6_updrs_1_plus_12_months     6.0\n19  50423_6_updrs_1_plus_24_months     6.0\n20   50423_6_updrs_2_plus_0_months     4.0\n21   50423_6_updrs_2_plus_6_months     5.0\n22  50423_6_updrs_2_plus_12_months     5.0\n23  50423_6_updrs_2_plus_24_months     5.0\n24   50423_6_updrs_3_plus_0_months    14.0\n25   50423_6_updrs_3_plus_6_months    15.0\n26  50423_6_updrs_3_plus_12_months    15.0\n27  50423_6_updrs_3_plus_24_months    16.0\n28   50423_6_updrs_4_plus_0_months     0.0\n29   50423_6_updrs_4_plus_6_months     0.0\n30  50423_6_updrs_4_plus_12_months     0.0\n31  50423_6_updrs_4_plus_24_months     0.0",
            "text/html": "<div>\n<style scoped>\n    .dataframe tbody tr th:only-of-type {\n        vertical-align: middle;\n    }\n\n    .dataframe tbody tr th {\n        vertical-align: top;\n    }\n\n    .dataframe thead th {\n        text-align: right;\n    }\n</style>\n<table border=\"1\" class=\"dataframe\">\n  <thead>\n    <tr style=\"text-align: right;\">\n      <th></th>\n      <th>prediction_id</th>\n      <th>rating</th>\n    </tr>\n  </thead>\n  <tbody>\n    <tr>\n      <th>0</th>\n      <td>3342_6_updrs_1_plus_0_months</td>\n      <td>5.0</td>\n    </tr>\n    <tr>\n      <th>1</th>\n      <td>3342_6_updrs_1_plus_6_months</td>\n      <td>6.0</td>\n    </tr>\n    <tr>\n      <th>2</th>\n      <td>3342_6_updrs_1_plus_12_months</td>\n      <td>6.0</td>\n    </tr>\n    <tr>\n      <th>3</th>\n      <td>3342_6_updrs_1_plus_24_months</td>\n      <td>6.0</td>\n    </tr>\n    <tr>\n      <th>4</th>\n      <td>3342_6_updrs_2_plus_0_months</td>\n      <td>4.0</td>\n    </tr>\n    <tr>\n      <th>5</th>\n      <td>3342_6_updrs_2_plus_6_months</td>\n      <td>5.0</td>\n    </tr>\n    <tr>\n      <th>6</th>\n      <td>3342_6_updrs_2_plus_12_months</td>\n      <td>5.0</td>\n    </tr>\n    <tr>\n      <th>7</th>\n      <td>3342_6_updrs_2_plus_24_months</td>\n      <td>5.0</td>\n    </tr>\n    <tr>\n      <th>8</th>\n      <td>3342_6_updrs_3_plus_0_months</td>\n      <td>14.0</td>\n    </tr>\n    <tr>\n      <th>9</th>\n      <td>3342_6_updrs_3_plus_6_months</td>\n      <td>15.0</td>\n    </tr>\n    <tr>\n      <th>10</th>\n      <td>3342_6_updrs_3_plus_12_months</td>\n      <td>15.0</td>\n    </tr>\n    <tr>\n      <th>11</th>\n      <td>3342_6_updrs_3_plus_24_months</td>\n      <td>16.0</td>\n    </tr>\n    <tr>\n      <th>12</th>\n      <td>3342_6_updrs_4_plus_0_months</td>\n      <td>0.0</td>\n    </tr>\n    <tr>\n      <th>13</th>\n      <td>3342_6_updrs_4_plus_6_months</td>\n      <td>0.0</td>\n    </tr>\n    <tr>\n      <th>14</th>\n      <td>3342_6_updrs_4_plus_12_months</td>\n      <td>0.0</td>\n    </tr>\n    <tr>\n      <th>15</th>\n      <td>3342_6_updrs_4_plus_24_months</td>\n      <td>0.0</td>\n    </tr>\n    <tr>\n      <th>16</th>\n      <td>50423_6_updrs_1_plus_0_months</td>\n      <td>5.0</td>\n    </tr>\n    <tr>\n      <th>17</th>\n      <td>50423_6_updrs_1_plus_6_months</td>\n      <td>6.0</td>\n    </tr>\n    <tr>\n      <th>18</th>\n      <td>50423_6_updrs_1_plus_12_months</td>\n      <td>6.0</td>\n    </tr>\n    <tr>\n      <th>19</th>\n      <td>50423_6_updrs_1_plus_24_months</td>\n      <td>6.0</td>\n    </tr>\n    <tr>\n      <th>20</th>\n      <td>50423_6_updrs_2_plus_0_months</td>\n      <td>4.0</td>\n    </tr>\n    <tr>\n      <th>21</th>\n      <td>50423_6_updrs_2_plus_6_months</td>\n      <td>5.0</td>\n    </tr>\n    <tr>\n      <th>22</th>\n      <td>50423_6_updrs_2_plus_12_months</td>\n      <td>5.0</td>\n    </tr>\n    <tr>\n      <th>23</th>\n      <td>50423_6_updrs_2_plus_24_months</td>\n      <td>5.0</td>\n    </tr>\n    <tr>\n      <th>24</th>\n      <td>50423_6_updrs_3_plus_0_months</td>\n      <td>14.0</td>\n    </tr>\n    <tr>\n      <th>25</th>\n      <td>50423_6_updrs_3_plus_6_months</td>\n      <td>15.0</td>\n    </tr>\n    <tr>\n      <th>26</th>\n      <td>50423_6_updrs_3_plus_12_months</td>\n      <td>15.0</td>\n    </tr>\n    <tr>\n      <th>27</th>\n      <td>50423_6_updrs_3_plus_24_months</td>\n      <td>16.0</td>\n    </tr>\n    <tr>\n      <th>28</th>\n      <td>50423_6_updrs_4_plus_0_months</td>\n      <td>0.0</td>\n    </tr>\n    <tr>\n      <th>29</th>\n      <td>50423_6_updrs_4_plus_6_months</td>\n      <td>0.0</td>\n    </tr>\n    <tr>\n      <th>30</th>\n      <td>50423_6_updrs_4_plus_12_months</td>\n      <td>0.0</td>\n    </tr>\n    <tr>\n      <th>31</th>\n      <td>50423_6_updrs_4_plus_24_months</td>\n      <td>0.0</td>\n    </tr>\n  </tbody>\n</table>\n</div>"
          },
          "metadata": {}
        }
      ],
      "id": "q4Ml5_BrLl7-"
    },
    {
      "cell_type": "markdown",
      "source": [
        "### Submission for Sequential Model with fully connected layers"
      ],
      "metadata": {
        "papermill": {
          "duration": 0.012884,
          "end_time": "2023-04-27T20:42:13.224664",
          "exception": false,
          "start_time": "2023-04-27T20:42:13.211780",
          "status": "completed"
        },
        "tags": [],
        "id": "dRfcGGoMLl7-"
      },
      "id": "dRfcGGoMLl7-"
    },
    {
      "cell_type": "code",
      "source": [
        "import sys\n",
        "sys.path.append('/kaggle/input/amp-parkinsons-disease-progression-prediction')\n",
        "\n",
        "import amp_pd_peptide_310\n",
        "env = amp_pd_peptide_310.make_env()   # environment provided by competition\n",
        "iter_test = env.iter_test()"
      ],
      "metadata": {
        "id": "_ai4G9kALrp2"
      },
      "id": "_ai4G9kALrp2",
      "execution_count": null,
      "outputs": []
    },
    {
      "cell_type": "code",
      "source": [
        "for (test, test_peptides, test_proteins, sample_submission) in iter_test:\n",
        "    sub_features = prepare_features(test, test_proteins)\n",
        "    sub_predictions = get_predictions(sub_features,model)\n",
        "    submission = format_predictions(sub_predictions, sample_submission)\n",
        "\n",
        "    env.predict(submission)"
      ],
      "metadata": {
        "papermill": {
          "duration": 0.366494,
          "end_time": "2023-04-27T20:42:13.691550",
          "exception": false,
          "start_time": "2023-04-27T20:42:13.325056",
          "status": "completed"
        },
        "tags": [],
        "execution": {
          "iopub.status.busy": "2023-05-08T23:17:55.298079Z",
          "iopub.execute_input": "2023-05-08T23:17:55.298537Z",
          "iopub.status.idle": "2023-05-08T23:17:55.304788Z",
          "shell.execute_reply.started": "2023-05-08T23:17:55.298499Z",
          "shell.execute_reply": "2023-05-08T23:17:55.303484Z"
        },
        "trusted": true,
        "id": "VTpEizIlLl8H"
      },
      "execution_count": null,
      "outputs": [],
      "id": "VTpEizIlLl8H"
    },
    {
      "cell_type": "code",
      "source": [
        "pd.read_csv('/kaggle/working/submission.csv')"
      ],
      "metadata": {
        "papermill": {
          "duration": 0.031726,
          "end_time": "2023-04-27T20:42:13.736406",
          "exception": false,
          "start_time": "2023-04-27T20:42:13.704680",
          "status": "completed"
        },
        "tags": [],
        "execution": {
          "iopub.status.busy": "2023-05-08T23:17:56.666828Z",
          "iopub.execute_input": "2023-05-08T23:17:56.667301Z",
          "iopub.status.idle": "2023-05-08T23:17:56.685236Z",
          "shell.execute_reply.started": "2023-05-08T23:17:56.667262Z",
          "shell.execute_reply": "2023-05-08T23:17:56.683760Z"
        },
        "trusted": true,
        "id": "PvT840gnLl8H",
        "outputId": "605e5741-78fb-425f-fcb2-4a3eabd44190"
      },
      "execution_count": null,
      "outputs": [
        {
          "execution_count": 38,
          "output_type": "execute_result",
          "data": {
            "text/plain": "                     prediction_id  rating\n0     3342_0_updrs_1_plus_0_months     7.0\n1     3342_0_updrs_1_plus_6_months     6.0\n2    3342_0_updrs_1_plus_12_months     7.0\n3    3342_0_updrs_1_plus_24_months     7.0\n4     3342_0_updrs_2_plus_0_months     7.0\n..                             ...     ...\n59  50423_6_updrs_3_plus_24_months    23.0\n60   50423_6_updrs_4_plus_0_months     0.0\n61   50423_6_updrs_4_plus_6_months     0.0\n62  50423_6_updrs_4_plus_12_months     0.0\n63  50423_6_updrs_4_plus_24_months     0.0\n\n[64 rows x 2 columns]",
            "text/html": "<div>\n<style scoped>\n    .dataframe tbody tr th:only-of-type {\n        vertical-align: middle;\n    }\n\n    .dataframe tbody tr th {\n        vertical-align: top;\n    }\n\n    .dataframe thead th {\n        text-align: right;\n    }\n</style>\n<table border=\"1\" class=\"dataframe\">\n  <thead>\n    <tr style=\"text-align: right;\">\n      <th></th>\n      <th>prediction_id</th>\n      <th>rating</th>\n    </tr>\n  </thead>\n  <tbody>\n    <tr>\n      <th>0</th>\n      <td>3342_0_updrs_1_plus_0_months</td>\n      <td>7.0</td>\n    </tr>\n    <tr>\n      <th>1</th>\n      <td>3342_0_updrs_1_plus_6_months</td>\n      <td>6.0</td>\n    </tr>\n    <tr>\n      <th>2</th>\n      <td>3342_0_updrs_1_plus_12_months</td>\n      <td>7.0</td>\n    </tr>\n    <tr>\n      <th>3</th>\n      <td>3342_0_updrs_1_plus_24_months</td>\n      <td>7.0</td>\n    </tr>\n    <tr>\n      <th>4</th>\n      <td>3342_0_updrs_2_plus_0_months</td>\n      <td>7.0</td>\n    </tr>\n    <tr>\n      <th>...</th>\n      <td>...</td>\n      <td>...</td>\n    </tr>\n    <tr>\n      <th>59</th>\n      <td>50423_6_updrs_3_plus_24_months</td>\n      <td>23.0</td>\n    </tr>\n    <tr>\n      <th>60</th>\n      <td>50423_6_updrs_4_plus_0_months</td>\n      <td>0.0</td>\n    </tr>\n    <tr>\n      <th>61</th>\n      <td>50423_6_updrs_4_plus_6_months</td>\n      <td>0.0</td>\n    </tr>\n    <tr>\n      <th>62</th>\n      <td>50423_6_updrs_4_plus_12_months</td>\n      <td>0.0</td>\n    </tr>\n    <tr>\n      <th>63</th>\n      <td>50423_6_updrs_4_plus_24_months</td>\n      <td>0.0</td>\n    </tr>\n  </tbody>\n</table>\n<p>64 rows × 2 columns</p>\n</div>"
          },
          "metadata": {}
        }
      ],
      "id": "PvT840gnLl8H"
    },
    {
      "cell_type": "code",
      "source": [],
      "metadata": {
        "id": "4CnxCH3hLl8I"
      },
      "execution_count": null,
      "outputs": [],
      "id": "4CnxCH3hLl8I"
    },
    {
      "cell_type": "markdown",
      "source": [
        "# Sequential DL Model with RNN"
      ],
      "metadata": {
        "id": "MgyKNBl4Ll8I"
      },
      "id": "MgyKNBl4Ll8I"
    },
    {
      "cell_type": "code",
      "source": [
        "model = Sequential()\n",
        "model.add(SimpleRNN(128, input_shape=(X.shape[1], 1), activation='relu', return_sequences=True))\n",
        "model.add(Dropout(0.15))\n",
        "model.add(SimpleRNN(64, activation='relu', kernel_regularizer=regularizers.l2(0.01), return_sequences=True))\n",
        "model.add(Dropout(0.15))\n",
        "model.add(SimpleRNN(32, activation='relu', kernel_regularizer=regularizers.l2(0.01)))\n",
        "model.add(Dropout(0.15))\n",
        "model.add(Dense(y.shape[1], activation='linear'))\n",
        "\n",
        "model.compile(optimizer='adam', loss=smape_loss_plus_one, metrics=[smape_loss_plus_one])\n",
        "\n",
        "# Reshape input data to be suitable for GRU layers\n",
        "X_transformed = X_transformed.reshape(X_transformed.shape[0], X_transformed.shape[1], 1)\n",
        "\n",
        "history = model.fit(X_transformed, y, epochs=50, batch_size=64, validation_split=.2, verbose=False)\n",
        "\n",
        "\n",
        "import matplotlib.pyplot as plt\n",
        "\n",
        "fig, axs = plt.subplots(1, 2, figsize=(12, 5))\n",
        "\n",
        "# Plot training and validation loss\n",
        "axs[0].plot(history.history['loss'])\n",
        "axs[0].plot(history.history['val_loss'])\n",
        "axs[0].set_title('Model Loss')\n",
        "axs[0].set_xlabel('Epoch')\n",
        "axs[0].set_ylabel('Loss')\n",
        "axs[0].legend(['Training', 'Validation'])\n",
        "\n",
        "# Plot training and validation SMAPE+1\n",
        "axs[1].plot(history.history['smape_loss_plus_one'])\n",
        "axs[1].plot(history.history['val_smape_loss_plus_one'])\n",
        "axs[1].set_title('Model SMAPE+1')\n",
        "axs[1].set_xlabel('Epoch')\n",
        "axs[1].set_ylabel('SMAPE+1')\n",
        "axs[1].legend(['Training', 'Validation'])\n",
        "\n",
        "plt.show()\n",
        "\n",
        "# Print the final training and validation loss\n",
        "print('Final training loss:', history.history['loss'][-1])\n",
        "print('Final validation loss:', history.history['val_loss'][-1])"
      ],
      "metadata": {
        "papermill": {
          "duration": 2.852082,
          "end_time": "2023-04-27T20:39:48.998258",
          "exception": false,
          "start_time": "2023-04-27T20:39:46.146176",
          "status": "completed"
        },
        "tags": [],
        "execution": {
          "iopub.status.busy": "2023-05-08T23:18:20.073155Z",
          "iopub.execute_input": "2023-05-08T23:18:20.073574Z",
          "iopub.status.idle": "2023-05-08T23:29:45.583429Z",
          "shell.execute_reply.started": "2023-05-08T23:18:20.073542Z",
          "shell.execute_reply": "2023-05-08T23:29:45.582364Z"
        },
        "trusted": true,
        "id": "wxrUlgAkLl8I",
        "outputId": "be00e3ef-9780-4b27-ceb3-15c2fc6064e4"
      },
      "execution_count": null,
      "outputs": [
        {
          "output_type": "display_data",
          "data": {
            "text/plain": "<Figure size 1200x500 with 2 Axes>",
            "image/png": "[encoded data removed]"
          },
          "metadata": {}
        },
        {
          "name": "stdout",
          "text": "Final training loss: 0.6354522109031677\nFinal validation loss: 0.5708218812942505\n",
          "output_type": "stream"
        }
      ],
      "id": "wxrUlgAkLl8I"
    },
    {
      "cell_type": "code",
      "source": [
        "# Prepare test features\n",
        "test_features = prepare_features(clinical, test_proteins)\n",
        "\n",
        "# Make predictions for test features\n",
        "test_predictions = get_predictions(test_features, model)\n",
        "\n",
        "# Format predictions for submission\n",
        "test_submission = format_predictions(test_predictions, sample_submission)\n",
        "\n",
        "# Print the first few rows of the submission\n",
        "print(test_submission.head())\n",
        "\n"
      ],
      "metadata": {
        "execution": {
          "iopub.status.busy": "2023-05-08T23:29:45.585439Z",
          "iopub.execute_input": "2023-05-08T23:29:45.585902Z",
          "iopub.status.idle": "2023-05-08T23:29:47.169759Z",
          "shell.execute_reply.started": "2023-05-08T23:29:45.585864Z",
          "shell.execute_reply": "2023-05-08T23:29:47.167967Z"
        },
        "trusted": true,
        "id": "2gePVpudLl8I",
        "outputId": "ab6a68b8-204b-42c3-d1d3-53c3db82567a"
      },
      "execution_count": null,
      "outputs": [
        {
          "name": "stdout",
          "text": "1/1 [==============================] - 1s 529ms/step\n                   prediction_id  rating\n0   3342_6_updrs_1_plus_0_months     7.0\n1   3342_6_updrs_1_plus_6_months     7.0\n2  3342_6_updrs_1_plus_12_months     7.0\n3  3342_6_updrs_1_plus_24_months     7.0\n4   3342_6_updrs_2_plus_0_months     7.0\n",
          "output_type": "stream"
        }
      ],
      "id": "2gePVpudLl8I"
    },
    {
      "cell_type": "code",
      "source": [
        "test_features = prepare_features(clinical, test_proteins)\n",
        "test_predictions = get_predictions(test_features,model)\n",
        "test_submission = format_predictions(test_predictions, sample_submission)\n",
        "test_submission"
      ],
      "metadata": {
        "papermill": {
          "duration": 0.318552,
          "end_time": "2023-04-27T20:42:13.198630",
          "exception": false,
          "start_time": "2023-04-27T20:42:12.880078",
          "status": "completed"
        },
        "tags": [],
        "execution": {
          "iopub.status.busy": "2023-05-08T23:29:47.175272Z",
          "iopub.execute_input": "2023-05-08T23:29:47.176649Z",
          "iopub.status.idle": "2023-05-08T23:29:48.403163Z",
          "shell.execute_reply.started": "2023-05-08T23:29:47.176601Z",
          "shell.execute_reply": "2023-05-08T23:29:48.401880Z"
        },
        "trusted": true,
        "id": "OY5SIqdeLl8I",
        "outputId": "aa95c1fd-4b3c-4826-e2fb-e0aa57d23bd7"
      },
      "execution_count": null,
      "outputs": [
        {
          "name": "stdout",
          "text": "1/1 [==============================] - 0s 170ms/step\n",
          "output_type": "stream"
        },
        {
          "execution_count": 43,
          "output_type": "execute_result",
          "data": {
            "text/plain": "                     prediction_id  rating\n0     3342_6_updrs_1_plus_0_months     7.0\n1     3342_6_updrs_1_plus_6_months     7.0\n2    3342_6_updrs_1_plus_12_months     7.0\n3    3342_6_updrs_1_plus_24_months     7.0\n4     3342_6_updrs_2_plus_0_months     7.0\n5     3342_6_updrs_2_plus_6_months     7.0\n6    3342_6_updrs_2_plus_12_months     7.0\n7    3342_6_updrs_2_plus_24_months     7.0\n8     3342_6_updrs_3_plus_0_months    18.0\n9     3342_6_updrs_3_plus_6_months    21.0\n10   3342_6_updrs_3_plus_12_months    20.0\n11   3342_6_updrs_3_plus_24_months    20.0\n12    3342_6_updrs_4_plus_0_months     0.0\n13    3342_6_updrs_4_plus_6_months     0.0\n14   3342_6_updrs_4_plus_12_months     0.0\n15   3342_6_updrs_4_plus_24_months     0.0\n16   50423_6_updrs_1_plus_0_months     7.0\n17   50423_6_updrs_1_plus_6_months     7.0\n18  50423_6_updrs_1_plus_12_months     7.0\n19  50423_6_updrs_1_plus_24_months     7.0\n20   50423_6_updrs_2_plus_0_months     7.0\n21   50423_6_updrs_2_plus_6_months     7.0\n22  50423_6_updrs_2_plus_12_months     7.0\n23  50423_6_updrs_2_plus_24_months     7.0\n24   50423_6_updrs_3_plus_0_months    18.0\n25   50423_6_updrs_3_plus_6_months    21.0\n26  50423_6_updrs_3_plus_12_months    20.0\n27  50423_6_updrs_3_plus_24_months    20.0\n28   50423_6_updrs_4_plus_0_months     0.0\n29   50423_6_updrs_4_plus_6_months     0.0\n30  50423_6_updrs_4_plus_12_months     0.0\n31  50423_6_updrs_4_plus_24_months     0.0",
            "text/html": "<div>\n<style scoped>\n    .dataframe tbody tr th:only-of-type {\n        vertical-align: middle;\n    }\n\n    .dataframe tbody tr th {\n        vertical-align: top;\n    }\n\n    .dataframe thead th {\n        text-align: right;\n    }\n</style>\n<table border=\"1\" class=\"dataframe\">\n  <thead>\n    <tr style=\"text-align: right;\">\n      <th></th>\n      <th>prediction_id</th>\n      <th>rating</th>\n    </tr>\n  </thead>\n  <tbody>\n    <tr>\n      <th>0</th>\n      <td>3342_6_updrs_1_plus_0_months</td>\n      <td>7.0</td>\n    </tr>\n    <tr>\n      <th>1</th>\n      <td>3342_6_updrs_1_plus_6_months</td>\n      <td>7.0</td>\n    </tr>\n    <tr>\n      <th>2</th>\n      <td>3342_6_updrs_1_plus_12_months</td>\n      <td>7.0</td>\n    </tr>\n    <tr>\n      <th>3</th>\n      <td>3342_6_updrs_1_plus_24_months</td>\n      <td>7.0</td>\n    </tr>\n    <tr>\n      <th>4</th>\n      <td>3342_6_updrs_2_plus_0_months</td>\n      <td>7.0</td>\n    </tr>\n    <tr>\n      <th>5</th>\n      <td>3342_6_updrs_2_plus_6_months</td>\n      <td>7.0</td>\n    </tr>\n    <tr>\n      <th>6</th>\n      <td>3342_6_updrs_2_plus_12_months</td>\n      <td>7.0</td>\n    </tr>\n    <tr>\n      <th>7</th>\n      <td>3342_6_updrs_2_plus_24_months</td>\n      <td>7.0</td>\n    </tr>\n    <tr>\n      <th>8</th>\n      <td>3342_6_updrs_3_plus_0_months</td>\n      <td>18.0</td>\n    </tr>\n    <tr>\n      <th>9</th>\n      <td>3342_6_updrs_3_plus_6_months</td>\n      <td>21.0</td>\n    </tr>\n    <tr>\n      <th>10</th>\n      <td>3342_6_updrs_3_plus_12_months</td>\n      <td>20.0</td>\n    </tr>\n    <tr>\n      <th>11</th>\n      <td>3342_6_updrs_3_plus_24_months</td>\n      <td>20.0</td>\n    </tr>\n    <tr>\n      <th>12</th>\n      <td>3342_6_updrs_4_plus_0_months</td>\n      <td>0.0</td>\n    </tr>\n    <tr>\n      <th>13</th>\n      <td>3342_6_updrs_4_plus_6_months</td>\n      <td>0.0</td>\n    </tr>\n    <tr>\n      <th>14</th>\n      <td>3342_6_updrs_4_plus_12_months</td>\n      <td>0.0</td>\n    </tr>\n    <tr>\n      <th>15</th>\n      <td>3342_6_updrs_4_plus_24_months</td>\n      <td>0.0</td>\n    </tr>\n    <tr>\n      <th>16</th>\n      <td>50423_6_updrs_1_plus_0_months</td>\n      <td>7.0</td>\n    </tr>\n    <tr>\n      <th>17</th>\n      <td>50423_6_updrs_1_plus_6_months</td>\n      <td>7.0</td>\n    </tr>\n    <tr>\n      <th>18</th>\n      <td>50423_6_updrs_1_plus_12_months</td>\n      <td>7.0</td>\n    </tr>\n    <tr>\n      <th>19</th>\n      <td>50423_6_updrs_1_plus_24_months</td>\n      <td>7.0</td>\n    </tr>\n    <tr>\n      <th>20</th>\n      <td>50423_6_updrs_2_plus_0_months</td>\n      <td>7.0</td>\n    </tr>\n    <tr>\n      <th>21</th>\n      <td>50423_6_updrs_2_plus_6_months</td>\n      <td>7.0</td>\n    </tr>\n    <tr>\n      <th>22</th>\n      <td>50423_6_updrs_2_plus_12_months</td>\n      <td>7.0</td>\n    </tr>\n    <tr>\n      <th>23</th>\n      <td>50423_6_updrs_2_plus_24_months</td>\n      <td>7.0</td>\n    </tr>\n    <tr>\n      <th>24</th>\n      <td>50423_6_updrs_3_plus_0_months</td>\n      <td>18.0</td>\n    </tr>\n    <tr>\n      <th>25</th>\n      <td>50423_6_updrs_3_plus_6_months</td>\n      <td>21.0</td>\n    </tr>\n    <tr>\n      <th>26</th>\n      <td>50423_6_updrs_3_plus_12_months</td>\n      <td>20.0</td>\n    </tr>\n    <tr>\n      <th>27</th>\n      <td>50423_6_updrs_3_plus_24_months</td>\n      <td>20.0</td>\n    </tr>\n    <tr>\n      <th>28</th>\n      <td>50423_6_updrs_4_plus_0_months</td>\n      <td>0.0</td>\n    </tr>\n    <tr>\n      <th>29</th>\n      <td>50423_6_updrs_4_plus_6_months</td>\n      <td>0.0</td>\n    </tr>\n    <tr>\n      <th>30</th>\n      <td>50423_6_updrs_4_plus_12_months</td>\n      <td>0.0</td>\n    </tr>\n    <tr>\n      <th>31</th>\n      <td>50423_6_updrs_4_plus_24_months</td>\n      <td>0.0</td>\n    </tr>\n  </tbody>\n</table>\n</div>"
          },
          "metadata": {}
        }
      ],
      "id": "OY5SIqdeLl8I"
    },
    {
      "cell_type": "markdown",
      "source": [
        "### Submission for Sequential Model with RNN"
      ],
      "metadata": {
        "papermill": {
          "duration": 0.012884,
          "end_time": "2023-04-27T20:42:13.224664",
          "exception": false,
          "start_time": "2023-04-27T20:42:13.211780",
          "status": "completed"
        },
        "tags": [],
        "id": "QMrXosHxLl8I"
      },
      "id": "QMrXosHxLl8I"
    },
    {
      "cell_type": "code",
      "source": [
        "import sys\n",
        "sys.path.append('/kaggle/input/amp-parkinsons-disease-progression-prediction')\n",
        "\n",
        "import amp_pd_peptide_310\n",
        "env = amp_pd_peptide.make_env()   # environment provided by competition\n",
        "iter_test = env.iter_test()"
      ],
      "metadata": {
        "papermill": {
          "duration": 0.074663,
          "end_time": "2023-04-27T20:42:13.311975",
          "exception": false,
          "start_time": "2023-04-27T20:42:13.237312",
          "status": "completed"
        },
        "tags": [],
        "execution": {
          "iopub.status.busy": "2023-05-08T23:17:40.381961Z",
          "iopub.status.idle": "2023-05-08T23:17:40.382805Z",
          "shell.execute_reply.started": "2023-05-08T23:17:40.382595Z",
          "shell.execute_reply": "2023-05-08T23:17:40.382621Z"
        },
        "trusted": true,
        "id": "Z2XuxUVfLl8I"
      },
      "execution_count": null,
      "outputs": [],
      "id": "Z2XuxUVfLl8I"
    },
    {
      "cell_type": "code",
      "source": [
        "for (test, test_peptides, test_proteins, sample_submission) in iter_test:\n",
        "    sub_features = prepare_features(test, test_proteins)\n",
        "    sub_predictions = get_predictions(sub_features,model)\n",
        "    submission = format_predictions(sub_predictions, sample_submission)\n",
        "\n",
        "    env.predict(submission)"
      ],
      "metadata": {
        "papermill": {
          "duration": 0.366494,
          "end_time": "2023-04-27T20:42:13.691550",
          "exception": false,
          "start_time": "2023-04-27T20:42:13.325056",
          "status": "completed"
        },
        "tags": [],
        "execution": {
          "iopub.status.busy": "2023-05-08T23:29:48.405575Z",
          "iopub.execute_input": "2023-05-08T23:29:48.405923Z",
          "iopub.status.idle": "2023-05-08T23:29:48.411091Z",
          "shell.execute_reply.started": "2023-05-08T23:29:48.405894Z",
          "shell.execute_reply": "2023-05-08T23:29:48.410118Z"
        },
        "trusted": true,
        "id": "Q66YfALMLl8I"
      },
      "execution_count": null,
      "outputs": [],
      "id": "Q66YfALMLl8I"
    },
    {
      "cell_type": "code",
      "source": [
        "pd.read_csv('/kaggle/working/submission.csv')"
      ],
      "metadata": {
        "papermill": {
          "duration": 0.031726,
          "end_time": "2023-04-27T20:42:13.736406",
          "exception": false,
          "start_time": "2023-04-27T20:42:13.704680",
          "status": "completed"
        },
        "tags": [],
        "execution": {
          "iopub.status.busy": "2023-05-08T23:29:48.412400Z",
          "iopub.execute_input": "2023-05-08T23:29:48.412974Z",
          "iopub.status.idle": "2023-05-08T23:29:48.433955Z",
          "shell.execute_reply.started": "2023-05-08T23:29:48.412945Z",
          "shell.execute_reply": "2023-05-08T23:29:48.432565Z"
        },
        "trusted": true,
        "id": "UQtdV1-eLl8J",
        "outputId": "61494829-fe91-4896-e544-c682aa6cf173"
      },
      "execution_count": null,
      "outputs": [
        {
          "execution_count": 45,
          "output_type": "execute_result",
          "data": {
            "text/plain": "                     prediction_id  rating\n0     3342_0_updrs_1_plus_0_months     7.0\n1     3342_0_updrs_1_plus_6_months     6.0\n2    3342_0_updrs_1_plus_12_months     7.0\n3    3342_0_updrs_1_plus_24_months     7.0\n4     3342_0_updrs_2_plus_0_months     7.0\n..                             ...     ...\n59  50423_6_updrs_3_plus_24_months    23.0\n60   50423_6_updrs_4_plus_0_months     0.0\n61   50423_6_updrs_4_plus_6_months     0.0\n62  50423_6_updrs_4_plus_12_months     0.0\n63  50423_6_updrs_4_plus_24_months     0.0\n\n[64 rows x 2 columns]",
            "text/html": "<div>\n<style scoped>\n    .dataframe tbody tr th:only-of-type {\n        vertical-align: middle;\n    }\n\n    .dataframe tbody tr th {\n        vertical-align: top;\n    }\n\n    .dataframe thead th {\n        text-align: right;\n    }\n</style>\n<table border=\"1\" class=\"dataframe\">\n  <thead>\n    <tr style=\"text-align: right;\">\n      <th></th>\n      <th>prediction_id</th>\n      <th>rating</th>\n    </tr>\n  </thead>\n  <tbody>\n    <tr>\n      <th>0</th>\n      <td>3342_0_updrs_1_plus_0_months</td>\n      <td>7.0</td>\n    </tr>\n    <tr>\n      <th>1</th>\n      <td>3342_0_updrs_1_plus_6_months</td>\n      <td>6.0</td>\n    </tr>\n    <tr>\n      <th>2</th>\n      <td>3342_0_updrs_1_plus_12_months</td>\n      <td>7.0</td>\n    </tr>\n    <tr>\n      <th>3</th>\n      <td>3342_0_updrs_1_plus_24_months</td>\n      <td>7.0</td>\n    </tr>\n    <tr>\n      <th>4</th>\n      <td>3342_0_updrs_2_plus_0_months</td>\n      <td>7.0</td>\n    </tr>\n    <tr>\n      <th>...</th>\n      <td>...</td>\n      <td>...</td>\n    </tr>\n    <tr>\n      <th>59</th>\n      <td>50423_6_updrs_3_plus_24_months</td>\n      <td>23.0</td>\n    </tr>\n    <tr>\n      <th>60</th>\n      <td>50423_6_updrs_4_plus_0_months</td>\n      <td>0.0</td>\n    </tr>\n    <tr>\n      <th>61</th>\n      <td>50423_6_updrs_4_plus_6_months</td>\n      <td>0.0</td>\n    </tr>\n    <tr>\n      <th>62</th>\n      <td>50423_6_updrs_4_plus_12_months</td>\n      <td>0.0</td>\n    </tr>\n    <tr>\n      <th>63</th>\n      <td>50423_6_updrs_4_plus_24_months</td>\n      <td>0.0</td>\n    </tr>\n  </tbody>\n</table>\n<p>64 rows × 2 columns</p>\n</div>"
          },
          "metadata": {}
        }
      ],
      "id": "UQtdV1-eLl8J"
    },
    {
      "cell_type": "code",
      "source": [
        "#### The Notebooks were sent for submission to Kaggle separately where kaggle scored the notebook on hidden test data. The detailed scoring information is provided in the report."
      ],
      "metadata": {
        "id": "Frkp5xdOLl8J"
      },
      "execution_count": null,
      "outputs": [],
      "id": "Frkp5xdOLl8J"
    },
    {
      "cell_type": "markdown",
      "source": [
        "References: https://www.kaggle.com/code/umbertofasci/amp-pdpp-eda-tf-model/notebook#sMAPE-Function"
      ],
      "metadata": {
        "id": "klno4zGzLl8J"
      },
      "id": "klno4zGzLl8J"
    }
  ]
}
