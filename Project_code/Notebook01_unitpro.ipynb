{
  "metadata": {
    "kernelspec": {
      "name": "python3",
      "display_name": "Python 3",
      "language": "python"
    },
    "language_info": {
      "name": "python",
      "version": "3.10.10",
      "mimetype": "text/x-python",
      "codemirror_mode": {
        "name": "ipython",
        "version": 3
      },
      "pygments_lexer": "ipython3",
      "nbconvert_exporter": "python",
      "file_extension": ".py"
    },
    "papermill": {
      "default_parameters": {},
      "duration": 220.880163,
      "end_time": "2023-04-27T20:42:17.226268",
      "environment_variables": {},
      "exception": null,
      "input_path": "__notebook__.ipynb",
      "output_path": "__notebook__.ipynb",
      "parameters": {},
      "start_time": "2023-04-27T20:38:36.346105",
      "version": "2.4.0"
    },
    "colab": {
      "provenance": []
    }
  },
  "nbformat_minor": 5,
  "nbformat": 4,
  "cells": [
    {
      "cell_type": "markdown",
      "source": [
        "# Models using UnitProt as Feature"
      ],
      "metadata": {
        "id": "uiCkeuNZMKcH"
      },
      "id": "uiCkeuNZMKcH"
    },
    {
      "cell_type": "code",
      "source": [
        "import pandas as pd\n",
        "import numpy as np\n",
        "import seaborn as sns\n",
        "import matplotlib.pyplot as plt\n",
        "from sklearn import model_selection\n",
        "from sklearn import metrics\n",
        "from sklearn.model_selection import train_test_split\n",
        "from sklearn.compose import make_column_transformer\n",
        "from sklearn.impute import KNNImputer\n",
        "from sklearn.preprocessing import StandardScaler\n",
        "from sklearn.compose import ColumnTransformer, make_column_selector\n",
        "from sklearn.pipeline import make_pipeline\n",
        "import tensorflow.keras.backend as K\n",
        "import tensorflow as tf\n",
        "from tensorflow.keras.layers import Input\n",
        "from tensorflow.keras.layers import Dense\n",
        "from tensorflow.keras.layers import BatchNormalization\n",
        "from tensorflow.keras.layers import Dropout\n",
        "from tensorflow.keras import Model\n",
        "from tensorflow.keras.models import Sequential\n",
        "from tensorflow.keras import regularizers\n",
        "from tensorflow.keras.layers import Input, LSTM, GRU, Dense, SimpleRNN"
      ],
      "metadata": {
        "papermill": {
          "duration": 1.018073,
          "end_time": "2023-04-27T20:38:46.905282",
          "exception": false,
          "start_time": "2023-04-27T20:38:45.887209",
          "status": "completed"
        },
        "tags": [],
        "execution": {
          "iopub.status.busy": "2023-05-08T21:50:16.478782Z",
          "iopub.execute_input": "2023-05-08T21:50:16.479265Z",
          "iopub.status.idle": "2023-05-08T21:50:16.492376Z",
          "shell.execute_reply.started": "2023-05-08T21:50:16.479227Z",
          "shell.execute_reply": "2023-05-08T21:50:16.491279Z"
        },
        "trusted": true,
        "id": "eqiZ7dC8MKcI"
      },
      "execution_count": null,
      "outputs": [],
      "id": "eqiZ7dC8MKcI"
    },
    {
      "cell_type": "code",
      "source": [
        "df_train_clin = pd.read_csv(\"/kaggle/input/amp-parkinsons-disease-progression-prediction/train_clinical_data.csv\")\n",
        "df_train_pept = pd.read_csv(\"/kaggle/input/amp-parkinsons-disease-progression-prediction/train_peptides.csv\")\n",
        "df_train_prot = pd.read_csv(\"/kaggle/input/amp-parkinsons-disease-progression-prediction/train_proteins.csv\")"
      ],
      "metadata": {
        "papermill": {
          "duration": 1.562957,
          "end_time": "2023-04-27T20:38:48.491550",
          "exception": false,
          "start_time": "2023-04-27T20:38:46.928593",
          "status": "completed"
        },
        "tags": [],
        "execution": {
          "iopub.status.busy": "2023-05-08T21:40:33.336216Z",
          "iopub.execute_input": "2023-05-08T21:40:33.336668Z",
          "iopub.status.idle": "2023-05-08T21:40:34.225899Z",
          "shell.execute_reply.started": "2023-05-08T21:40:33.336623Z",
          "shell.execute_reply": "2023-05-08T21:40:34.224906Z"
        },
        "trusted": true,
        "id": "UFkbjOejMKcK"
      },
      "execution_count": null,
      "outputs": [],
      "id": "UFkbjOejMKcK"
    },
    {
      "cell_type": "markdown",
      "source": [
        "### Clincal Training Data"
      ],
      "metadata": {
        "papermill": {
          "duration": 0.007499,
          "end_time": "2023-04-27T20:38:48.524665",
          "exception": false,
          "start_time": "2023-04-27T20:38:48.517166",
          "status": "completed"
        },
        "tags": [],
        "id": "BDbRK4GcMKcK"
      },
      "id": "BDbRK4GcMKcK"
    },
    {
      "cell_type": "code",
      "source": [
        "df_train_clin.head(10)"
      ],
      "metadata": {
        "papermill": {
          "duration": 0.037614,
          "end_time": "2023-04-27T20:38:48.569895",
          "exception": false,
          "start_time": "2023-04-27T20:38:48.532281",
          "status": "completed"
        },
        "tags": [],
        "execution": {
          "iopub.status.busy": "2023-05-08T21:40:34.227203Z",
          "iopub.execute_input": "2023-05-08T21:40:34.227621Z",
          "iopub.status.idle": "2023-05-08T21:40:34.245600Z",
          "shell.execute_reply.started": "2023-05-08T21:40:34.227586Z",
          "shell.execute_reply": "2023-05-08T21:40:34.244604Z"
        },
        "trusted": true,
        "id": "30sSqpLQMKcK",
        "outputId": "80b0d928-dad0-4836-c6b9-5f9d64c3361b"
      },
      "execution_count": null,
      "outputs": [
        {
          "execution_count": 22,
          "output_type": "execute_result",
          "data": {
            "text/plain": "  visit_id  patient_id  visit_month  updrs_1  updrs_2  updrs_3  updrs_4  \\\n0     55_0          55            0     10.0      6.0     15.0      NaN   \n1     55_3          55            3     10.0      7.0     25.0      NaN   \n2     55_6          55            6      8.0     10.0     34.0      NaN   \n3     55_9          55            9      8.0      9.0     30.0      0.0   \n4    55_12          55           12     10.0     10.0     41.0      0.0   \n5    55_18          55           18      7.0     13.0     38.0      0.0   \n6    55_24          55           24     16.0      9.0     49.0      0.0   \n7    55_30          55           30     14.0     13.0     49.0      0.0   \n8    55_36          55           36     17.0     18.0     51.0      0.0   \n9    55_42          55           42     12.0     20.0     41.0      0.0   \n\n  upd23b_clinical_state_on_medication  \n0                                 NaN  \n1                                 NaN  \n2                                 NaN  \n3                                  On  \n4                                  On  \n5                                  On  \n6                                  On  \n7                                  On  \n8                                  On  \n9                                  On  ",
            "text/html": "<div>\n<style scoped>\n    .dataframe tbody tr th:only-of-type {\n        vertical-align: middle;\n    }\n\n    .dataframe tbody tr th {\n        vertical-align: top;\n    }\n\n    .dataframe thead th {\n        text-align: right;\n    }\n</style>\n<table border=\"1\" class=\"dataframe\">\n  <thead>\n    <tr style=\"text-align: right;\">\n      <th></th>\n      <th>visit_id</th>\n      <th>patient_id</th>\n      <th>visit_month</th>\n      <th>updrs_1</th>\n      <th>updrs_2</th>\n      <th>updrs_3</th>\n      <th>updrs_4</th>\n      <th>upd23b_clinical_state_on_medication</th>\n    </tr>\n  </thead>\n  <tbody>\n    <tr>\n      <th>0</th>\n      <td>55_0</td>\n      <td>55</td>\n      <td>0</td>\n      <td>10.0</td>\n      <td>6.0</td>\n      <td>15.0</td>\n      <td>NaN</td>\n      <td>NaN</td>\n    </tr>\n    <tr>\n      <th>1</th>\n      <td>55_3</td>\n      <td>55</td>\n      <td>3</td>\n      <td>10.0</td>\n      <td>7.0</td>\n      <td>25.0</td>\n      <td>NaN</td>\n      <td>NaN</td>\n    </tr>\n    <tr>\n      <th>2</th>\n      <td>55_6</td>\n      <td>55</td>\n      <td>6</td>\n      <td>8.0</td>\n      <td>10.0</td>\n      <td>34.0</td>\n      <td>NaN</td>\n      <td>NaN</td>\n    </tr>\n    <tr>\n      <th>3</th>\n      <td>55_9</td>\n      <td>55</td>\n      <td>9</td>\n      <td>8.0</td>\n      <td>9.0</td>\n      <td>30.0</td>\n      <td>0.0</td>\n      <td>On</td>\n    </tr>\n    <tr>\n      <th>4</th>\n      <td>55_12</td>\n      <td>55</td>\n      <td>12</td>\n      <td>10.0</td>\n      <td>10.0</td>\n      <td>41.0</td>\n      <td>0.0</td>\n      <td>On</td>\n    </tr>\n    <tr>\n      <th>5</th>\n      <td>55_18</td>\n      <td>55</td>\n      <td>18</td>\n      <td>7.0</td>\n      <td>13.0</td>\n      <td>38.0</td>\n      <td>0.0</td>\n      <td>On</td>\n    </tr>\n    <tr>\n      <th>6</th>\n      <td>55_24</td>\n      <td>55</td>\n      <td>24</td>\n      <td>16.0</td>\n      <td>9.0</td>\n      <td>49.0</td>\n      <td>0.0</td>\n      <td>On</td>\n    </tr>\n    <tr>\n      <th>7</th>\n      <td>55_30</td>\n      <td>55</td>\n      <td>30</td>\n      <td>14.0</td>\n      <td>13.0</td>\n      <td>49.0</td>\n      <td>0.0</td>\n      <td>On</td>\n    </tr>\n    <tr>\n      <th>8</th>\n      <td>55_36</td>\n      <td>55</td>\n      <td>36</td>\n      <td>17.0</td>\n      <td>18.0</td>\n      <td>51.0</td>\n      <td>0.0</td>\n      <td>On</td>\n    </tr>\n    <tr>\n      <th>9</th>\n      <td>55_42</td>\n      <td>55</td>\n      <td>42</td>\n      <td>12.0</td>\n      <td>20.0</td>\n      <td>41.0</td>\n      <td>0.0</td>\n      <td>On</td>\n    </tr>\n  </tbody>\n</table>\n</div>"
          },
          "metadata": {}
        }
      ],
      "id": "30sSqpLQMKcK"
    },
    {
      "cell_type": "code",
      "source": [
        "print(f'Unique Clinical Data patient #: {df_train_clin[\"patient_id\"].nunique()}')\n",
        "print(\"----------------------------------------------------------\")\n",
        "print(f'Null Values Found in Clinical Data:')\n",
        "for col in df_train_clin.columns:\n",
        "    print(f'Null values found in {col}: {df_train_clin[col].isna().sum()}')\n",
        "print('')"
      ],
      "metadata": {
        "papermill": {
          "duration": 0.02734,
          "end_time": "2023-04-27T20:38:48.605297",
          "exception": false,
          "start_time": "2023-04-27T20:38:48.577957",
          "status": "completed"
        },
        "tags": [],
        "execution": {
          "iopub.status.busy": "2023-05-08T21:40:34.248797Z",
          "iopub.execute_input": "2023-05-08T21:40:34.249249Z",
          "iopub.status.idle": "2023-05-08T21:40:34.260572Z",
          "shell.execute_reply.started": "2023-05-08T21:40:34.249210Z",
          "shell.execute_reply": "2023-05-08T21:40:34.259481Z"
        },
        "trusted": true,
        "id": "5Y0QBCYGMKcL",
        "outputId": "8f7e522a-c342-4379-86f1-5fcaa6ed92cc"
      },
      "execution_count": null,
      "outputs": [
        {
          "name": "stdout",
          "text": "Unique Clinical Data patient #: 248\n----------------------------------------------------------\nNull Values Found in Clinical Data:\nNull values found in visit_id: 0\nNull values found in patient_id: 0\nNull values found in visit_month: 0\nNull values found in updrs_1: 1\nNull values found in updrs_2: 2\nNull values found in updrs_3: 25\nNull values found in updrs_4: 1038\nNull values found in upd23b_clinical_state_on_medication: 1327\n\n",
          "output_type": "stream"
        }
      ],
      "id": "5Y0QBCYGMKcL"
    },
    {
      "cell_type": "markdown",
      "source": [
        "### Peptide training data"
      ],
      "metadata": {
        "id": "45_kr_9UMKcL"
      },
      "id": "45_kr_9UMKcL"
    },
    {
      "cell_type": "code",
      "source": [
        "df_train_pept.head(10)"
      ],
      "metadata": {
        "papermill": {
          "duration": 0.025268,
          "end_time": "2023-04-27T20:38:48.654514",
          "exception": false,
          "start_time": "2023-04-27T20:38:48.629246",
          "status": "completed"
        },
        "tags": [],
        "execution": {
          "iopub.status.busy": "2023-05-08T21:40:34.261835Z",
          "iopub.execute_input": "2023-05-08T21:40:34.262194Z",
          "iopub.status.idle": "2023-05-08T21:40:34.277679Z",
          "shell.execute_reply.started": "2023-05-08T21:40:34.262167Z",
          "shell.execute_reply": "2023-05-08T21:40:34.276900Z"
        },
        "trusted": true,
        "id": "xKokAU1MMKcL",
        "outputId": "973622b4-934c-4734-86a8-cc8e5a9e5609"
      },
      "execution_count": null,
      "outputs": [
        {
          "execution_count": 24,
          "output_type": "execute_result",
          "data": {
            "text/plain": "  visit_id  visit_month  patient_id UniProt  \\\n0     55_0            0          55  O00391   \n1     55_0            0          55  O00533   \n2     55_0            0          55  O00533   \n3     55_0            0          55  O00533   \n4     55_0            0          55  O00533   \n5     55_0            0          55  O00533   \n6     55_0            0          55  O00533   \n7     55_0            0          55  O00533   \n8     55_0            0          55  O00533   \n9     55_0            0          55  O00584   \n\n                                  Peptide  PeptideAbundance  \n0                           NEQEQPLGQWHLS           11254.3  \n1                             GNPEPTFSWTK          102060.0  \n2                         IEIPSSVQQVPTIIK          174185.0  \n3  KPQSAVYSTGSNGILLC(UniMod_4)EAEGEPQPTIK           27278.9  \n4                            SMEQNGPGLEYR           30838.7  \n5                        TLKIENVSYQDKGNYR           23216.5  \n6                               VIAVNEVGR          170878.0  \n7                           VMTPAVYAPYDVK          148771.0  \n8                     VNGSPVDNHPFAGDVVFPR           55202.1  \n9                              ELDLNSVLLK           27229.3  ",
            "text/html": "<div>\n<style scoped>\n    .dataframe tbody tr th:only-of-type {\n        vertical-align: middle;\n    }\n\n    .dataframe tbody tr th {\n        vertical-align: top;\n    }\n\n    .dataframe thead th {\n        text-align: right;\n    }\n</style>\n<table border=\"1\" class=\"dataframe\">\n  <thead>\n    <tr style=\"text-align: right;\">\n      <th></th>\n      <th>visit_id</th>\n      <th>visit_month</th>\n      <th>patient_id</th>\n      <th>UniProt</th>\n      <th>Peptide</th>\n      <th>PeptideAbundance</th>\n    </tr>\n  </thead>\n  <tbody>\n    <tr>\n      <th>0</th>\n      <td>55_0</td>\n      <td>0</td>\n      <td>55</td>\n      <td>O00391</td>\n      <td>NEQEQPLGQWHLS</td>\n      <td>11254.3</td>\n    </tr>\n    <tr>\n      <th>1</th>\n      <td>55_0</td>\n      <td>0</td>\n      <td>55</td>\n      <td>O00533</td>\n      <td>GNPEPTFSWTK</td>\n      <td>102060.0</td>\n    </tr>\n    <tr>\n      <th>2</th>\n      <td>55_0</td>\n      <td>0</td>\n      <td>55</td>\n      <td>O00533</td>\n      <td>IEIPSSVQQVPTIIK</td>\n      <td>174185.0</td>\n    </tr>\n    <tr>\n      <th>3</th>\n      <td>55_0</td>\n      <td>0</td>\n      <td>55</td>\n      <td>O00533</td>\n      <td>KPQSAVYSTGSNGILLC(UniMod_4)EAEGEPQPTIK</td>\n      <td>27278.9</td>\n    </tr>\n    <tr>\n      <th>4</th>\n      <td>55_0</td>\n      <td>0</td>\n      <td>55</td>\n      <td>O00533</td>\n      <td>SMEQNGPGLEYR</td>\n      <td>30838.7</td>\n    </tr>\n    <tr>\n      <th>5</th>\n      <td>55_0</td>\n      <td>0</td>\n      <td>55</td>\n      <td>O00533</td>\n      <td>TLKIENVSYQDKGNYR</td>\n      <td>23216.5</td>\n    </tr>\n    <tr>\n      <th>6</th>\n      <td>55_0</td>\n      <td>0</td>\n      <td>55</td>\n      <td>O00533</td>\n      <td>VIAVNEVGR</td>\n      <td>170878.0</td>\n    </tr>\n    <tr>\n      <th>7</th>\n      <td>55_0</td>\n      <td>0</td>\n      <td>55</td>\n      <td>O00533</td>\n      <td>VMTPAVYAPYDVK</td>\n      <td>148771.0</td>\n    </tr>\n    <tr>\n      <th>8</th>\n      <td>55_0</td>\n      <td>0</td>\n      <td>55</td>\n      <td>O00533</td>\n      <td>VNGSPVDNHPFAGDVVFPR</td>\n      <td>55202.1</td>\n    </tr>\n    <tr>\n      <th>9</th>\n      <td>55_0</td>\n      <td>0</td>\n      <td>55</td>\n      <td>O00584</td>\n      <td>ELDLNSVLLK</td>\n      <td>27229.3</td>\n    </tr>\n  </tbody>\n</table>\n</div>"
          },
          "metadata": {}
        }
      ],
      "id": "xKokAU1MMKcL"
    },
    {
      "cell_type": "code",
      "source": [
        "print(f'Unique Peptide Data patient #: {df_train_pept[\"patient_id\"].nunique()}')\n",
        "print(f'Unique Peptides #: {df_train_pept[\"Peptide\"].nunique()}')\n",
        "print(\"----------------------------------------------------------\")\n",
        "print(f'Null Values Found in Peptide Data:')\n",
        "for col in df_train_pept.columns:\n",
        "    print(f'Null values found in {col}: {df_train_pept[col].isna().sum()}')\n",
        "print('')"
      ],
      "metadata": {
        "papermill": {
          "duration": 0.205397,
          "end_time": "2023-04-27T20:38:48.868174",
          "exception": false,
          "start_time": "2023-04-27T20:38:48.662777",
          "status": "completed"
        },
        "tags": [],
        "execution": {
          "iopub.status.busy": "2023-05-08T21:40:34.278891Z",
          "iopub.execute_input": "2023-05-08T21:40:34.279456Z",
          "iopub.status.idle": "2023-05-08T21:40:34.504840Z",
          "shell.execute_reply.started": "2023-05-08T21:40:34.279426Z",
          "shell.execute_reply": "2023-05-08T21:40:34.503734Z"
        },
        "trusted": true,
        "id": "C4mNzLfXMKcM",
        "outputId": "50356414-0cc1-4624-d7fd-21e9a60e1fba"
      },
      "execution_count": null,
      "outputs": [
        {
          "name": "stdout",
          "text": "Unique Peptide Data patient #: 248\nUnique Peptides #: 968\n----------------------------------------------------------\nNull Values Found in Peptide Data:\nNull values found in visit_id: 0\nNull values found in visit_month: 0\nNull values found in patient_id: 0\nNull values found in UniProt: 0\nNull values found in Peptide: 0\nNull values found in PeptideAbundance: 0\n\n",
          "output_type": "stream"
        }
      ],
      "id": "C4mNzLfXMKcM"
    },
    {
      "cell_type": "markdown",
      "source": [
        "### Protein Training Data"
      ],
      "metadata": {
        "papermill": {
          "duration": 0.008244,
          "end_time": "2023-04-27T20:38:48.885620",
          "exception": false,
          "start_time": "2023-04-27T20:38:48.877376",
          "status": "completed"
        },
        "tags": [],
        "id": "irahr42GMKcM"
      },
      "id": "irahr42GMKcM"
    },
    {
      "cell_type": "code",
      "source": [
        "df_train_prot.head(10)"
      ],
      "metadata": {
        "papermill": {
          "duration": 0.023957,
          "end_time": "2023-04-27T20:38:48.917934",
          "exception": false,
          "start_time": "2023-04-27T20:38:48.893977",
          "status": "completed"
        },
        "tags": [],
        "execution": {
          "iopub.status.busy": "2023-05-08T21:40:34.506247Z",
          "iopub.execute_input": "2023-05-08T21:40:34.506555Z",
          "iopub.status.idle": "2023-05-08T21:40:34.517024Z",
          "shell.execute_reply.started": "2023-05-08T21:40:34.506529Z",
          "shell.execute_reply": "2023-05-08T21:40:34.516101Z"
        },
        "trusted": true,
        "id": "p0sxHIlRMKcM",
        "outputId": "ab501d1b-f88a-4393-b9ba-fd405725c128"
      },
      "execution_count": null,
      "outputs": [
        {
          "execution_count": 26,
          "output_type": "execute_result",
          "data": {
            "text/plain": "  visit_id  visit_month  patient_id UniProt        NPX\n0     55_0            0          55  O00391   11254.30\n1     55_0            0          55  O00533  732430.00\n2     55_0            0          55  O00584   39585.80\n3     55_0            0          55  O14498   41526.90\n4     55_0            0          55  O14773   31238.00\n5     55_0            0          55  O14791    4202.71\n6     55_0            0          55  O15240  177775.00\n7     55_0            0          55  O15394   62898.20\n8     55_0            0          55  O43505  333376.00\n9     55_0            0          55  O60888  166850.00",
            "text/html": "<div>\n<style scoped>\n    .dataframe tbody tr th:only-of-type {\n        vertical-align: middle;\n    }\n\n    .dataframe tbody tr th {\n        vertical-align: top;\n    }\n\n    .dataframe thead th {\n        text-align: right;\n    }\n</style>\n<table border=\"1\" class=\"dataframe\">\n  <thead>\n    <tr style=\"text-align: right;\">\n      <th></th>\n      <th>visit_id</th>\n      <th>visit_month</th>\n      <th>patient_id</th>\n      <th>UniProt</th>\n      <th>NPX</th>\n    </tr>\n  </thead>\n  <tbody>\n    <tr>\n      <th>0</th>\n      <td>55_0</td>\n      <td>0</td>\n      <td>55</td>\n      <td>O00391</td>\n      <td>11254.30</td>\n    </tr>\n    <tr>\n      <th>1</th>\n      <td>55_0</td>\n      <td>0</td>\n      <td>55</td>\n      <td>O00533</td>\n      <td>732430.00</td>\n    </tr>\n    <tr>\n      <th>2</th>\n      <td>55_0</td>\n      <td>0</td>\n      <td>55</td>\n      <td>O00584</td>\n      <td>39585.80</td>\n    </tr>\n    <tr>\n      <th>3</th>\n      <td>55_0</td>\n      <td>0</td>\n      <td>55</td>\n      <td>O14498</td>\n      <td>41526.90</td>\n    </tr>\n    <tr>\n      <th>4</th>\n      <td>55_0</td>\n      <td>0</td>\n      <td>55</td>\n      <td>O14773</td>\n      <td>31238.00</td>\n    </tr>\n    <tr>\n      <th>5</th>\n      <td>55_0</td>\n      <td>0</td>\n      <td>55</td>\n      <td>O14791</td>\n      <td>4202.71</td>\n    </tr>\n    <tr>\n      <th>6</th>\n      <td>55_0</td>\n      <td>0</td>\n      <td>55</td>\n      <td>O15240</td>\n      <td>177775.00</td>\n    </tr>\n    <tr>\n      <th>7</th>\n      <td>55_0</td>\n      <td>0</td>\n      <td>55</td>\n      <td>O15394</td>\n      <td>62898.20</td>\n    </tr>\n    <tr>\n      <th>8</th>\n      <td>55_0</td>\n      <td>0</td>\n      <td>55</td>\n      <td>O43505</td>\n      <td>333376.00</td>\n    </tr>\n    <tr>\n      <th>9</th>\n      <td>55_0</td>\n      <td>0</td>\n      <td>55</td>\n      <td>O60888</td>\n      <td>166850.00</td>\n    </tr>\n  </tbody>\n</table>\n</div>"
          },
          "metadata": {}
        }
      ],
      "id": "p0sxHIlRMKcM"
    },
    {
      "cell_type": "code",
      "source": [
        "print(f'Unique Protein Data patient #: {df_train_prot[\"patient_id\"].nunique()}')\n",
        "print(f'Unique Proteins #: {df_train_prot[\"UniProt\"].nunique()}')\n",
        "print(\"----------------------------------------------------------\")\n",
        "print(f'Null Values Found in Protein Data:')\n",
        "for col in df_train_prot.columns:\n",
        "    print(f'Null values found in {col}: {df_train_prot[col].isna().sum()}')\n",
        "print('')"
      ],
      "metadata": {
        "papermill": {
          "duration": 0.051314,
          "end_time": "2023-04-27T20:38:48.977800",
          "exception": false,
          "start_time": "2023-04-27T20:38:48.926486",
          "status": "completed"
        },
        "tags": [],
        "execution": {
          "iopub.status.busy": "2023-05-08T21:40:34.518400Z",
          "iopub.execute_input": "2023-05-08T21:40:34.518828Z",
          "iopub.status.idle": "2023-05-08T21:40:34.566428Z",
          "shell.execute_reply.started": "2023-05-08T21:40:34.518758Z",
          "shell.execute_reply": "2023-05-08T21:40:34.565327Z"
        },
        "trusted": true,
        "id": "iprPSxNsMKcM",
        "outputId": "2e1457f2-35dd-47ae-8f23-0cb751138cf1"
      },
      "execution_count": null,
      "outputs": [
        {
          "name": "stdout",
          "text": "Unique Protein Data patient #: 248\nUnique Proteins #: 227\n----------------------------------------------------------\nNull Values Found in Protein Data:\nNull values found in visit_id: 0\nNull values found in visit_month: 0\nNull values found in patient_id: 0\nNull values found in UniProt: 0\nNull values found in NPX: 0\n\n",
          "output_type": "stream"
        }
      ],
      "id": "iprPSxNsMKcM"
    },
    {
      "cell_type": "markdown",
      "source": [
        "## Data Prep for the final submission"
      ],
      "metadata": {
        "papermill": {
          "duration": 0.008714,
          "end_time": "2023-04-27T20:38:49.363704",
          "exception": false,
          "start_time": "2023-04-27T20:38:49.354990",
          "status": "completed"
        },
        "tags": [],
        "id": "V1w4c2tnMKcN"
      },
      "id": "V1w4c2tnMKcN"
    },
    {
      "cell_type": "code",
      "source": [
        "targets = {}\n",
        "for event in range(1, 5):\n",
        "    for month in [0, 6, 12, 24]:\n",
        "        df_train_clin[f'updrs_{event}_plus_{month}_months'] = 0\n",
        "\n",
        "for p_id in df_train_clin.patient_id.unique():\n",
        "    patient_data = df_train_clin[df_train_clin.patient_id == p_id]\n",
        "    month_ranges = []\n",
        "    month_intervals = [0, 6, 12, 24]\n",
        "    for visit_month in patient_data.visit_month.values:\n",
        "        month_ranges.append([visit_month, visit_month + 6, visit_month + 12, visit_month + 24])\n",
        "    for idx, month_range in enumerate(month_ranges):\n",
        "        for event in range(1, 5):\n",
        "            updrs_values = patient_data[patient_data.visit_month.isin(month_range)][f'updrs_{event}'].fillna(0).to_list()\n",
        "            if len(updrs_values) == 4:\n",
        "                for e, value in enumerate(updrs_values):\n",
        "                    m = month_range[0]\n",
        "                    patient_data.loc[patient_data.visit_month == m, [f'updrs_{event}_plus_{month_intervals[e]}_months']] = value\n",
        "            else:\n",
        "                patient_data = patient_data[~patient_data.visit_month.isin(month_range)]\n",
        "    targets[p_id] = patient_data\n"
      ],
      "metadata": {
        "papermill": {
          "duration": 24.544232,
          "end_time": "2023-04-27T20:39:13.916847",
          "exception": false,
          "start_time": "2023-04-27T20:38:49.372615",
          "status": "completed"
        },
        "tags": [],
        "execution": {
          "iopub.status.busy": "2023-05-08T21:40:34.568023Z",
          "iopub.execute_input": "2023-05-08T21:40:34.568424Z",
          "iopub.status.idle": "2023-05-08T21:40:59.936399Z",
          "shell.execute_reply.started": "2023-05-08T21:40:34.568389Z",
          "shell.execute_reply": "2023-05-08T21:40:59.935510Z"
        },
        "trusted": true,
        "id": "V9Nxb5JGMKcN"
      },
      "execution_count": null,
      "outputs": [],
      "id": "V9Nxb5JGMKcN"
    },
    {
      "cell_type": "code",
      "source": [
        "formatted_clin = pd.concat(targets.values(), ignore_index=True).set_index('visit_id').iloc[:, 7:]\n",
        "formatted_clin.head()"
      ],
      "metadata": {
        "papermill": {
          "duration": 0.089074,
          "end_time": "2023-04-27T20:39:14.015468",
          "exception": false,
          "start_time": "2023-04-27T20:39:13.926394",
          "status": "completed"
        },
        "tags": [],
        "execution": {
          "iopub.status.busy": "2023-05-08T21:40:59.939717Z",
          "iopub.execute_input": "2023-05-08T21:40:59.940024Z",
          "iopub.status.idle": "2023-05-08T21:41:00.003166Z",
          "shell.execute_reply.started": "2023-05-08T21:40:59.940000Z",
          "shell.execute_reply": "2023-05-08T21:41:00.002161Z"
        },
        "trusted": true,
        "id": "r1Qluj1yMKcN",
        "outputId": "4ba5d825-57b4-4624-9c8e-1930c9b80bca"
      },
      "execution_count": null,
      "outputs": [
        {
          "execution_count": 29,
          "output_type": "execute_result",
          "data": {
            "text/plain": "          updrs_1_plus_0_months  updrs_1_plus_6_months  \\\nvisit_id                                                 \n55_0                         10                      8   \n55_6                          8                     10   \n55_12                        10                      7   \n55_18                         7                     16   \n55_24                        16                     14   \n\n          updrs_1_plus_12_months  updrs_1_plus_24_months  \\\nvisit_id                                                   \n55_0                          10                      16   \n55_6                           7                      14   \n55_12                         16                      17   \n55_18                         14                      12   \n55_24                         17                      17   \n\n          updrs_2_plus_0_months  updrs_2_plus_6_months  \\\nvisit_id                                                 \n55_0                          6                     10   \n55_6                         10                     10   \n55_12                        10                     13   \n55_18                        13                      9   \n55_24                         9                     13   \n\n          updrs_2_plus_12_months  updrs_2_plus_24_months  \\\nvisit_id                                                   \n55_0                          10                       9   \n55_6                          13                      13   \n55_12                          9                      18   \n55_18                         13                      20   \n55_24                         18                      16   \n\n          updrs_3_plus_0_months  updrs_3_plus_6_months  \\\nvisit_id                                                 \n55_0                         15                     34   \n55_6                         34                     41   \n55_12                        41                     38   \n55_18                        38                     49   \n55_24                        49                     49   \n\n          updrs_3_plus_12_months  updrs_3_plus_24_months  \\\nvisit_id                                                   \n55_0                          41                      49   \n55_6                          38                      49   \n55_12                         49                      51   \n55_18                         49                      41   \n55_24                         51                      52   \n\n          updrs_4_plus_0_months  updrs_4_plus_6_months  \\\nvisit_id                                                 \n55_0                          0                      0   \n55_6                          0                      0   \n55_12                         0                      0   \n55_18                         0                      0   \n55_24                         0                      0   \n\n          updrs_4_plus_12_months  updrs_4_plus_24_months  \nvisit_id                                                  \n55_0                           0                       0  \n55_6                           0                       0  \n55_12                          0                       0  \n55_18                          0                       0  \n55_24                          0                       0  ",
            "text/html": "<div>\n<style scoped>\n    .dataframe tbody tr th:only-of-type {\n        vertical-align: middle;\n    }\n\n    .dataframe tbody tr th {\n        vertical-align: top;\n    }\n\n    .dataframe thead th {\n        text-align: right;\n    }\n</style>\n<table border=\"1\" class=\"dataframe\">\n  <thead>\n    <tr style=\"text-align: right;\">\n      <th></th>\n      <th>updrs_1_plus_0_months</th>\n      <th>updrs_1_plus_6_months</th>\n      <th>updrs_1_plus_12_months</th>\n      <th>updrs_1_plus_24_months</th>\n      <th>updrs_2_plus_0_months</th>\n      <th>updrs_2_plus_6_months</th>\n      <th>updrs_2_plus_12_months</th>\n      <th>updrs_2_plus_24_months</th>\n      <th>updrs_3_plus_0_months</th>\n      <th>updrs_3_plus_6_months</th>\n      <th>updrs_3_plus_12_months</th>\n      <th>updrs_3_plus_24_months</th>\n      <th>updrs_4_plus_0_months</th>\n      <th>updrs_4_plus_6_months</th>\n      <th>updrs_4_plus_12_months</th>\n      <th>updrs_4_plus_24_months</th>\n    </tr>\n    <tr>\n      <th>visit_id</th>\n      <th></th>\n      <th></th>\n      <th></th>\n      <th></th>\n      <th></th>\n      <th></th>\n      <th></th>\n      <th></th>\n      <th></th>\n      <th></th>\n      <th></th>\n      <th></th>\n      <th></th>\n      <th></th>\n      <th></th>\n      <th></th>\n    </tr>\n  </thead>\n  <tbody>\n    <tr>\n      <th>55_0</th>\n      <td>10</td>\n      <td>8</td>\n      <td>10</td>\n      <td>16</td>\n      <td>6</td>\n      <td>10</td>\n      <td>10</td>\n      <td>9</td>\n      <td>15</td>\n      <td>34</td>\n      <td>41</td>\n      <td>49</td>\n      <td>0</td>\n      <td>0</td>\n      <td>0</td>\n      <td>0</td>\n    </tr>\n    <tr>\n      <th>55_6</th>\n      <td>8</td>\n      <td>10</td>\n      <td>7</td>\n      <td>14</td>\n      <td>10</td>\n      <td>10</td>\n      <td>13</td>\n      <td>13</td>\n      <td>34</td>\n      <td>41</td>\n      <td>38</td>\n      <td>49</td>\n      <td>0</td>\n      <td>0</td>\n      <td>0</td>\n      <td>0</td>\n    </tr>\n    <tr>\n      <th>55_12</th>\n      <td>10</td>\n      <td>7</td>\n      <td>16</td>\n      <td>17</td>\n      <td>10</td>\n      <td>13</td>\n      <td>9</td>\n      <td>18</td>\n      <td>41</td>\n      <td>38</td>\n      <td>49</td>\n      <td>51</td>\n      <td>0</td>\n      <td>0</td>\n      <td>0</td>\n      <td>0</td>\n    </tr>\n    <tr>\n      <th>55_18</th>\n      <td>7</td>\n      <td>16</td>\n      <td>14</td>\n      <td>12</td>\n      <td>13</td>\n      <td>9</td>\n      <td>13</td>\n      <td>20</td>\n      <td>38</td>\n      <td>49</td>\n      <td>49</td>\n      <td>41</td>\n      <td>0</td>\n      <td>0</td>\n      <td>0</td>\n      <td>0</td>\n    </tr>\n    <tr>\n      <th>55_24</th>\n      <td>16</td>\n      <td>14</td>\n      <td>17</td>\n      <td>17</td>\n      <td>9</td>\n      <td>13</td>\n      <td>18</td>\n      <td>16</td>\n      <td>49</td>\n      <td>49</td>\n      <td>51</td>\n      <td>52</td>\n      <td>0</td>\n      <td>0</td>\n      <td>0</td>\n      <td>0</td>\n    </tr>\n  </tbody>\n</table>\n</div>"
          },
          "metadata": {}
        }
      ],
      "id": "r1Qluj1yMKcN"
    },
    {
      "cell_type": "markdown",
      "source": [
        "## Selecting UniProt as features with NPX values"
      ],
      "metadata": {
        "papermill": {
          "duration": 0.009055,
          "end_time": "2023-04-27T20:39:14.034114",
          "exception": false,
          "start_time": "2023-04-27T20:39:14.025059",
          "status": "completed"
        },
        "tags": [],
        "id": "gAQyaIY0MKcN"
      },
      "id": "gAQyaIY0MKcN"
    },
    {
      "cell_type": "code",
      "source": [
        "protfeatures = df_train_prot.pivot(index='visit_id', columns='UniProt', values='NPX')\n",
        "protfeatures.head()"
      ],
      "metadata": {
        "papermill": {
          "duration": 0.112626,
          "end_time": "2023-04-27T20:39:14.155966",
          "exception": false,
          "start_time": "2023-04-27T20:39:14.043340",
          "status": "completed"
        },
        "tags": [],
        "execution": {
          "iopub.status.busy": "2023-05-08T21:41:00.004684Z",
          "iopub.execute_input": "2023-05-08T21:41:00.004985Z",
          "iopub.status.idle": "2023-05-08T21:41:00.108335Z",
          "shell.execute_reply.started": "2023-05-08T21:41:00.004948Z",
          "shell.execute_reply": "2023-05-08T21:41:00.107229Z"
        },
        "trusted": true,
        "id": "gtzI63XzMKcN",
        "outputId": "c77bb3b6-8671-4ae5-f165-ac8bc34e7006"
      },
      "execution_count": null,
      "outputs": [
        {
          "execution_count": 30,
          "output_type": "execute_result",
          "data": {
            "text/plain": "UniProt     O00391    O00533   O00584   O14498    O14773   O14791    O15240  \\\nvisit_id                                                                      \n10053_0    9104.27  402321.0      NaN      NaN   7150.57  2497.84   83002.9   \n10053_12  10464.20  435586.0      NaN      NaN       NaN      NaN  197117.0   \n10053_18  13235.70  507386.0  7126.96  24525.7       NaN  2372.71  126506.0   \n10138_12  12600.20  494581.0  9165.06  27193.5  22506.10  6015.90  156313.0   \n10138_24  12003.20  522138.0  4498.51  17189.8  29112.40  2665.15  151169.0   \n\nUniProt    O15394    O43505    O60888  ...    Q9HDC9    Q9NQ79    Q9NYU2  \\\nvisit_id                               ...                                 \n10053_0   15113.6  167327.0  129048.0  ...       NaN   9469.45   94237.6   \n10053_12  15099.1  164268.0  108114.0  ...       NaN  14408.40       NaN   \n10053_18  16289.6  168107.0  163776.0  ...  317477.0  38667.20  111107.0   \n10138_12  54546.4  204013.0   56725.0  ...  557904.0  44556.90  155619.0   \n10138_24  52338.1  240892.0   85767.1  ...       NaN  47836.70  177619.0   \n\nUniProt    Q9UBR2   Q9UBX5    Q9UHG2    Q9UKV8   Q9UNU6    Q9Y646    Q9Y6R7  \nvisit_id                                                                     \n10053_0       NaN  23016.0  177983.0   65900.0  15382.0       NaN  19017.40  \n10053_12      NaN  28537.0  171733.0   65668.1      NaN   9295.65  25697.80  \n10053_18      NaN  37932.6  245188.0   59986.1  10813.3       NaN  29102.70  \n10138_12  14647.9  36927.7  229232.0  106564.0  26077.7  21441.80   7642.42  \n10138_24  17061.1  25510.4  176722.0   59471.4  12639.2  15091.40   6168.55  \n\n[5 rows x 227 columns]",
            "text/html": "<div>\n<style scoped>\n    .dataframe tbody tr th:only-of-type {\n        vertical-align: middle;\n    }\n\n    .dataframe tbody tr th {\n        vertical-align: top;\n    }\n\n    .dataframe thead th {\n        text-align: right;\n    }\n</style>\n<table border=\"1\" class=\"dataframe\">\n  <thead>\n    <tr style=\"text-align: right;\">\n      <th>UniProt</th>\n      <th>O00391</th>\n      <th>O00533</th>\n      <th>O00584</th>\n      <th>O14498</th>\n      <th>O14773</th>\n      <th>O14791</th>\n      <th>O15240</th>\n      <th>O15394</th>\n      <th>O43505</th>\n      <th>O60888</th>\n      <th>...</th>\n      <th>Q9HDC9</th>\n      <th>Q9NQ79</th>\n      <th>Q9NYU2</th>\n      <th>Q9UBR2</th>\n      <th>Q9UBX5</th>\n      <th>Q9UHG2</th>\n      <th>Q9UKV8</th>\n      <th>Q9UNU6</th>\n      <th>Q9Y646</th>\n      <th>Q9Y6R7</th>\n    </tr>\n    <tr>\n      <th>visit_id</th>\n      <th></th>\n      <th></th>\n      <th></th>\n      <th></th>\n      <th></th>\n      <th></th>\n      <th></th>\n      <th></th>\n      <th></th>\n      <th></th>\n      <th></th>\n      <th></th>\n      <th></th>\n      <th></th>\n      <th></th>\n      <th></th>\n      <th></th>\n      <th></th>\n      <th></th>\n      <th></th>\n      <th></th>\n    </tr>\n  </thead>\n  <tbody>\n    <tr>\n      <th>10053_0</th>\n      <td>9104.27</td>\n      <td>402321.0</td>\n      <td>NaN</td>\n      <td>NaN</td>\n      <td>7150.57</td>\n      <td>2497.84</td>\n      <td>83002.9</td>\n      <td>15113.6</td>\n      <td>167327.0</td>\n      <td>129048.0</td>\n      <td>...</td>\n      <td>NaN</td>\n      <td>9469.45</td>\n      <td>94237.6</td>\n      <td>NaN</td>\n      <td>23016.0</td>\n      <td>177983.0</td>\n      <td>65900.0</td>\n      <td>15382.0</td>\n      <td>NaN</td>\n      <td>19017.40</td>\n    </tr>\n    <tr>\n      <th>10053_12</th>\n      <td>10464.20</td>\n      <td>435586.0</td>\n      <td>NaN</td>\n      <td>NaN</td>\n      <td>NaN</td>\n      <td>NaN</td>\n      <td>197117.0</td>\n      <td>15099.1</td>\n      <td>164268.0</td>\n      <td>108114.0</td>\n      <td>...</td>\n      <td>NaN</td>\n      <td>14408.40</td>\n      <td>NaN</td>\n      <td>NaN</td>\n      <td>28537.0</td>\n      <td>171733.0</td>\n      <td>65668.1</td>\n      <td>NaN</td>\n      <td>9295.65</td>\n      <td>25697.80</td>\n    </tr>\n    <tr>\n      <th>10053_18</th>\n      <td>13235.70</td>\n      <td>507386.0</td>\n      <td>7126.96</td>\n      <td>24525.7</td>\n      <td>NaN</td>\n      <td>2372.71</td>\n      <td>126506.0</td>\n      <td>16289.6</td>\n      <td>168107.0</td>\n      <td>163776.0</td>\n      <td>...</td>\n      <td>317477.0</td>\n      <td>38667.20</td>\n      <td>111107.0</td>\n      <td>NaN</td>\n      <td>37932.6</td>\n      <td>245188.0</td>\n      <td>59986.1</td>\n      <td>10813.3</td>\n      <td>NaN</td>\n      <td>29102.70</td>\n    </tr>\n    <tr>\n      <th>10138_12</th>\n      <td>12600.20</td>\n      <td>494581.0</td>\n      <td>9165.06</td>\n      <td>27193.5</td>\n      <td>22506.10</td>\n      <td>6015.90</td>\n      <td>156313.0</td>\n      <td>54546.4</td>\n      <td>204013.0</td>\n      <td>56725.0</td>\n      <td>...</td>\n      <td>557904.0</td>\n      <td>44556.90</td>\n      <td>155619.0</td>\n      <td>14647.9</td>\n      <td>36927.7</td>\n      <td>229232.0</td>\n      <td>106564.0</td>\n      <td>26077.7</td>\n      <td>21441.80</td>\n      <td>7642.42</td>\n    </tr>\n    <tr>\n      <th>10138_24</th>\n      <td>12003.20</td>\n      <td>522138.0</td>\n      <td>4498.51</td>\n      <td>17189.8</td>\n      <td>29112.40</td>\n      <td>2665.15</td>\n      <td>151169.0</td>\n      <td>52338.1</td>\n      <td>240892.0</td>\n      <td>85767.1</td>\n      <td>...</td>\n      <td>NaN</td>\n      <td>47836.70</td>\n      <td>177619.0</td>\n      <td>17061.1</td>\n      <td>25510.4</td>\n      <td>176722.0</td>\n      <td>59471.4</td>\n      <td>12639.2</td>\n      <td>15091.40</td>\n      <td>6168.55</td>\n    </tr>\n  </tbody>\n</table>\n<p>5 rows × 227 columns</p>\n</div>"
          },
          "metadata": {}
        }
      ],
      "id": "gtzI63XzMKcN"
    },
    {
      "cell_type": "code",
      "source": [
        "df = protfeatures.merge(formatted_clin, left_index=True,right_index=True,how='right')\n",
        "print(f'\\nNA values: {df[protfeatures.columns].isna().sum().sum()/(len(df)*len(protfeatures.columns)):.2%}')\n",
        "df['visit_month'] = df.reset_index().visit_id.str.split('_').apply(lambda x: int(x[1])).values\n",
        "df.head()"
      ],
      "metadata": {
        "papermill": {
          "duration": 0.043921,
          "end_time": "2023-04-27T20:39:14.229065",
          "exception": false,
          "start_time": "2023-04-27T20:39:14.185144",
          "status": "completed"
        },
        "tags": [],
        "execution": {
          "iopub.status.busy": "2023-05-08T21:41:00.109811Z",
          "iopub.execute_input": "2023-05-08T21:41:00.110158Z",
          "iopub.status.idle": "2023-05-08T21:41:00.143096Z",
          "shell.execute_reply.started": "2023-05-08T21:41:00.110130Z",
          "shell.execute_reply": "2023-05-08T21:41:00.142122Z"
        },
        "trusted": true,
        "id": "cvQ6VrwUMKcN",
        "outputId": "1bde1d36-9eec-43bf-f0bf-d49dceccf719"
      },
      "execution_count": null,
      "outputs": [
        {
          "name": "stdout",
          "text": "\nNA values: 53.64%\n",
          "output_type": "stream"
        },
        {
          "execution_count": 31,
          "output_type": "execute_result",
          "data": {
            "text/plain": "           O00391    O00533   O00584   O14498   O14773   O14791    O15240  \\\nvisit_id                                                                    \n55_0      11254.3  732430.0  39585.8  41526.9  31238.0  4202.71  177775.0   \n55_6      13163.6  630465.0  35220.8  41295.0  26219.9  4416.42  165638.0   \n55_12     15257.6  815083.0  41650.9  39763.3  30703.6  4343.60  151073.0   \n55_18         NaN       NaN      NaN      NaN      NaN      NaN       NaN   \n55_24         NaN       NaN      NaN      NaN      NaN      NaN       NaN   \n\n           O15394    O43505    O60888  ...  updrs_2_plus_24_months  \\\nvisit_id                               ...                           \n55_0      62898.2  333376.0  166850.0  ...                       9   \n55_6      62567.5  277833.0  170345.0  ...                      13   \n55_12     66963.1  332401.0  151194.0  ...                      18   \n55_18         NaN       NaN       NaN  ...                      20   \n55_24         NaN       NaN       NaN  ...                      16   \n\n          updrs_3_plus_0_months  updrs_3_plus_6_months  \\\nvisit_id                                                 \n55_0                         15                     34   \n55_6                         34                     41   \n55_12                        41                     38   \n55_18                        38                     49   \n55_24                        49                     49   \n\n          updrs_3_plus_12_months  updrs_3_plus_24_months  \\\nvisit_id                                                   \n55_0                          41                      49   \n55_6                          38                      49   \n55_12                         49                      51   \n55_18                         49                      41   \n55_24                         51                      52   \n\n          updrs_4_plus_0_months  updrs_4_plus_6_months  \\\nvisit_id                                                 \n55_0                          0                      0   \n55_6                          0                      0   \n55_12                         0                      0   \n55_18                         0                      0   \n55_24                         0                      0   \n\n          updrs_4_plus_12_months  updrs_4_plus_24_months  visit_month  \nvisit_id                                                               \n55_0                           0                       0            0  \n55_6                           0                       0            6  \n55_12                          0                       0           12  \n55_18                          0                       0           18  \n55_24                          0                       0           24  \n\n[5 rows x 244 columns]",
            "text/html": "<div>\n<style scoped>\n    .dataframe tbody tr th:only-of-type {\n        vertical-align: middle;\n    }\n\n    .dataframe tbody tr th {\n        vertical-align: top;\n    }\n\n    .dataframe thead th {\n        text-align: right;\n    }\n</style>\n<table border=\"1\" class=\"dataframe\">\n  <thead>\n    <tr style=\"text-align: right;\">\n      <th></th>\n      <th>O00391</th>\n      <th>O00533</th>\n      <th>O00584</th>\n      <th>O14498</th>\n      <th>O14773</th>\n      <th>O14791</th>\n      <th>O15240</th>\n      <th>O15394</th>\n      <th>O43505</th>\n      <th>O60888</th>\n      <th>...</th>\n      <th>updrs_2_plus_24_months</th>\n      <th>updrs_3_plus_0_months</th>\n      <th>updrs_3_plus_6_months</th>\n      <th>updrs_3_plus_12_months</th>\n      <th>updrs_3_plus_24_months</th>\n      <th>updrs_4_plus_0_months</th>\n      <th>updrs_4_plus_6_months</th>\n      <th>updrs_4_plus_12_months</th>\n      <th>updrs_4_plus_24_months</th>\n      <th>visit_month</th>\n    </tr>\n    <tr>\n      <th>visit_id</th>\n      <th></th>\n      <th></th>\n      <th></th>\n      <th></th>\n      <th></th>\n      <th></th>\n      <th></th>\n      <th></th>\n      <th></th>\n      <th></th>\n      <th></th>\n      <th></th>\n      <th></th>\n      <th></th>\n      <th></th>\n      <th></th>\n      <th></th>\n      <th></th>\n      <th></th>\n      <th></th>\n      <th></th>\n    </tr>\n  </thead>\n  <tbody>\n    <tr>\n      <th>55_0</th>\n      <td>11254.3</td>\n      <td>732430.0</td>\n      <td>39585.8</td>\n      <td>41526.9</td>\n      <td>31238.0</td>\n      <td>4202.71</td>\n      <td>177775.0</td>\n      <td>62898.2</td>\n      <td>333376.0</td>\n      <td>166850.0</td>\n      <td>...</td>\n      <td>9</td>\n      <td>15</td>\n      <td>34</td>\n      <td>41</td>\n      <td>49</td>\n      <td>0</td>\n      <td>0</td>\n      <td>0</td>\n      <td>0</td>\n      <td>0</td>\n    </tr>\n    <tr>\n      <th>55_6</th>\n      <td>13163.6</td>\n      <td>630465.0</td>\n      <td>35220.8</td>\n      <td>41295.0</td>\n      <td>26219.9</td>\n      <td>4416.42</td>\n      <td>165638.0</td>\n      <td>62567.5</td>\n      <td>277833.0</td>\n      <td>170345.0</td>\n      <td>...</td>\n      <td>13</td>\n      <td>34</td>\n      <td>41</td>\n      <td>38</td>\n      <td>49</td>\n      <td>0</td>\n      <td>0</td>\n      <td>0</td>\n      <td>0</td>\n      <td>6</td>\n    </tr>\n    <tr>\n      <th>55_12</th>\n      <td>15257.6</td>\n      <td>815083.0</td>\n      <td>41650.9</td>\n      <td>39763.3</td>\n      <td>30703.6</td>\n      <td>4343.60</td>\n      <td>151073.0</td>\n      <td>66963.1</td>\n      <td>332401.0</td>\n      <td>151194.0</td>\n      <td>...</td>\n      <td>18</td>\n      <td>41</td>\n      <td>38</td>\n      <td>49</td>\n      <td>51</td>\n      <td>0</td>\n      <td>0</td>\n      <td>0</td>\n      <td>0</td>\n      <td>12</td>\n    </tr>\n    <tr>\n      <th>55_18</th>\n      <td>NaN</td>\n      <td>NaN</td>\n      <td>NaN</td>\n      <td>NaN</td>\n      <td>NaN</td>\n      <td>NaN</td>\n      <td>NaN</td>\n      <td>NaN</td>\n      <td>NaN</td>\n      <td>NaN</td>\n      <td>...</td>\n      <td>20</td>\n      <td>38</td>\n      <td>49</td>\n      <td>49</td>\n      <td>41</td>\n      <td>0</td>\n      <td>0</td>\n      <td>0</td>\n      <td>0</td>\n      <td>18</td>\n    </tr>\n    <tr>\n      <th>55_24</th>\n      <td>NaN</td>\n      <td>NaN</td>\n      <td>NaN</td>\n      <td>NaN</td>\n      <td>NaN</td>\n      <td>NaN</td>\n      <td>NaN</td>\n      <td>NaN</td>\n      <td>NaN</td>\n      <td>NaN</td>\n      <td>...</td>\n      <td>16</td>\n      <td>49</td>\n      <td>49</td>\n      <td>51</td>\n      <td>52</td>\n      <td>0</td>\n      <td>0</td>\n      <td>0</td>\n      <td>0</td>\n      <td>24</td>\n    </tr>\n  </tbody>\n</table>\n<p>5 rows × 244 columns</p>\n</div>"
          },
          "metadata": {}
        }
      ],
      "id": "cvQ6VrwUMKcN"
    },
    {
      "cell_type": "code",
      "source": [
        "def extract_month(visit_id):\n",
        "    split_visit_id = visit_id.split('_')\n",
        "    return int(split_visit_id[1])\n",
        "\n",
        "unique_visit_months = df.reset_index().visit_id.apply(extract_month).unique().tolist()\n",
        "protein_list = protfeatures.columns.tolist()\n"
      ],
      "metadata": {
        "papermill": {
          "duration": 0.020886,
          "end_time": "2023-04-27T20:39:14.259927",
          "exception": false,
          "start_time": "2023-04-27T20:39:14.239041",
          "status": "completed"
        },
        "tags": [],
        "execution": {
          "iopub.status.busy": "2023-05-08T21:41:00.144289Z",
          "iopub.execute_input": "2023-05-08T21:41:00.144626Z",
          "iopub.status.idle": "2023-05-08T21:41:00.153826Z",
          "shell.execute_reply.started": "2023-05-08T21:41:00.144599Z",
          "shell.execute_reply": "2023-05-08T21:41:00.152722Z"
        },
        "trusted": true,
        "id": "bh4IyszQMKcO"
      },
      "execution_count": null,
      "outputs": [],
      "id": "bh4IyszQMKcO"
    },
    {
      "cell_type": "code",
      "source": [
        "X = df[protfeatures.columns.to_list() + [\"visit_month\"]]\n",
        "y = df[formatted_clin.columns]\n",
        "print('\\nX and y shapes:')\n",
        "X.shape, y.shape"
      ],
      "metadata": {
        "papermill": {
          "duration": 0.022514,
          "end_time": "2023-04-27T20:39:14.292376",
          "exception": false,
          "start_time": "2023-04-27T20:39:14.269862",
          "status": "completed"
        },
        "tags": [],
        "execution": {
          "iopub.status.busy": "2023-05-08T21:41:00.154945Z",
          "iopub.execute_input": "2023-05-08T21:41:00.155245Z",
          "iopub.status.idle": "2023-05-08T21:41:00.173464Z",
          "shell.execute_reply.started": "2023-05-08T21:41:00.155216Z",
          "shell.execute_reply": "2023-05-08T21:41:00.172275Z"
        },
        "trusted": true,
        "id": "b4cZnBXJMKcO",
        "outputId": "5ae4b4fc-1ffb-4aa6-8fd0-8c0e9ef0903c"
      },
      "execution_count": null,
      "outputs": [
        {
          "name": "stdout",
          "text": "\nX and y shapes:\n",
          "output_type": "stream"
        },
        {
          "execution_count": 33,
          "output_type": "execute_result",
          "data": {
            "text/plain": "((954, 228), (954, 16))"
          },
          "metadata": {}
        }
      ],
      "id": "b4cZnBXJMKcO"
    },
    {
      "cell_type": "code",
      "source": [
        "\n",
        "X.loc[:, 'visit_month'] = X['visit_month'].astype(float)\n",
        "y = y.astype(float)\n",
        "\n",
        "#Define a Column Transformer to scale and impute numerical features\n",
        "preprocessor = make_column_transformer(\n",
        "    (make_pipeline(KNNImputer(), StandardScaler()), \n",
        "     make_column_selector(dtype_include='number'))\n",
        ")\n",
        "\n",
        "#Apply the preprocessor to X for transformed data\n",
        "X_transformed = preprocessor.fit_transform(X)\n"
      ],
      "metadata": {
        "papermill": {
          "duration": 24.524801,
          "end_time": "2023-04-27T20:39:38.827214",
          "exception": false,
          "start_time": "2023-04-27T20:39:14.302413",
          "status": "completed"
        },
        "tags": [],
        "execution": {
          "iopub.status.busy": "2023-05-08T21:41:00.174793Z",
          "iopub.execute_input": "2023-05-08T21:41:00.175089Z",
          "iopub.status.idle": "2023-05-08T21:41:01.325327Z",
          "shell.execute_reply.started": "2023-05-08T21:41:00.175065Z",
          "shell.execute_reply": "2023-05-08T21:41:01.324275Z"
        },
        "trusted": true,
        "id": "eTXYOPV2MKcO",
        "outputId": "ce2fc184-202c-4c35-c887-2f315ebe59fa"
      },
      "execution_count": null,
      "outputs": [
        {
          "name": "stderr",
          "text": "/tmp/ipykernel_34/1543058113.py:1: SettingWithCopyWarning: \nA value is trying to be set on a copy of a slice from a DataFrame.\nTry using .loc[row_indexer,col_indexer] = value instead\n\nSee the caveats in the documentation: https://pandas.pydata.org/pandas-docs/stable/user_guide/indexing.html#returning-a-view-versus-a-copy\n  X.loc[:, 'visit_month'] = X['visit_month'].astype(float)\n/tmp/ipykernel_34/1543058113.py:1: DeprecationWarning: In a future version, `df.iloc[:, i] = newvals` will attempt to set the values inplace instead of always setting a new array. To retain the old behavior, use either `df[df.columns[i]] = newvals` or, if columns are non-unique, `df.isetitem(i, newvals)`\n  X.loc[:, 'visit_month'] = X['visit_month'].astype(float)\n",
          "output_type": "stream"
        }
      ],
      "id": "eTXYOPV2MKcO"
    },
    {
      "cell_type": "markdown",
      "source": [
        "# sMAPE Function"
      ],
      "metadata": {
        "papermill": {
          "duration": 0.026566,
          "end_time": "2023-04-27T20:39:38.880800",
          "exception": false,
          "start_time": "2023-04-27T20:39:38.854234",
          "status": "completed"
        },
        "tags": [],
        "id": "Ji02q4lbMKcO"
      },
      "id": "Ji02q4lbMKcO"
    },
    {
      "cell_type": "code",
      "source": [
        "\n",
        "def smape_loss_plus_one(y_true, y_pred):\n",
        "    epsilon = 0.1\n",
        "    numer = K.abs(y_pred + 1 - y_true - 1)\n",
        "    denom = K.maximum(K.abs(y_true) + K.abs(y_pred) + 2*epsilon, 1.5 + 2*epsilon)\n",
        "    smape_plus_one = numer / (denom/2)\n",
        "    smape_plus_one = tf.where(tf.math.is_nan(smape_plus_one), tf.zeros_like(smape_plus_one), smape_plus_one)\n",
        "    return smape_plus_one\n",
        "\n",
        "def calculate_smape_plus_one(y_true, y_pred):\n",
        "    y_true, y_pred = np.array(y_true), np.array(y_pred)\n",
        "    numer = np.round(np.abs(y_pred + 1 - y_true - 1), 0)\n",
        "    denom = np.round(np.abs(y_true) + np.abs(y_pred) + 2, 0)\n",
        "    smape_plus_one = 1/len(y_true) * np.sum(np.nan_to_num(numer / (denom/2))) * 100\n",
        "    return smape_plus_one\n"
      ],
      "metadata": {
        "papermill": {
          "duration": 7.208503,
          "end_time": "2023-04-27T20:39:46.115602",
          "exception": false,
          "start_time": "2023-04-27T20:39:38.907099",
          "status": "completed"
        },
        "tags": [],
        "execution": {
          "iopub.status.busy": "2023-05-08T21:41:01.326624Z",
          "iopub.execute_input": "2023-05-08T21:41:01.326923Z",
          "iopub.status.idle": "2023-05-08T21:41:01.334131Z",
          "shell.execute_reply.started": "2023-05-08T21:41:01.326898Z",
          "shell.execute_reply": "2023-05-08T21:41:01.333080Z"
        },
        "trusted": true,
        "id": "2NH4GTNVMKcO"
      },
      "execution_count": null,
      "outputs": [],
      "id": "2NH4GTNVMKcO"
    },
    {
      "cell_type": "markdown",
      "source": [
        "# Submission Preperation"
      ],
      "metadata": {
        "papermill": {
          "duration": 0.01237,
          "end_time": "2023-04-27T20:42:12.701058",
          "exception": false,
          "start_time": "2023-04-27T20:42:12.688688",
          "status": "completed"
        },
        "tags": [],
        "id": "fgz-vpwmMKcO"
      },
      "id": "fgz-vpwmMKcO"
    },
    {
      "cell_type": "code",
      "source": [
        "test_proteins = pd.read_csv('/kaggle/input/amp-parkinsons-disease-progression-prediction/example_test_files/test_proteins.csv') \n",
        "test_peptides = pd.read_csv('/kaggle/input/amp-parkinsons-disease-progression-prediction/example_test_files/test_peptides.csv') \n",
        "sample_submission = pd.read_csv('/kaggle/input/amp-parkinsons-disease-progression-prediction/example_test_files/sample_submission.csv')\n",
        "clinical = pd.read_csv('/kaggle/input/amp-parkinsons-disease-progression-prediction/example_test_files/test.csv')"
      ],
      "metadata": {
        "papermill": {
          "duration": 0.049684,
          "end_time": "2023-04-27T20:42:12.763236",
          "exception": false,
          "start_time": "2023-04-27T20:42:12.713552",
          "status": "completed"
        },
        "tags": [],
        "execution": {
          "iopub.status.busy": "2023-05-08T21:41:01.335846Z",
          "iopub.execute_input": "2023-05-08T21:41:01.336729Z",
          "iopub.status.idle": "2023-05-08T21:41:01.360981Z",
          "shell.execute_reply.started": "2023-05-08T21:41:01.336693Z",
          "shell.execute_reply": "2023-05-08T21:41:01.360207Z"
        },
        "trusted": true,
        "id": "Xf6cxUlKMKcO"
      },
      "execution_count": null,
      "outputs": [],
      "id": "Xf6cxUlKMKcO"
    },
    {
      "cell_type": "code",
      "source": [
        "def prepare_features(clinical, proteins):\n",
        "    \"\"\"Format features\"\"\"\n",
        "    X_submission = proteins.pivot(index='visit_id',columns='UniProt', values='NPX')\n",
        "    \n",
        "    \n",
        "    missing_visits = np.setdiff1d(np.array(clinical.visit_id.unique()), np.array(X_submission.index)).tolist()\n",
        "    missing_proteins = np.setdiff1d(np.array(protein_list), np.array(X_submission.columns)).tolist()\n",
        "    for mv in missing_visits:\n",
        "        X_submission.loc[mv] = np.NaN\n",
        "    \n",
        "    for mp in missing_proteins:\n",
        "        X_submission.loc[:,mp] = np.NaN\n",
        "        \n",
        "    X_submission = X_submission[protein_list]    \n",
        "    X_submission['visit_month'] = X_submission.reset_index().visit_id.str.split(\"_\").apply(lambda x: int(x[1])).values    \n",
        "    X_submission.visit_month = X_submission.visit_month.astype('float')\n",
        "    \n",
        "    return X_submission\n",
        "def get_predictions(features, model):\n",
        "    \"\"\"Make predictions from prepared features\"\"\"\n",
        "    X_submission_trans = preprocessor.transform(features)\n",
        "    # Predict and format ratings\n",
        "    pred_submission = np.around(np.abs(model.predict(X_submission_trans)),0)\n",
        "    pred_submission = pd.DataFrame(pred_submission, index= features.index, columns = y.columns)\n",
        "    \n",
        "    return pred_submission\n",
        "def format_predictions(predictions, sample_submission):\n",
        "    \"\"\"Format predictions for submission\"\"\"\n",
        "    pred_submission = pd.DataFrame(predictions.stack())\n",
        "\n",
        "    # Map predictions to sample_submission\n",
        "    pred_submission.index = pred_submission.index.map('_'.join)\n",
        "    pred_submission.columns = ['rating']\n",
        "    sample_submission.rating = sample_submission.prediction_id.map(pred_submission.rating)\n",
        "    \n",
        "    return sample_submission.fillna(0)"
      ],
      "metadata": {
        "papermill": {
          "duration": 0.024146,
          "end_time": "2023-04-27T20:42:12.800441",
          "exception": false,
          "start_time": "2023-04-27T20:42:12.776295",
          "status": "completed"
        },
        "tags": [],
        "execution": {
          "iopub.status.busy": "2023-05-08T21:41:01.362376Z",
          "iopub.execute_input": "2023-05-08T21:41:01.363070Z",
          "iopub.status.idle": "2023-05-08T21:41:01.375010Z",
          "shell.execute_reply.started": "2023-05-08T21:41:01.363032Z",
          "shell.execute_reply": "2023-05-08T21:41:01.373976Z"
        },
        "trusted": true,
        "id": "WbGacrgWMKcP"
      },
      "execution_count": null,
      "outputs": [],
      "id": "WbGacrgWMKcP"
    },
    {
      "cell_type": "markdown",
      "source": [
        "# Sequential Model with GRU"
      ],
      "metadata": {
        "papermill": {
          "duration": 0.009962,
          "end_time": "2023-04-27T20:39:46.136093",
          "exception": false,
          "start_time": "2023-04-27T20:39:46.126131",
          "status": "completed"
        },
        "tags": [],
        "id": "qp35yg39MKcP"
      },
      "id": "qp35yg39MKcP"
    },
    {
      "cell_type": "code",
      "source": [
        "model = Sequential()\n",
        "model.add(GRU(128, input_shape=(X.shape[1], 1), activation='relu', return_sequences=True))\n",
        "model.add(Dropout(0.15))\n",
        "model.add(GRU(64, activation='relu', kernel_regularizer=regularizers.l2(0.01), return_sequences=True))\n",
        "model.add(Dropout(0.15))\n",
        "model.add(GRU(32, activation='relu', kernel_regularizer=regularizers.l2(0.01)))\n",
        "model.add(Dropout(0.15))\n",
        "model.add(Dense(y.shape[1], activation='linear'))\n",
        "\n",
        "model.compile(optimizer='adam', loss=smape_loss_plus_one, metrics=[smape_loss_plus_one])\n",
        "\n",
        "# Reshape input data to be suitable for GRU layers\n",
        "X_transformed = X_transformed.reshape(X_transformed.shape[0], X_transformed.shape[1], 1)\n",
        "\n",
        "history = model.fit(X_transformed, y, epochs=50, batch_size=64, validation_split=.2, verbose=False)\n",
        "\n",
        "\n",
        "import matplotlib.pyplot as plt\n",
        "\n",
        "fig, axs = plt.subplots(1, 2, figsize=(12, 5))\n",
        "\n",
        "# Plot training and validation loss\n",
        "axs[0].plot(history.history['loss'])\n",
        "axs[0].plot(history.history['val_loss'])\n",
        "axs[0].set_title('Model Loss')\n",
        "axs[0].set_xlabel('Epoch')\n",
        "axs[0].set_ylabel('Loss')\n",
        "axs[0].legend(['Training', 'Validation'])\n",
        "\n",
        "# Plot training and validation SMAPE+1\n",
        "axs[1].plot(history.history['smape_loss_plus_one'])\n",
        "axs[1].plot(history.history['val_smape_loss_plus_one'])\n",
        "axs[1].set_title('Model SMAPE+1')\n",
        "axs[1].set_xlabel('Epoch')\n",
        "axs[1].set_ylabel('SMAPE+1')\n",
        "axs[1].legend(['Training', 'Validation'])\n",
        "\n",
        "plt.show()\n",
        "\n",
        "# Print the final training and validation loss\n",
        "print('Final training loss:', history.history['loss'][-1])\n",
        "print('Final validation loss:', history.history['val_loss'][-1])"
      ],
      "metadata": {
        "papermill": {
          "duration": 2.852082,
          "end_time": "2023-04-27T20:39:48.998258",
          "exception": false,
          "start_time": "2023-04-27T20:39:46.146176",
          "status": "completed"
        },
        "tags": [],
        "execution": {
          "iopub.status.busy": "2023-05-08T21:41:01.376264Z",
          "iopub.execute_input": "2023-05-08T21:41:01.376661Z",
          "iopub.status.idle": "2023-05-08T21:46:24.537581Z",
          "shell.execute_reply.started": "2023-05-08T21:41:01.376633Z",
          "shell.execute_reply": "2023-05-08T21:46:24.536526Z"
        },
        "trusted": true,
        "id": "c3xi5Aa2MKcP",
        "outputId": "fdf84106-4370-4a80-b3ce-f49988360d8d"
      },
      "execution_count": null,
      "outputs": [
        {
          "output_type": "display_data",
          "data": {
            "text/plain": "<Figure size 1200x500 with 2 Axes>",
            "image/png": "[encoded data removed]"
          },
          "metadata": {}
        },
        {
          "name": "stdout",
          "text": "Final training loss: 0.6427332162857056\nFinal validation loss: 0.5552383065223694\n",
          "output_type": "stream"
        }
      ],
      "id": "c3xi5Aa2MKcP"
    },
    {
      "cell_type": "code",
      "source": [
        "# Prepare test features\n",
        "test_features = prepare_features(clinical, test_proteins)\n",
        "\n",
        "# Make predictions for test features\n",
        "test_predictions = get_predictions(test_features, model)\n",
        "\n",
        "# Format predictions for submission\n",
        "test_submission = format_predictions(test_predictions, sample_submission)\n",
        "\n",
        "# Print the first few rows of the submission\n",
        "print(test_submission.head())\n",
        "\n"
      ],
      "metadata": {
        "execution": {
          "iopub.status.busy": "2023-05-08T21:46:24.539073Z",
          "iopub.execute_input": "2023-05-08T21:46:24.539613Z",
          "iopub.status.idle": "2023-05-08T21:46:25.311113Z",
          "shell.execute_reply.started": "2023-05-08T21:46:24.539585Z",
          "shell.execute_reply": "2023-05-08T21:46:25.309948Z"
        },
        "trusted": true,
        "id": "VgCBEpZ9MKcP",
        "outputId": "039d3025-047d-4d1d-d11d-f2e4addbf32b"
      },
      "execution_count": null,
      "outputs": [
        {
          "name": "stdout",
          "text": "1/1 [==============================] - 1s 536ms/step\n                   prediction_id  rating  group_key\n0   3342_0_updrs_1_plus_0_months     7.0          0\n1   3342_0_updrs_1_plus_6_months     7.0          0\n2  3342_0_updrs_1_plus_12_months     8.0          0\n3  3342_0_updrs_1_plus_24_months     8.0          0\n4   3342_0_updrs_2_plus_0_months     7.0          0\n",
          "output_type": "stream"
        }
      ],
      "id": "VgCBEpZ9MKcP"
    },
    {
      "cell_type": "code",
      "source": [
        "test_features = prepare_features(clinical, test_proteins)\n",
        "test_predictions = get_predictions(test_features,model)\n",
        "test_submission = format_predictions(test_predictions, sample_submission)\n",
        "test_submission"
      ],
      "metadata": {
        "papermill": {
          "duration": 0.318552,
          "end_time": "2023-04-27T20:42:13.198630",
          "exception": false,
          "start_time": "2023-04-27T20:42:12.880078",
          "status": "completed"
        },
        "tags": [],
        "execution": {
          "iopub.status.busy": "2023-05-08T21:46:25.312708Z",
          "iopub.execute_input": "2023-05-08T21:46:25.313780Z",
          "iopub.status.idle": "2023-05-08T21:46:25.609131Z",
          "shell.execute_reply.started": "2023-05-08T21:46:25.313741Z",
          "shell.execute_reply": "2023-05-08T21:46:25.608088Z"
        },
        "trusted": true,
        "id": "H_gC2nCrMKcP",
        "outputId": "bb3065b9-52c4-4f14-83b2-c94fd26db731"
      },
      "execution_count": null,
      "outputs": [
        {
          "name": "stdout",
          "text": "1/1 [==============================] - 0s 64ms/step\n",
          "output_type": "stream"
        },
        {
          "execution_count": 40,
          "output_type": "execute_result",
          "data": {
            "text/plain": "                     prediction_id  rating  group_key\n0     3342_0_updrs_1_plus_0_months     7.0          0\n1     3342_0_updrs_1_plus_6_months     7.0          0\n2    3342_0_updrs_1_plus_12_months     8.0          0\n3    3342_0_updrs_1_plus_24_months     8.0          0\n4     3342_0_updrs_2_plus_0_months     7.0          0\n..                             ...     ...        ...\n59  50423_6_updrs_3_plus_24_months    24.0          6\n60   50423_6_updrs_4_plus_0_months     0.0          6\n61   50423_6_updrs_4_plus_6_months     0.0          6\n62  50423_6_updrs_4_plus_12_months     0.0          6\n63  50423_6_updrs_4_plus_24_months     0.0          6\n\n[64 rows x 3 columns]",
            "text/html": "<div>\n<style scoped>\n    .dataframe tbody tr th:only-of-type {\n        vertical-align: middle;\n    }\n\n    .dataframe tbody tr th {\n        vertical-align: top;\n    }\n\n    .dataframe thead th {\n        text-align: right;\n    }\n</style>\n<table border=\"1\" class=\"dataframe\">\n  <thead>\n    <tr style=\"text-align: right;\">\n      <th></th>\n      <th>prediction_id</th>\n      <th>rating</th>\n      <th>group_key</th>\n    </tr>\n  </thead>\n  <tbody>\n    <tr>\n      <th>0</th>\n      <td>3342_0_updrs_1_plus_0_months</td>\n      <td>7.0</td>\n      <td>0</td>\n    </tr>\n    <tr>\n      <th>1</th>\n      <td>3342_0_updrs_1_plus_6_months</td>\n      <td>7.0</td>\n      <td>0</td>\n    </tr>\n    <tr>\n      <th>2</th>\n      <td>3342_0_updrs_1_plus_12_months</td>\n      <td>8.0</td>\n      <td>0</td>\n    </tr>\n    <tr>\n      <th>3</th>\n      <td>3342_0_updrs_1_plus_24_months</td>\n      <td>8.0</td>\n      <td>0</td>\n    </tr>\n    <tr>\n      <th>4</th>\n      <td>3342_0_updrs_2_plus_0_months</td>\n      <td>7.0</td>\n      <td>0</td>\n    </tr>\n    <tr>\n      <th>...</th>\n      <td>...</td>\n      <td>...</td>\n      <td>...</td>\n    </tr>\n    <tr>\n      <th>59</th>\n      <td>50423_6_updrs_3_plus_24_months</td>\n      <td>24.0</td>\n      <td>6</td>\n    </tr>\n    <tr>\n      <th>60</th>\n      <td>50423_6_updrs_4_plus_0_months</td>\n      <td>0.0</td>\n      <td>6</td>\n    </tr>\n    <tr>\n      <th>61</th>\n      <td>50423_6_updrs_4_plus_6_months</td>\n      <td>0.0</td>\n      <td>6</td>\n    </tr>\n    <tr>\n      <th>62</th>\n      <td>50423_6_updrs_4_plus_12_months</td>\n      <td>0.0</td>\n      <td>6</td>\n    </tr>\n    <tr>\n      <th>63</th>\n      <td>50423_6_updrs_4_plus_24_months</td>\n      <td>0.0</td>\n      <td>6</td>\n    </tr>\n  </tbody>\n</table>\n<p>64 rows × 3 columns</p>\n</div>"
          },
          "metadata": {}
        }
      ],
      "id": "H_gC2nCrMKcP"
    },
    {
      "cell_type": "markdown",
      "source": [
        "### Submission for Sequential Model with GRU"
      ],
      "metadata": {
        "papermill": {
          "duration": 0.012884,
          "end_time": "2023-04-27T20:42:13.224664",
          "exception": false,
          "start_time": "2023-04-27T20:42:13.211780",
          "status": "completed"
        },
        "tags": [],
        "id": "073-c3WWMKcQ"
      },
      "id": "073-c3WWMKcQ"
    },
    {
      "cell_type": "code",
      "source": [
        "import sys\n",
        "sys.path.append('/kaggle/input/amp-parkinsons-disease-progression-prediction')\n",
        "\n",
        "import amp_pd_peptide_310\n",
        "env = amp_pd_peptide_310.make_env()   # environment provided by competition\n",
        "iter_test = env.iter_test()"
      ],
      "metadata": {
        "papermill": {
          "duration": 0.074663,
          "end_time": "2023-04-27T20:42:13.311975",
          "exception": false,
          "start_time": "2023-04-27T20:42:13.237312",
          "status": "completed"
        },
        "tags": [],
        "execution": {
          "iopub.status.busy": "2023-05-08T21:46:45.912052Z",
          "iopub.execute_input": "2023-05-08T21:46:45.913179Z",
          "iopub.status.idle": "2023-05-08T21:46:45.919209Z",
          "shell.execute_reply.started": "2023-05-08T21:46:45.913130Z",
          "shell.execute_reply": "2023-05-08T21:46:45.918097Z"
        },
        "trusted": true,
        "id": "itGDKZfSMKcQ"
      },
      "execution_count": null,
      "outputs": [],
      "id": "itGDKZfSMKcQ"
    },
    {
      "cell_type": "code",
      "source": [
        "for (test, test_peptides, test_proteins, sample_submission) in iter_test:\n",
        "    sub_features = prepare_features(test, test_proteins)\n",
        "    sub_predictions = get_predictions(sub_features,model)\n",
        "    submission = format_predictions(sub_predictions, sample_submission)\n",
        "\n",
        "    env.predict(submission)"
      ],
      "metadata": {
        "papermill": {
          "duration": 0.366494,
          "end_time": "2023-04-27T20:42:13.691550",
          "exception": false,
          "start_time": "2023-04-27T20:42:13.325056",
          "status": "completed"
        },
        "tags": [],
        "execution": {
          "iopub.status.busy": "2023-05-08T21:46:57.900088Z",
          "iopub.execute_input": "2023-05-08T21:46:57.900484Z",
          "iopub.status.idle": "2023-05-08T21:46:58.502855Z",
          "shell.execute_reply.started": "2023-05-08T21:46:57.900453Z",
          "shell.execute_reply": "2023-05-08T21:46:58.502020Z"
        },
        "trusted": true,
        "id": "SpEaO70AMKcQ",
        "outputId": "251ba964-b462-46ea-eee4-5d35ac22749d"
      },
      "execution_count": null,
      "outputs": [
        {
          "name": "stdout",
          "text": "This version of the API is not optimized and should not be used to estimate the runtime of your code on the hidden test set.\n1/1 [==============================] - 0s 71ms/step\n1/1 [==============================] - 0s 62ms/step\n",
          "output_type": "stream"
        }
      ],
      "id": "SpEaO70AMKcQ"
    },
    {
      "cell_type": "code",
      "source": [
        "pd.read_csv('/kaggle/working/submission.csv')"
      ],
      "metadata": {
        "papermill": {
          "duration": 0.031726,
          "end_time": "2023-04-27T20:42:13.736406",
          "exception": false,
          "start_time": "2023-04-27T20:42:13.704680",
          "status": "completed"
        },
        "tags": [],
        "execution": {
          "iopub.status.busy": "2023-05-08T21:46:59.847301Z",
          "iopub.execute_input": "2023-05-08T21:46:59.848240Z",
          "iopub.status.idle": "2023-05-08T21:46:59.862665Z",
          "shell.execute_reply.started": "2023-05-08T21:46:59.848205Z",
          "shell.execute_reply": "2023-05-08T21:46:59.861433Z"
        },
        "trusted": true,
        "id": "xiJFIxwwMKcQ",
        "outputId": "faec70db-49c7-4537-b01d-43df1af85196"
      },
      "execution_count": null,
      "outputs": [
        {
          "execution_count": 44,
          "output_type": "execute_result",
          "data": {
            "text/plain": "                     prediction_id  rating\n0     3342_0_updrs_1_plus_0_months     7.0\n1     3342_0_updrs_1_plus_6_months     7.0\n2    3342_0_updrs_1_plus_12_months     8.0\n3    3342_0_updrs_1_plus_24_months     8.0\n4     3342_0_updrs_2_plus_0_months     7.0\n..                             ...     ...\n59  50423_6_updrs_3_plus_24_months    24.0\n60   50423_6_updrs_4_plus_0_months     0.0\n61   50423_6_updrs_4_plus_6_months     0.0\n62  50423_6_updrs_4_plus_12_months     0.0\n63  50423_6_updrs_4_plus_24_months     0.0\n\n[64 rows x 2 columns]",
            "text/html": "<div>\n<style scoped>\n    .dataframe tbody tr th:only-of-type {\n        vertical-align: middle;\n    }\n\n    .dataframe tbody tr th {\n        vertical-align: top;\n    }\n\n    .dataframe thead th {\n        text-align: right;\n    }\n</style>\n<table border=\"1\" class=\"dataframe\">\n  <thead>\n    <tr style=\"text-align: right;\">\n      <th></th>\n      <th>prediction_id</th>\n      <th>rating</th>\n    </tr>\n  </thead>\n  <tbody>\n    <tr>\n      <th>0</th>\n      <td>3342_0_updrs_1_plus_0_months</td>\n      <td>7.0</td>\n    </tr>\n    <tr>\n      <th>1</th>\n      <td>3342_0_updrs_1_plus_6_months</td>\n      <td>7.0</td>\n    </tr>\n    <tr>\n      <th>2</th>\n      <td>3342_0_updrs_1_plus_12_months</td>\n      <td>8.0</td>\n    </tr>\n    <tr>\n      <th>3</th>\n      <td>3342_0_updrs_1_plus_24_months</td>\n      <td>8.0</td>\n    </tr>\n    <tr>\n      <th>4</th>\n      <td>3342_0_updrs_2_plus_0_months</td>\n      <td>7.0</td>\n    </tr>\n    <tr>\n      <th>...</th>\n      <td>...</td>\n      <td>...</td>\n    </tr>\n    <tr>\n      <th>59</th>\n      <td>50423_6_updrs_3_plus_24_months</td>\n      <td>24.0</td>\n    </tr>\n    <tr>\n      <th>60</th>\n      <td>50423_6_updrs_4_plus_0_months</td>\n      <td>0.0</td>\n    </tr>\n    <tr>\n      <th>61</th>\n      <td>50423_6_updrs_4_plus_6_months</td>\n      <td>0.0</td>\n    </tr>\n    <tr>\n      <th>62</th>\n      <td>50423_6_updrs_4_plus_12_months</td>\n      <td>0.0</td>\n    </tr>\n    <tr>\n      <th>63</th>\n      <td>50423_6_updrs_4_plus_24_months</td>\n      <td>0.0</td>\n    </tr>\n  </tbody>\n</table>\n<p>64 rows × 2 columns</p>\n</div>"
          },
          "metadata": {}
        }
      ],
      "id": "xiJFIxwwMKcQ"
    },
    {
      "cell_type": "markdown",
      "source": [
        "# Sequential DL Model with fully connected layers"
      ],
      "metadata": {
        "id": "pEkHTgCHMKcQ"
      },
      "id": "pEkHTgCHMKcQ"
    },
    {
      "cell_type": "code",
      "source": [
        "model = Sequential()\n",
        "model.add(Dense(256, input_shape=[X.shape[1]], activation='relu'))\n",
        "model.add(Dropout(0.35))\n",
        "model.add(Dense(128, activation='relu', kernel_regularizer=regularizers.l2(0.01)))\n",
        "model.add(Dropout(0.35))\n",
        "model.add(Dense(64, activation='relu', kernel_regularizer=regularizers.l2(0.01)))\n",
        "model.add(Dropout(0.35))\n",
        "model.add(Dense(32, activation='relu', kernel_regularizer=regularizers.l2(0.01)))\n",
        "model.add(Dropout(0.35))\n",
        "model.add(Dense(y.shape[1], activation='linear'))\n",
        "\n",
        "model.compile(optimizer='adam', loss=smape_loss_plus_one, metrics=[smape_loss_plus_one])\n",
        "\n",
        "history = model.fit(X_transformed, y, epochs=500, batch_size=32, validation_split=.2, verbose=False)\n",
        "\n",
        "import matplotlib.pyplot as plt\n",
        "\n",
        "fig, axs = plt.subplots(1, 2, figsize=(12, 5))\n",
        "\n",
        "# Plot training and validation loss\n",
        "axs[0].plot(history.history['loss'])\n",
        "axs[0].plot(history.history['val_loss'])\n",
        "axs[0].set_title('Model Loss')\n",
        "axs[0].set_xlabel('Epoch')\n",
        "axs[0].set_ylabel('Loss')\n",
        "axs[0].legend(['Training', 'Validation'])\n",
        "\n",
        "# Plot training and validation SMAPE+1\n",
        "axs[1].plot(history.history['smape_loss_plus_one'])\n",
        "axs[1].plot(history.history['val_smape_loss_plus_one'])\n",
        "axs[1].set_title('Model SMAPE+1')\n",
        "axs[1].set_xlabel('Epoch')\n",
        "axs[1].set_ylabel('SMAPE+1')\n",
        "axs[1].legend(['Training', 'Validation'])\n",
        "\n",
        "plt.show()\n",
        "\n",
        "# Print the final training and validation loss\n",
        "print('Final training loss:', history.history['loss'][-1])\n",
        "print('Final validation loss:', history.history['val_loss'][-1])"
      ],
      "metadata": {
        "papermill": {
          "duration": 2.852082,
          "end_time": "2023-04-27T20:39:48.998258",
          "exception": false,
          "start_time": "2023-04-27T20:39:46.146176",
          "status": "completed"
        },
        "tags": [],
        "execution": {
          "iopub.status.busy": "2023-05-08T21:47:02.230917Z",
          "iopub.execute_input": "2023-05-08T21:47:02.231773Z",
          "iopub.status.idle": "2023-05-08T21:47:59.457273Z",
          "shell.execute_reply.started": "2023-05-08T21:47:02.231742Z",
          "shell.execute_reply": "2023-05-08T21:47:59.456327Z"
        },
        "trusted": true,
        "id": "xa6YNaNtMKcQ",
        "outputId": "f5e40427-7c68-4871-afe4-80f952e41764"
      },
      "execution_count": null,
      "outputs": [
        {
          "output_type": "display_data",
          "data": {
            "text/plain": "<Figure size 1200x500 with 2 Axes>",
            "image/png": "[encoded data removed]"
          },
          "metadata": {}
        },
        {
          "name": "stdout",
          "text": "Final training loss: 0.539899468421936\nFinal validation loss: 0.5870407223701477\n",
          "output_type": "stream"
        }
      ],
      "id": "xa6YNaNtMKcQ"
    },
    {
      "cell_type": "code",
      "source": [
        "# Prepare test features\n",
        "test_features = prepare_features(clinical, test_proteins)\n",
        "\n",
        "# Make predictions for test features\n",
        "test_predictions = get_predictions(test_features, model)\n",
        "\n",
        "# Format predictions for submission\n",
        "test_submission = format_predictions(test_predictions, sample_submission)\n",
        "\n",
        "# Print the first few rows of the submission\n",
        "print(test_submission.head())\n",
        "\n"
      ],
      "metadata": {
        "execution": {
          "iopub.status.busy": "2023-05-08T21:47:59.459243Z",
          "iopub.execute_input": "2023-05-08T21:47:59.459618Z",
          "iopub.status.idle": "2023-05-08T21:47:59.766243Z",
          "shell.execute_reply.started": "2023-05-08T21:47:59.459584Z",
          "shell.execute_reply": "2023-05-08T21:47:59.765211Z"
        },
        "trusted": true,
        "id": "_VPOQOo1MKcQ",
        "outputId": "812fb460-2a90-4532-a91e-5246712c4864"
      },
      "execution_count": null,
      "outputs": [
        {
          "name": "stdout",
          "text": "1/1 [==============================] - 0s 75ms/step\n                   prediction_id  rating\n0   3342_6_updrs_1_plus_0_months     6.0\n1   3342_6_updrs_1_plus_6_months     6.0\n2  3342_6_updrs_1_plus_12_months     6.0\n3  3342_6_updrs_1_plus_24_months     7.0\n4   3342_6_updrs_2_plus_0_months     5.0\n",
          "output_type": "stream"
        }
      ],
      "id": "_VPOQOo1MKcQ"
    },
    {
      "cell_type": "code",
      "source": [
        "test_features = prepare_features(clinical, test_proteins)\n",
        "test_predictions = get_predictions(test_features,model)\n",
        "test_submission = format_predictions(test_predictions, sample_submission)\n",
        "test_submission"
      ],
      "metadata": {
        "papermill": {
          "duration": 0.318552,
          "end_time": "2023-04-27T20:42:13.198630",
          "exception": false,
          "start_time": "2023-04-27T20:42:12.880078",
          "status": "completed"
        },
        "tags": [],
        "execution": {
          "iopub.status.busy": "2023-05-08T21:47:59.767512Z",
          "iopub.execute_input": "2023-05-08T21:47:59.767918Z",
          "iopub.status.idle": "2023-05-08T21:48:00.020016Z",
          "shell.execute_reply.started": "2023-05-08T21:47:59.767893Z",
          "shell.execute_reply": "2023-05-08T21:48:00.019039Z"
        },
        "trusted": true,
        "id": "9HCGVlrbMKcR",
        "outputId": "77c1bc6d-673e-4994-d316-1663a9f52068"
      },
      "execution_count": null,
      "outputs": [
        {
          "name": "stdout",
          "text": "1/1 [==============================] - 0s 21ms/step\n",
          "output_type": "stream"
        },
        {
          "execution_count": 47,
          "output_type": "execute_result",
          "data": {
            "text/plain": "                     prediction_id  rating\n0     3342_6_updrs_1_plus_0_months     6.0\n1     3342_6_updrs_1_plus_6_months     6.0\n2    3342_6_updrs_1_plus_12_months     6.0\n3    3342_6_updrs_1_plus_24_months     7.0\n4     3342_6_updrs_2_plus_0_months     5.0\n5     3342_6_updrs_2_plus_6_months     6.0\n6    3342_6_updrs_2_plus_12_months     6.0\n7    3342_6_updrs_2_plus_24_months     6.0\n8     3342_6_updrs_3_plus_0_months    17.0\n9     3342_6_updrs_3_plus_6_months    18.0\n10   3342_6_updrs_3_plus_12_months    18.0\n11   3342_6_updrs_3_plus_24_months    20.0\n12    3342_6_updrs_4_plus_0_months     0.0\n13    3342_6_updrs_4_plus_6_months     0.0\n14   3342_6_updrs_4_plus_12_months     0.0\n15   3342_6_updrs_4_plus_24_months     0.0\n16   50423_6_updrs_1_plus_0_months     5.0\n17   50423_6_updrs_1_plus_6_months     5.0\n18  50423_6_updrs_1_plus_12_months     5.0\n19  50423_6_updrs_1_plus_24_months     6.0\n20   50423_6_updrs_2_plus_0_months     4.0\n21   50423_6_updrs_2_plus_6_months     5.0\n22  50423_6_updrs_2_plus_12_months     5.0\n23  50423_6_updrs_2_plus_24_months     5.0\n24   50423_6_updrs_3_plus_0_months    13.0\n25   50423_6_updrs_3_plus_6_months    14.0\n26  50423_6_updrs_3_plus_12_months    14.0\n27  50423_6_updrs_3_plus_24_months    15.0\n28   50423_6_updrs_4_plus_0_months     0.0\n29   50423_6_updrs_4_plus_6_months     0.0\n30  50423_6_updrs_4_plus_12_months     0.0\n31  50423_6_updrs_4_plus_24_months     0.0",
            "text/html": "<div>\n<style scoped>\n    .dataframe tbody tr th:only-of-type {\n        vertical-align: middle;\n    }\n\n    .dataframe tbody tr th {\n        vertical-align: top;\n    }\n\n    .dataframe thead th {\n        text-align: right;\n    }\n</style>\n<table border=\"1\" class=\"dataframe\">\n  <thead>\n    <tr style=\"text-align: right;\">\n      <th></th>\n      <th>prediction_id</th>\n      <th>rating</th>\n    </tr>\n  </thead>\n  <tbody>\n    <tr>\n      <th>0</th>\n      <td>3342_6_updrs_1_plus_0_months</td>\n      <td>6.0</td>\n    </tr>\n    <tr>\n      <th>1</th>\n      <td>3342_6_updrs_1_plus_6_months</td>\n      <td>6.0</td>\n    </tr>\n    <tr>\n      <th>2</th>\n      <td>3342_6_updrs_1_plus_12_months</td>\n      <td>6.0</td>\n    </tr>\n    <tr>\n      <th>3</th>\n      <td>3342_6_updrs_1_plus_24_months</td>\n      <td>7.0</td>\n    </tr>\n    <tr>\n      <th>4</th>\n      <td>3342_6_updrs_2_plus_0_months</td>\n      <td>5.0</td>\n    </tr>\n    <tr>\n      <th>5</th>\n      <td>3342_6_updrs_2_plus_6_months</td>\n      <td>6.0</td>\n    </tr>\n    <tr>\n      <th>6</th>\n      <td>3342_6_updrs_2_plus_12_months</td>\n      <td>6.0</td>\n    </tr>\n    <tr>\n      <th>7</th>\n      <td>3342_6_updrs_2_plus_24_months</td>\n      <td>6.0</td>\n    </tr>\n    <tr>\n      <th>8</th>\n      <td>3342_6_updrs_3_plus_0_months</td>\n      <td>17.0</td>\n    </tr>\n    <tr>\n      <th>9</th>\n      <td>3342_6_updrs_3_plus_6_months</td>\n      <td>18.0</td>\n    </tr>\n    <tr>\n      <th>10</th>\n      <td>3342_6_updrs_3_plus_12_months</td>\n      <td>18.0</td>\n    </tr>\n    <tr>\n      <th>11</th>\n      <td>3342_6_updrs_3_plus_24_months</td>\n      <td>20.0</td>\n    </tr>\n    <tr>\n      <th>12</th>\n      <td>3342_6_updrs_4_plus_0_months</td>\n      <td>0.0</td>\n    </tr>\n    <tr>\n      <th>13</th>\n      <td>3342_6_updrs_4_plus_6_months</td>\n      <td>0.0</td>\n    </tr>\n    <tr>\n      <th>14</th>\n      <td>3342_6_updrs_4_plus_12_months</td>\n      <td>0.0</td>\n    </tr>\n    <tr>\n      <th>15</th>\n      <td>3342_6_updrs_4_plus_24_months</td>\n      <td>0.0</td>\n    </tr>\n    <tr>\n      <th>16</th>\n      <td>50423_6_updrs_1_plus_0_months</td>\n      <td>5.0</td>\n    </tr>\n    <tr>\n      <th>17</th>\n      <td>50423_6_updrs_1_plus_6_months</td>\n      <td>5.0</td>\n    </tr>\n    <tr>\n      <th>18</th>\n      <td>50423_6_updrs_1_plus_12_months</td>\n      <td>5.0</td>\n    </tr>\n    <tr>\n      <th>19</th>\n      <td>50423_6_updrs_1_plus_24_months</td>\n      <td>6.0</td>\n    </tr>\n    <tr>\n      <th>20</th>\n      <td>50423_6_updrs_2_plus_0_months</td>\n      <td>4.0</td>\n    </tr>\n    <tr>\n      <th>21</th>\n      <td>50423_6_updrs_2_plus_6_months</td>\n      <td>5.0</td>\n    </tr>\n    <tr>\n      <th>22</th>\n      <td>50423_6_updrs_2_plus_12_months</td>\n      <td>5.0</td>\n    </tr>\n    <tr>\n      <th>23</th>\n      <td>50423_6_updrs_2_plus_24_months</td>\n      <td>5.0</td>\n    </tr>\n    <tr>\n      <th>24</th>\n      <td>50423_6_updrs_3_plus_0_months</td>\n      <td>13.0</td>\n    </tr>\n    <tr>\n      <th>25</th>\n      <td>50423_6_updrs_3_plus_6_months</td>\n      <td>14.0</td>\n    </tr>\n    <tr>\n      <th>26</th>\n      <td>50423_6_updrs_3_plus_12_months</td>\n      <td>14.0</td>\n    </tr>\n    <tr>\n      <th>27</th>\n      <td>50423_6_updrs_3_plus_24_months</td>\n      <td>15.0</td>\n    </tr>\n    <tr>\n      <th>28</th>\n      <td>50423_6_updrs_4_plus_0_months</td>\n      <td>0.0</td>\n    </tr>\n    <tr>\n      <th>29</th>\n      <td>50423_6_updrs_4_plus_6_months</td>\n      <td>0.0</td>\n    </tr>\n    <tr>\n      <th>30</th>\n      <td>50423_6_updrs_4_plus_12_months</td>\n      <td>0.0</td>\n    </tr>\n    <tr>\n      <th>31</th>\n      <td>50423_6_updrs_4_plus_24_months</td>\n      <td>0.0</td>\n    </tr>\n  </tbody>\n</table>\n</div>"
          },
          "metadata": {}
        }
      ],
      "id": "9HCGVlrbMKcR"
    },
    {
      "cell_type": "markdown",
      "source": [
        "### Submission for Sequential Model with fully connected layers"
      ],
      "metadata": {
        "papermill": {
          "duration": 0.012884,
          "end_time": "2023-04-27T20:42:13.224664",
          "exception": false,
          "start_time": "2023-04-27T20:42:13.211780",
          "status": "completed"
        },
        "tags": [],
        "id": "9Kz2Y5pXMKcR"
      },
      "id": "9Kz2Y5pXMKcR"
    },
    {
      "cell_type": "code",
      "source": [
        "import sys\n",
        "sys.path.append('/kaggle/input/amp-parkinsons-disease-progression-prediction')\n",
        "\n",
        "import amp_pd_peptide_310\n",
        "env = amp_pd_peptide.make_env()   # environment provided by competition\n",
        "iter_test = env.iter_test()"
      ],
      "metadata": {
        "papermill": {
          "duration": 0.074663,
          "end_time": "2023-04-27T20:42:13.311975",
          "exception": false,
          "start_time": "2023-04-27T20:42:13.237312",
          "status": "completed"
        },
        "tags": [],
        "execution": {
          "iopub.status.busy": "2023-05-08T21:46:25.668781Z",
          "iopub.status.idle": "2023-05-08T21:46:25.669141Z",
          "shell.execute_reply.started": "2023-05-08T21:46:25.668984Z",
          "shell.execute_reply": "2023-05-08T21:46:25.669000Z"
        },
        "trusted": true,
        "id": "uBDdfv80MKcR"
      },
      "execution_count": null,
      "outputs": [],
      "id": "uBDdfv80MKcR"
    },
    {
      "cell_type": "code",
      "source": [
        "for (test, test_peptides, test_proteins, sample_submission) in iter_test:\n",
        "    sub_features = prepare_features(test, test_proteins)\n",
        "    sub_predictions = get_predictions(sub_features,model)\n",
        "    submission = format_predictions(sub_predictions, sample_submission)\n",
        "\n",
        "    env.predict(submission)"
      ],
      "metadata": {
        "papermill": {
          "duration": 0.366494,
          "end_time": "2023-04-27T20:42:13.691550",
          "exception": false,
          "start_time": "2023-04-27T20:42:13.325056",
          "status": "completed"
        },
        "tags": [],
        "execution": {
          "iopub.status.busy": "2023-05-08T21:49:19.002475Z",
          "iopub.execute_input": "2023-05-08T21:49:19.002881Z",
          "iopub.status.idle": "2023-05-08T21:49:19.009078Z",
          "shell.execute_reply.started": "2023-05-08T21:49:19.002851Z",
          "shell.execute_reply": "2023-05-08T21:49:19.007875Z"
        },
        "trusted": true,
        "id": "7_RRrrEiMKcR"
      },
      "execution_count": null,
      "outputs": [],
      "id": "7_RRrrEiMKcR"
    },
    {
      "cell_type": "code",
      "source": [
        "pd.read_csv('/kaggle/working/submission.csv')"
      ],
      "metadata": {
        "papermill": {
          "duration": 0.031726,
          "end_time": "2023-04-27T20:42:13.736406",
          "exception": false,
          "start_time": "2023-04-27T20:42:13.704680",
          "status": "completed"
        },
        "tags": [],
        "execution": {
          "iopub.status.busy": "2023-05-08T21:49:23.469569Z",
          "iopub.execute_input": "2023-05-08T21:49:23.469929Z",
          "iopub.status.idle": "2023-05-08T21:49:23.484183Z",
          "shell.execute_reply.started": "2023-05-08T21:49:23.469902Z",
          "shell.execute_reply": "2023-05-08T21:49:23.483108Z"
        },
        "trusted": true,
        "id": "WiereJ1zMKcR",
        "outputId": "f40c71b5-0c16-4f83-b7c0-b033ec62a8aa"
      },
      "execution_count": null,
      "outputs": [
        {
          "execution_count": 49,
          "output_type": "execute_result",
          "data": {
            "text/plain": "                     prediction_id  rating\n0     3342_0_updrs_1_plus_0_months     7.0\n1     3342_0_updrs_1_plus_6_months     7.0\n2    3342_0_updrs_1_plus_12_months     8.0\n3    3342_0_updrs_1_plus_24_months     8.0\n4     3342_0_updrs_2_plus_0_months     7.0\n..                             ...     ...\n59  50423_6_updrs_3_plus_24_months    24.0\n60   50423_6_updrs_4_plus_0_months     0.0\n61   50423_6_updrs_4_plus_6_months     0.0\n62  50423_6_updrs_4_plus_12_months     0.0\n63  50423_6_updrs_4_plus_24_months     0.0\n\n[64 rows x 2 columns]",
            "text/html": "<div>\n<style scoped>\n    .dataframe tbody tr th:only-of-type {\n        vertical-align: middle;\n    }\n\n    .dataframe tbody tr th {\n        vertical-align: top;\n    }\n\n    .dataframe thead th {\n        text-align: right;\n    }\n</style>\n<table border=\"1\" class=\"dataframe\">\n  <thead>\n    <tr style=\"text-align: right;\">\n      <th></th>\n      <th>prediction_id</th>\n      <th>rating</th>\n    </tr>\n  </thead>\n  <tbody>\n    <tr>\n      <th>0</th>\n      <td>3342_0_updrs_1_plus_0_months</td>\n      <td>7.0</td>\n    </tr>\n    <tr>\n      <th>1</th>\n      <td>3342_0_updrs_1_plus_6_months</td>\n      <td>7.0</td>\n    </tr>\n    <tr>\n      <th>2</th>\n      <td>3342_0_updrs_1_plus_12_months</td>\n      <td>8.0</td>\n    </tr>\n    <tr>\n      <th>3</th>\n      <td>3342_0_updrs_1_plus_24_months</td>\n      <td>8.0</td>\n    </tr>\n    <tr>\n      <th>4</th>\n      <td>3342_0_updrs_2_plus_0_months</td>\n      <td>7.0</td>\n    </tr>\n    <tr>\n      <th>...</th>\n      <td>...</td>\n      <td>...</td>\n    </tr>\n    <tr>\n      <th>59</th>\n      <td>50423_6_updrs_3_plus_24_months</td>\n      <td>24.0</td>\n    </tr>\n    <tr>\n      <th>60</th>\n      <td>50423_6_updrs_4_plus_0_months</td>\n      <td>0.0</td>\n    </tr>\n    <tr>\n      <th>61</th>\n      <td>50423_6_updrs_4_plus_6_months</td>\n      <td>0.0</td>\n    </tr>\n    <tr>\n      <th>62</th>\n      <td>50423_6_updrs_4_plus_12_months</td>\n      <td>0.0</td>\n    </tr>\n    <tr>\n      <th>63</th>\n      <td>50423_6_updrs_4_plus_24_months</td>\n      <td>0.0</td>\n    </tr>\n  </tbody>\n</table>\n<p>64 rows × 2 columns</p>\n</div>"
          },
          "metadata": {}
        }
      ],
      "id": "WiereJ1zMKcR"
    },
    {
      "cell_type": "code",
      "source": [],
      "metadata": {
        "id": "OBlIxahbMKcS"
      },
      "execution_count": null,
      "outputs": [],
      "id": "OBlIxahbMKcS"
    },
    {
      "cell_type": "markdown",
      "source": [
        "# Sequential DL Model with RNN"
      ],
      "metadata": {
        "id": "Sb1PTti_MKcS"
      },
      "id": "Sb1PTti_MKcS"
    },
    {
      "cell_type": "code",
      "source": [
        "model = Sequential()\n",
        "model.add(SimpleRNN(128, input_shape=(X.shape[1], 1), activation='relu', return_sequences=True))\n",
        "model.add(Dropout(0.15))\n",
        "model.add(SimpleRNN(64, activation='relu', kernel_regularizer=regularizers.l2(0.01), return_sequences=True))\n",
        "model.add(Dropout(0.15))\n",
        "model.add(SimpleRNN(32, activation='relu', kernel_regularizer=regularizers.l2(0.01)))\n",
        "model.add(Dropout(0.15))\n",
        "model.add(Dense(y.shape[1], activation='linear'))\n",
        "\n",
        "model.compile(optimizer='adam', loss=smape_loss_plus_one, metrics=[smape_loss_plus_one])\n",
        "\n",
        "# Reshape input data to be suitable for GRU layers\n",
        "X_transformed = X_transformed.reshape(X_transformed.shape[0], X_transformed.shape[1], 1)\n",
        "\n",
        "history = model.fit(X_transformed, y, epochs=50, batch_size=64, validation_split=.2, verbose=False)\n",
        "\n",
        "\n",
        "import matplotlib.pyplot as plt\n",
        "\n",
        "fig, axs = plt.subplots(1, 2, figsize=(12, 5))\n",
        "\n",
        "# Plot training and validation loss\n",
        "axs[0].plot(history.history['loss'])\n",
        "axs[0].plot(history.history['val_loss'])\n",
        "axs[0].set_title('Model Loss')\n",
        "axs[0].set_xlabel('Epoch')\n",
        "axs[0].set_ylabel('Loss')\n",
        "axs[0].legend(['Training', 'Validation'])\n",
        "\n",
        "# Plot training and validation SMAPE+1\n",
        "axs[1].plot(history.history['smape_loss_plus_one'])\n",
        "axs[1].plot(history.history['val_smape_loss_plus_one'])\n",
        "axs[1].set_title('Model SMAPE+1')\n",
        "axs[1].set_xlabel('Epoch')\n",
        "axs[1].set_ylabel('SMAPE+1')\n",
        "axs[1].legend(['Training', 'Validation'])\n",
        "\n",
        "plt.show()\n",
        "\n",
        "# Print the final training and validation loss\n",
        "print('Final training loss:', history.history['loss'][-1])\n",
        "print('Final validation loss:', history.history['val_loss'][-1])"
      ],
      "metadata": {
        "papermill": {
          "duration": 2.852082,
          "end_time": "2023-04-27T20:39:48.998258",
          "exception": false,
          "start_time": "2023-04-27T20:39:46.146176",
          "status": "completed"
        },
        "tags": [],
        "execution": {
          "iopub.status.busy": "2023-05-08T21:50:25.127827Z",
          "iopub.execute_input": "2023-05-08T21:50:25.128917Z",
          "iopub.status.idle": "2023-05-08T21:52:33.242271Z",
          "shell.execute_reply.started": "2023-05-08T21:50:25.128877Z",
          "shell.execute_reply": "2023-05-08T21:52:33.241354Z"
        },
        "trusted": true,
        "id": "6vwB0vsiMKcS",
        "outputId": "7793df4e-b0dc-4a69-ee37-a5db97c02bba"
      },
      "execution_count": null,
      "outputs": [
        {
          "output_type": "display_data",
          "data": {
            "text/plain": "<Figure size 1200x500 with 2 Axes>",
            "image/png": "[encoded data removed]"
          },
          "metadata": {}
        },
        {
          "name": "stdout",
          "text": "Final training loss: 0.6029387712478638\nFinal validation loss: 0.565978467464447\n",
          "output_type": "stream"
        }
      ],
      "id": "6vwB0vsiMKcS"
    },
    {
      "cell_type": "code",
      "source": [
        "# Prepare test features\n",
        "test_features = prepare_features(clinical, test_proteins)\n",
        "\n",
        "# Make predictions for test features\n",
        "test_predictions = get_predictions(test_features, model)\n",
        "\n",
        "# Format predictions for submission\n",
        "test_submission = format_predictions(test_predictions, sample_submission)\n",
        "\n",
        "# Print the first few rows of the submission\n",
        "print(test_submission.head())\n",
        "\n"
      ],
      "metadata": {
        "execution": {
          "iopub.status.busy": "2023-05-08T21:52:33.243922Z",
          "iopub.execute_input": "2023-05-08T21:52:33.244561Z",
          "iopub.status.idle": "2023-05-08T21:52:33.835249Z",
          "shell.execute_reply.started": "2023-05-08T21:52:33.244528Z",
          "shell.execute_reply": "2023-05-08T21:52:33.834175Z"
        },
        "trusted": true,
        "id": "wsAQBpW5MKcS",
        "outputId": "d92d7532-e2b9-45d7-d258-4e5edfac2752"
      },
      "execution_count": null,
      "outputs": [
        {
          "name": "stdout",
          "text": "1/1 [==============================] - 0s 358ms/step\n                   prediction_id  rating\n0   3342_6_updrs_1_plus_0_months     9.0\n1   3342_6_updrs_1_plus_6_months     9.0\n2  3342_6_updrs_1_plus_12_months    10.0\n3  3342_6_updrs_1_plus_24_months    10.0\n4   3342_6_updrs_2_plus_0_months     9.0\n",
          "output_type": "stream"
        }
      ],
      "id": "wsAQBpW5MKcS"
    },
    {
      "cell_type": "code",
      "source": [
        "test_features = prepare_features(clinical, test_proteins)\n",
        "test_predictions = get_predictions(test_features,model)\n",
        "test_submission = format_predictions(test_predictions, sample_submission)\n",
        "test_submission"
      ],
      "metadata": {
        "papermill": {
          "duration": 0.318552,
          "end_time": "2023-04-27T20:42:13.198630",
          "exception": false,
          "start_time": "2023-04-27T20:42:12.880078",
          "status": "completed"
        },
        "tags": [],
        "execution": {
          "iopub.status.busy": "2023-05-08T21:52:33.837058Z",
          "iopub.execute_input": "2023-05-08T21:52:33.837436Z",
          "iopub.status.idle": "2023-05-08T21:52:34.141353Z",
          "shell.execute_reply.started": "2023-05-08T21:52:33.837399Z",
          "shell.execute_reply": "2023-05-08T21:52:34.140239Z"
        },
        "trusted": true,
        "id": "5YzPmyQ_MKcS",
        "outputId": "45a758ce-f25b-470c-c3e5-2b200781e68d"
      },
      "execution_count": null,
      "outputs": [
        {
          "name": "stdout",
          "text": "1/1 [==============================] - 0s 56ms/step\n",
          "output_type": "stream"
        },
        {
          "execution_count": 54,
          "output_type": "execute_result",
          "data": {
            "text/plain": "                     prediction_id  rating\n0     3342_6_updrs_1_plus_0_months     9.0\n1     3342_6_updrs_1_plus_6_months     9.0\n2    3342_6_updrs_1_plus_12_months    10.0\n3    3342_6_updrs_1_plus_24_months    10.0\n4     3342_6_updrs_2_plus_0_months     9.0\n5     3342_6_updrs_2_plus_6_months     9.0\n6    3342_6_updrs_2_plus_12_months    10.0\n7    3342_6_updrs_2_plus_24_months    11.0\n8     3342_6_updrs_3_plus_0_months    27.0\n9     3342_6_updrs_3_plus_6_months    26.0\n10   3342_6_updrs_3_plus_12_months    30.0\n11   3342_6_updrs_3_plus_24_months    30.0\n12    3342_6_updrs_4_plus_0_months     0.0\n13    3342_6_updrs_4_plus_6_months     0.0\n14   3342_6_updrs_4_plus_12_months     0.0\n15   3342_6_updrs_4_plus_24_months     0.0\n16   50423_6_updrs_1_plus_0_months     6.0\n17   50423_6_updrs_1_plus_6_months     6.0\n18  50423_6_updrs_1_plus_12_months     7.0\n19  50423_6_updrs_1_plus_24_months     7.0\n20   50423_6_updrs_2_plus_0_months     6.0\n21   50423_6_updrs_2_plus_6_months     6.0\n22  50423_6_updrs_2_plus_12_months     7.0\n23  50423_6_updrs_2_plus_24_months     7.0\n24   50423_6_updrs_3_plus_0_months    18.0\n25   50423_6_updrs_3_plus_6_months    18.0\n26  50423_6_updrs_3_plus_12_months    20.0\n27  50423_6_updrs_3_plus_24_months    20.0\n28   50423_6_updrs_4_plus_0_months     0.0\n29   50423_6_updrs_4_plus_6_months     0.0\n30  50423_6_updrs_4_plus_12_months     0.0\n31  50423_6_updrs_4_plus_24_months     0.0",
            "text/html": "<div>\n<style scoped>\n    .dataframe tbody tr th:only-of-type {\n        vertical-align: middle;\n    }\n\n    .dataframe tbody tr th {\n        vertical-align: top;\n    }\n\n    .dataframe thead th {\n        text-align: right;\n    }\n</style>\n<table border=\"1\" class=\"dataframe\">\n  <thead>\n    <tr style=\"text-align: right;\">\n      <th></th>\n      <th>prediction_id</th>\n      <th>rating</th>\n    </tr>\n  </thead>\n  <tbody>\n    <tr>\n      <th>0</th>\n      <td>3342_6_updrs_1_plus_0_months</td>\n      <td>9.0</td>\n    </tr>\n    <tr>\n      <th>1</th>\n      <td>3342_6_updrs_1_plus_6_months</td>\n      <td>9.0</td>\n    </tr>\n    <tr>\n      <th>2</th>\n      <td>3342_6_updrs_1_plus_12_months</td>\n      <td>10.0</td>\n    </tr>\n    <tr>\n      <th>3</th>\n      <td>3342_6_updrs_1_plus_24_months</td>\n      <td>10.0</td>\n    </tr>\n    <tr>\n      <th>4</th>\n      <td>3342_6_updrs_2_plus_0_months</td>\n      <td>9.0</td>\n    </tr>\n    <tr>\n      <th>5</th>\n      <td>3342_6_updrs_2_plus_6_months</td>\n      <td>9.0</td>\n    </tr>\n    <tr>\n      <th>6</th>\n      <td>3342_6_updrs_2_plus_12_months</td>\n      <td>10.0</td>\n    </tr>\n    <tr>\n      <th>7</th>\n      <td>3342_6_updrs_2_plus_24_months</td>\n      <td>11.0</td>\n    </tr>\n    <tr>\n      <th>8</th>\n      <td>3342_6_updrs_3_plus_0_months</td>\n      <td>27.0</td>\n    </tr>\n    <tr>\n      <th>9</th>\n      <td>3342_6_updrs_3_plus_6_months</td>\n      <td>26.0</td>\n    </tr>\n    <tr>\n      <th>10</th>\n      <td>3342_6_updrs_3_plus_12_months</td>\n      <td>30.0</td>\n    </tr>\n    <tr>\n      <th>11</th>\n      <td>3342_6_updrs_3_plus_24_months</td>\n      <td>30.0</td>\n    </tr>\n    <tr>\n      <th>12</th>\n      <td>3342_6_updrs_4_plus_0_months</td>\n      <td>0.0</td>\n    </tr>\n    <tr>\n      <th>13</th>\n      <td>3342_6_updrs_4_plus_6_months</td>\n      <td>0.0</td>\n    </tr>\n    <tr>\n      <th>14</th>\n      <td>3342_6_updrs_4_plus_12_months</td>\n      <td>0.0</td>\n    </tr>\n    <tr>\n      <th>15</th>\n      <td>3342_6_updrs_4_plus_24_months</td>\n      <td>0.0</td>\n    </tr>\n    <tr>\n      <th>16</th>\n      <td>50423_6_updrs_1_plus_0_months</td>\n      <td>6.0</td>\n    </tr>\n    <tr>\n      <th>17</th>\n      <td>50423_6_updrs_1_plus_6_months</td>\n      <td>6.0</td>\n    </tr>\n    <tr>\n      <th>18</th>\n      <td>50423_6_updrs_1_plus_12_months</td>\n      <td>7.0</td>\n    </tr>\n    <tr>\n      <th>19</th>\n      <td>50423_6_updrs_1_plus_24_months</td>\n      <td>7.0</td>\n    </tr>\n    <tr>\n      <th>20</th>\n      <td>50423_6_updrs_2_plus_0_months</td>\n      <td>6.0</td>\n    </tr>\n    <tr>\n      <th>21</th>\n      <td>50423_6_updrs_2_plus_6_months</td>\n      <td>6.0</td>\n    </tr>\n    <tr>\n      <th>22</th>\n      <td>50423_6_updrs_2_plus_12_months</td>\n      <td>7.0</td>\n    </tr>\n    <tr>\n      <th>23</th>\n      <td>50423_6_updrs_2_plus_24_months</td>\n      <td>7.0</td>\n    </tr>\n    <tr>\n      <th>24</th>\n      <td>50423_6_updrs_3_plus_0_months</td>\n      <td>18.0</td>\n    </tr>\n    <tr>\n      <th>25</th>\n      <td>50423_6_updrs_3_plus_6_months</td>\n      <td>18.0</td>\n    </tr>\n    <tr>\n      <th>26</th>\n      <td>50423_6_updrs_3_plus_12_months</td>\n      <td>20.0</td>\n    </tr>\n    <tr>\n      <th>27</th>\n      <td>50423_6_updrs_3_plus_24_months</td>\n      <td>20.0</td>\n    </tr>\n    <tr>\n      <th>28</th>\n      <td>50423_6_updrs_4_plus_0_months</td>\n      <td>0.0</td>\n    </tr>\n    <tr>\n      <th>29</th>\n      <td>50423_6_updrs_4_plus_6_months</td>\n      <td>0.0</td>\n    </tr>\n    <tr>\n      <th>30</th>\n      <td>50423_6_updrs_4_plus_12_months</td>\n      <td>0.0</td>\n    </tr>\n    <tr>\n      <th>31</th>\n      <td>50423_6_updrs_4_plus_24_months</td>\n      <td>0.0</td>\n    </tr>\n  </tbody>\n</table>\n</div>"
          },
          "metadata": {}
        }
      ],
      "id": "5YzPmyQ_MKcS"
    },
    {
      "cell_type": "markdown",
      "source": [
        "### Submission for Sequential Model with RNN"
      ],
      "metadata": {
        "papermill": {
          "duration": 0.012884,
          "end_time": "2023-04-27T20:42:13.224664",
          "exception": false,
          "start_time": "2023-04-27T20:42:13.211780",
          "status": "completed"
        },
        "tags": [],
        "id": "mp33ANERMKcS"
      },
      "id": "mp33ANERMKcS"
    },
    {
      "cell_type": "code",
      "source": [
        "import sys\n",
        "sys.path.append('/kaggle/input/amp-parkinsons-disease-progression-prediction')\n",
        "\n",
        "import amp_pd_peptide_310\n",
        "env = amp_pd_peptide.make_env()   # environment provided by competition\n",
        "iter_test = env.iter_test()"
      ],
      "metadata": {
        "id": "5c67cA_xMKcT"
      },
      "execution_count": null,
      "outputs": [],
      "id": "5c67cA_xMKcT"
    },
    {
      "cell_type": "code",
      "source": [
        "for (test, test_peptides, test_proteins, sample_submission) in iter_test:\n",
        "    sub_features = prepare_features(test, test_proteins)\n",
        "    sub_predictions = get_predictions(sub_features,model)\n",
        "    submission = format_predictions(sub_predictions, sample_submission)\n",
        "\n",
        "    env.predict(submission)"
      ],
      "metadata": {
        "papermill": {
          "duration": 0.366494,
          "end_time": "2023-04-27T20:42:13.691550",
          "exception": false,
          "start_time": "2023-04-27T20:42:13.325056",
          "status": "completed"
        },
        "tags": [],
        "execution": {
          "iopub.status.busy": "2023-05-08T21:52:34.144286Z",
          "iopub.execute_input": "2023-05-08T21:52:34.145225Z",
          "iopub.status.idle": "2023-05-08T21:52:34.151931Z",
          "shell.execute_reply.started": "2023-05-08T21:52:34.145175Z",
          "shell.execute_reply": "2023-05-08T21:52:34.151000Z"
        },
        "trusted": true,
        "id": "Uo9WUbP6MKcT"
      },
      "execution_count": null,
      "outputs": [],
      "id": "Uo9WUbP6MKcT"
    },
    {
      "cell_type": "code",
      "source": [
        "pd.read_csv('/kaggle/working/submission.csv')"
      ],
      "metadata": {
        "papermill": {
          "duration": 0.031726,
          "end_time": "2023-04-27T20:42:13.736406",
          "exception": false,
          "start_time": "2023-04-27T20:42:13.704680",
          "status": "completed"
        },
        "tags": [],
        "execution": {
          "iopub.status.busy": "2023-05-08T21:52:34.153232Z",
          "iopub.execute_input": "2023-05-08T21:52:34.154030Z",
          "iopub.status.idle": "2023-05-08T21:52:34.173116Z",
          "shell.execute_reply.started": "2023-05-08T21:52:34.153993Z",
          "shell.execute_reply": "2023-05-08T21:52:34.172137Z"
        },
        "trusted": true,
        "id": "4jFw719WMKcT",
        "outputId": "a6d88346-a2d9-4f74-b3b1-5eee4815c99b"
      },
      "execution_count": null,
      "outputs": [
        {
          "execution_count": 56,
          "output_type": "execute_result",
          "data": {
            "text/plain": "                     prediction_id  rating\n0     3342_0_updrs_1_plus_0_months     7.0\n1     3342_0_updrs_1_plus_6_months     7.0\n2    3342_0_updrs_1_plus_12_months     8.0\n3    3342_0_updrs_1_plus_24_months     8.0\n4     3342_0_updrs_2_plus_0_months     7.0\n..                             ...     ...\n59  50423_6_updrs_3_plus_24_months    24.0\n60   50423_6_updrs_4_plus_0_months     0.0\n61   50423_6_updrs_4_plus_6_months     0.0\n62  50423_6_updrs_4_plus_12_months     0.0\n63  50423_6_updrs_4_plus_24_months     0.0\n\n[64 rows x 2 columns]",
            "text/html": "<div>\n<style scoped>\n    .dataframe tbody tr th:only-of-type {\n        vertical-align: middle;\n    }\n\n    .dataframe tbody tr th {\n        vertical-align: top;\n    }\n\n    .dataframe thead th {\n        text-align: right;\n    }\n</style>\n<table border=\"1\" class=\"dataframe\">\n  <thead>\n    <tr style=\"text-align: right;\">\n      <th></th>\n      <th>prediction_id</th>\n      <th>rating</th>\n    </tr>\n  </thead>\n  <tbody>\n    <tr>\n      <th>0</th>\n      <td>3342_0_updrs_1_plus_0_months</td>\n      <td>7.0</td>\n    </tr>\n    <tr>\n      <th>1</th>\n      <td>3342_0_updrs_1_plus_6_months</td>\n      <td>7.0</td>\n    </tr>\n    <tr>\n      <th>2</th>\n      <td>3342_0_updrs_1_plus_12_months</td>\n      <td>8.0</td>\n    </tr>\n    <tr>\n      <th>3</th>\n      <td>3342_0_updrs_1_plus_24_months</td>\n      <td>8.0</td>\n    </tr>\n    <tr>\n      <th>4</th>\n      <td>3342_0_updrs_2_plus_0_months</td>\n      <td>7.0</td>\n    </tr>\n    <tr>\n      <th>...</th>\n      <td>...</td>\n      <td>...</td>\n    </tr>\n    <tr>\n      <th>59</th>\n      <td>50423_6_updrs_3_plus_24_months</td>\n      <td>24.0</td>\n    </tr>\n    <tr>\n      <th>60</th>\n      <td>50423_6_updrs_4_plus_0_months</td>\n      <td>0.0</td>\n    </tr>\n    <tr>\n      <th>61</th>\n      <td>50423_6_updrs_4_plus_6_months</td>\n      <td>0.0</td>\n    </tr>\n    <tr>\n      <th>62</th>\n      <td>50423_6_updrs_4_plus_12_months</td>\n      <td>0.0</td>\n    </tr>\n    <tr>\n      <th>63</th>\n      <td>50423_6_updrs_4_plus_24_months</td>\n      <td>0.0</td>\n    </tr>\n  </tbody>\n</table>\n<p>64 rows × 2 columns</p>\n</div>"
          },
          "metadata": {}
        }
      ],
      "id": "4jFw719WMKcT"
    },
    {
      "cell_type": "code",
      "source": [
        "#### The Notebooks were sent for submission to Kaggle separately where kaggle scored the notebook on hidden test data. The detailed scoring information is provided in the report."
      ],
      "metadata": {
        "id": "TCsCaH8XMKcT"
      },
      "execution_count": null,
      "outputs": [],
      "id": "TCsCaH8XMKcT"
    },
    {
      "cell_type": "markdown",
      "source": [
        "References: https://www.kaggle.com/code/umbertofasci/amp-pdpp-eda-tf-model/notebook#sMAPE-Function"
      ],
      "metadata": {
        "id": "S2mZxxKlMKcT"
      },
      "id": "S2mZxxKlMKcT"
    }
  ]
}
